{
 "cells": [
  {
   "cell_type": "markdown",
   "id": "9e476f19-ddfb-458a-b0fb-6b692d427290",
   "metadata": {},
   "source": [
    "Query from fake bank database stored in [data/db/fake_bank.db](data/db/fake_bank.db)"
   ]
  },
  {
   "cell_type": "code",
   "execution_count": 1,
   "id": "86ee279f-3429-4b94-b5be-5c0341d99123",
   "metadata": {},
   "outputs": [],
   "source": [
    "import os\n",
    "from dotenv import load_dotenv\n",
    "\n",
    "#openai\n",
    "import openai\n",
    "\n",
    "# ibm genai\n",
    "from genai.credentials import Credentials\n",
    "from genai.model import Model\n",
    "from genai.schemas import GenerateParams, ModelType\n",
    "from genai.extensions.langchain import LangChainInterface  # langchain support\n",
    "\n",
    "# langchain\n",
    "from langchain.sql_database import SQLDatabase\n",
    "from langchain.agents import create_sql_agent\n",
    "from langchain.agents.agent_toolkits import SQLDatabaseToolkit\n",
    "from langchain.agents import AgentExecutor\n",
    "from langchain.agents.agent_types import AgentType\n",
    "from langchain.llms import OpenAI\n",
    "\n",
    "load_dotenv()\n",
    "api_key = os.getenv(\"GENAI_KEY\", None)\n",
    "api_url = os.getenv(\"GENAI_API\", None)\n",
    "creds = Credentials(api_key, api_endpoint=api_url)\n",
    "openai.api_key = os.getenv('OPENAI_API_KEY')"
   ]
  },
  {
   "cell_type": "code",
   "execution_count": 2,
   "id": "9cd4c0f5-cf4e-48c4-b381-41f4e6a2ef9e",
   "metadata": {},
   "outputs": [],
   "source": [
    "# load model\n",
    "\n",
    "\"\"\"\n",
    "llm = LangChainInterface(\n",
    "        model=ModelType.FLAN_UL2,  # choice of model is not necessarily optimal\n",
    "        #model=ModelType.CODEGEN_MONO_16B,  # didn't work well\n",
    "        credentials=Credentials(os.environ.get(\"GENAI_KEY\")),\n",
    "        params=GenerateParams(\n",
    "            decoding_method=\"greedy\",\n",
    "            max_new_tokens=1024,\n",
    "            min_new_tokens=1,\n",
    "            repetition_penalty=2,\n",
    "        ).dict()\n",
    "    )\n",
    "\"\"\"\n",
    "llm = OpenAI(temperature=0)"
   ]
  },
  {
   "cell_type": "code",
   "execution_count": 3,
   "id": "6fd04e24-518d-45fb-b019-10f2fa2ea03b",
   "metadata": {},
   "outputs": [],
   "source": [
    "# database connection and chain\n",
    "db = SQLDatabase.from_uri(\"sqlite:///./data/db/fake_bank.db\")\n",
    "toolkit = SQLDatabaseToolkit(db=db, llm=llm)\n",
    "\n",
    "db_chain = create_sql_agent(\n",
    "    llm=llm,\n",
    "    toolkit=toolkit,\n",
    "    verbose=True,ersonal\n",
    "    agent_type=AgentType.ZERO_SHOT_REACT_DESCRIPTION,\n",
    ")\n",
    "db_chain.handle_parsing_errors = True"
   ]
  },
  {
   "cell_type": "code",
   "execution_count": 5,
   "id": "3330a6b0-2cb5-464d-83db-712cb56df11f",
   "metadata": {},
   "outputs": [
    {
     "name": "stdout",
     "output_type": "stream",
     "text": [
      "\n",
      "\n",
      "\u001b[1m> Entering new  chain...\u001b[0m\n",
      "\u001b[32;1m\u001b[1;3mAction: sql_db_list_tables\n",
      "Action Input: \u001b[0m\n",
      "Observation: \u001b[38;5;200m\u001b[1;3maccounts, clients, transactions\u001b[0m\n",
      "Thought:\u001b[32;1m\u001b[1;3m I should query the schema of the clients table to see what columns I can use.\n",
      "Action: sql_db_schema\n",
      "Action Input: clients\u001b[0m\n",
      "Observation: \u001b[33;1m\u001b[1;3m\n",
      "CREATE TABLE clients (\n",
      "\t\"Client_Name\" TEXT, \n",
      "\t\"Client_Key\" BIGINT\n",
      ")\n",
      "\n",
      "/*\n",
      "3 rows from clients table:\n",
      "Client_Name\tClient_Key\n",
      "richie mcrface\t1234\n",
      "robbie barker\t2345\n",
      "sum yung gai\t3456\n",
      "*/\u001b[0m\n",
      "Thought:\u001b[32;1m\u001b[1;3m I should query the Client_Key column to get the number of unique clients.\n",
      "Action: sql_db_query\n",
      "Action Input: SELECT COUNT(DISTINCT Client_Key) FROM clients\u001b[0m\n",
      "Observation: \u001b[36;1m\u001b[1;3m[(6,)]\u001b[0m\n",
      "Thought:\u001b[32;1m\u001b[1;3m I now know the final answer\n",
      "Final Answer: There are 6 unique clients in the bank.\u001b[0m\n",
      "\n",
      "\u001b[1m> Finished chain.\u001b[0m\n"
     ]
    },
    {
     "data": {
      "text/plain": [
       "'There are 6 unique clients in the bank.'"
      ]
     },
     "execution_count": 5,
     "metadata": {},
     "output_type": "execute_result"
    }
   ],
   "source": [
    "# correct\n",
    "db_chain.run('how many unique clients are in the bank?')"
   ]
  },
  {
   "cell_type": "code",
   "execution_count": 6,
   "id": "a20bbb80-25fd-4b2f-bcd0-d2ca64a738a9",
   "metadata": {},
   "outputs": [
    {
     "name": "stdout",
     "output_type": "stream",
     "text": [
      "\n",
      "\n",
      "\u001b[1m> Entering new  chain...\u001b[0m\n",
      "\u001b[32;1m\u001b[1;3mThought: I should use the list_tables_sql_db tool to get a list of tables in the database.\n",
      "Action: sql_db_list_tables\n",
      "Action Input: \"\"\u001b[0m\n",
      "Observation: \u001b[38;5;200m\u001b[1;3maccounts, clients, transactions\u001b[0m\n",
      "Thought:\u001b[32;1m\u001b[1;3m I should query the schema of the accounts table to see what columns I can use.\n",
      "Action: sql_db_schema\n",
      "Action Input: \"accounts\"\u001b[0m\n",
      "Observation: \u001b[33;1m\u001b[1;3m\n",
      "CREATE TABLE accounts (\n",
      "\t\"Account_Key\" BIGINT, \n",
      "\t\"Client_key\" BIGINT, \n",
      "\t\"Product_Family\" TEXT, \n",
      "\t\"Account_Type\" TEXT, \n",
      "\t\"Balance\" FLOAT, \n",
      "\t\"Monthly_Average_Balance\" FLOAT\n",
      ")\n",
      "\n",
      "/*\n",
      "3 rows from accounts table:\n",
      "Account_Key\tClient_key\tProduct_Family\tAccount_Type\tBalance\tMonthly_Average_Balance\n",
      "1\t1234\tdeposit\tchecking\t3450.23\t45.12\n",
      "2\t1234\tdeposit\tsavings\t13987.23\t123980.0\n",
      "3\t1234\tloan\tmulti-family-residential\t1230000.0\tNone\n",
      "*/\u001b[0m\n",
      "Thought:\u001b[32;1m\u001b[1;3m I should query the accounts table for the number of accounts of the deposit product family.\n",
      "Action: sql_db_query\n",
      "Action Input: SELECT COUNT(*) FROM accounts WHERE Product_Family = 'deposit'\u001b[0m\n",
      "Observation: \u001b[36;1m\u001b[1;3m[(11,)]\u001b[0m\n",
      "Thought:\u001b[32;1m\u001b[1;3m I now know the final answer.\n",
      "Final Answer: There are 11 accounts of the deposit product family in the bank.\u001b[0m\n",
      "\n",
      "\u001b[1m> Finished chain.\u001b[0m\n"
     ]
    },
    {
     "data": {
      "text/plain": [
       "'There are 11 accounts of the deposit product family in the bank.'"
      ]
     },
     "execution_count": 6,
     "metadata": {},
     "output_type": "execute_result"
    }
   ],
   "source": [
    "# correct\n",
    "db_chain.run('how many accounts are of the deposit product family in the bank?')"
   ]
  },
  {
   "cell_type": "code",
   "execution_count": 7,
   "id": "453f4a6d-ac43-49b2-8c64-cb0266f3af3c",
   "metadata": {},
   "outputs": [
    {
     "name": "stdout",
     "output_type": "stream",
     "text": [
      "\n",
      "\n",
      "\u001b[1m> Entering new  chain...\u001b[0m\n",
      "\u001b[32;1m\u001b[1;3mAction: sql_db_list_tables\n",
      "Action Input: \u001b[0m\n",
      "Observation: \u001b[38;5;200m\u001b[1;3maccounts, clients, transactions\u001b[0m\n",
      "Thought:\u001b[32;1m\u001b[1;3m I should query the schema of the accounts table to see what columns I can use.\n",
      "Action: sql_db_schema\n",
      "Action Input: accounts\u001b[0m\n",
      "Observation: \u001b[33;1m\u001b[1;3m\n",
      "CREATE TABLE accounts (\n",
      "\t\"Account_Key\" BIGINT, \n",
      "\t\"Client_key\" BIGINT, \n",
      "\t\"Product_Family\" TEXT, \n",
      "\t\"Account_Type\" TEXT, \n",
      "\t\"Balance\" FLOAT, \n",
      "\t\"Monthly_Average_Balance\" FLOAT\n",
      ")\n",
      "\n",
      "/*\n",
      "3 rows from accounts table:\n",
      "Account_Key\tClient_key\tProduct_Family\tAccount_Type\tBalance\tMonthly_Average_Balance\n",
      "1\t1234\tdeposit\tchecking\t3450.23\t45.12\n",
      "2\t1234\tdeposit\tsavings\t13987.23\t123980.0\n",
      "3\t1234\tloan\tmulti-family-residential\t1230000.0\tNone\n",
      "*/\u001b[0m\n",
      "Thought:\u001b[32;1m\u001b[1;3m I should query the sum of the balance column in the accounts table where the product family is deposit.\n",
      "Action: sql_db_query\n",
      "Action Input: SELECT SUM(Balance) FROM accounts WHERE Product_Family = 'deposit'\u001b[0m\n",
      "Observation: \u001b[36;1m\u001b[1;3m[(20197586.46,)]\u001b[0m\n",
      "Thought:\u001b[32;1m\u001b[1;3m I now know the final answer\n",
      "Final Answer: The sum of the dollars in the deposit product family accounts is 20197586.46.\u001b[0m\n",
      "\n",
      "\u001b[1m> Finished chain.\u001b[0m\n"
     ]
    },
    {
     "data": {
      "text/plain": [
       "'The sum of the dollars in the deposit product family accounts is 20197586.46.'"
      ]
     },
     "execution_count": 7,
     "metadata": {},
     "output_type": "execute_result"
    }
   ],
   "source": [
    "# correct\n",
    "db_chain.run('sum the dollars in the deposit product family accounts')"
   ]
  },
  {
   "cell_type": "code",
   "execution_count": 8,
   "id": "ca512338-6a5a-484a-b282-712900121e3c",
   "metadata": {},
   "outputs": [
    {
     "name": "stdout",
     "output_type": "stream",
     "text": [
      "\n",
      "\n",
      "\u001b[1m> Entering new  chain...\u001b[0m\n",
      "\u001b[32;1m\u001b[1;3mAction: sql_db_list_tables\n",
      "Action Input: \"\"\u001b[0m\n",
      "Observation: \u001b[38;5;200m\u001b[1;3maccounts, clients, transactions\u001b[0m\n",
      "Thought:\u001b[32;1m\u001b[1;3m I should query the schema of the accounts and transactions tables\n",
      "Action: sql_db_schema\n",
      "Action Input: \"accounts, transactions\"\u001b[0m\n",
      "Observation: \u001b[33;1m\u001b[1;3m\n",
      "CREATE TABLE accounts (\n",
      "\t\"Account_Key\" BIGINT, \n",
      "\t\"Client_key\" BIGINT, \n",
      "\t\"Product_Family\" TEXT, \n",
      "\t\"Account_Type\" TEXT, \n",
      "\t\"Balance\" FLOAT, \n",
      "\t\"Monthly_Average_Balance\" FLOAT\n",
      ")\n",
      "\n",
      "/*\n",
      "3 rows from accounts table:\n",
      "Account_Key\tClient_key\tProduct_Family\tAccount_Type\tBalance\tMonthly_Average_Balance\n",
      "1\t1234\tdeposit\tchecking\t3450.23\t45.12\n",
      "2\t1234\tdeposit\tsavings\t13987.23\t123980.0\n",
      "3\t1234\tloan\tmulti-family-residential\t1230000.0\tNone\n",
      "*/\n",
      "\n",
      "\n",
      "CREATE TABLE transactions (\n",
      "\t\"Account_key\" BIGINT, \n",
      "\t\"Client_key\" BIGINT, \n",
      "\t\"Amount\" BIGINT, \n",
      "\t\"Description\" TEXT\n",
      ")\n",
      "\n",
      "/*\n",
      "3 rows from transactions table:\n",
      "Account_key\tClient_key\tAmount\tDescription\n",
      "1\t1234\t-5\tstarbucks coffee\n",
      "2\t1234\t-100\ttransfer to bob\n",
      "1\t1234\t200\tincoming direct deposit\n",
      "*/\u001b[0m\n",
      "Thought:\u001b[32;1m\u001b[1;3m I should query the sum of the monthly average balance in deposit accounts\n",
      "Action: sql_db_query\n",
      "Action Input: \"SELECT SUM(Monthly_Average_Balance) FROM accounts WHERE Product_Family = 'deposit'\"\u001b[0m\n",
      "Observation: \u001b[36;1m\u001b[1;3m[(20224834.48,)]\u001b[0m\n",
      "Thought:\u001b[32;1m\u001b[1;3m I now know the final answer\n",
      "Final Answer: The sum of the monthly average balance in deposit accounts is 20224834.48.\u001b[0m\n",
      "\n",
      "\u001b[1m> Finished chain.\u001b[0m\n"
     ]
    },
    {
     "data": {
      "text/plain": [
       "'The sum of the monthly average balance in deposit accounts is 20224834.48.'"
      ]
     },
     "execution_count": 8,
     "metadata": {},
     "output_type": "execute_result"
    }
   ],
   "source": [
    "# correct\n",
    "db_chain.run('sum the monthly average balance in deposit accounts')"
   ]
  },
  {
   "cell_type": "code",
   "execution_count": 9,
   "id": "c921b0aa-9e89-4a02-8e23-d3357e1d00e4",
   "metadata": {},
   "outputs": [
    {
     "name": "stdout",
     "output_type": "stream",
     "text": [
      "\n",
      "\n",
      "\u001b[1m> Entering new  chain...\u001b[0m\n",
      "\u001b[32;1m\u001b[1;3mAction: sql_db_list_tables\n",
      "Action Input: \u001b[0m\n",
      "Observation: \u001b[38;5;200m\u001b[1;3maccounts, clients, transactions\u001b[0m\n",
      "Thought:\u001b[32;1m\u001b[1;3m I should query the schema of the accounts and clients tables\n",
      "Action: sql_db_schema\n",
      "Action Input: accounts, clients\u001b[0m\n",
      "Observation: \u001b[33;1m\u001b[1;3m\n",
      "CREATE TABLE accounts (\n",
      "\t\"Account_Key\" BIGINT, \n",
      "\t\"Client_key\" BIGINT, \n",
      "\t\"Product_Family\" TEXT, \n",
      "\t\"Account_Type\" TEXT, \n",
      "\t\"Balance\" FLOAT, \n",
      "\t\"Monthly_Average_Balance\" FLOAT\n",
      ")\n",
      "\n",
      "/*\n",
      "3 rows from accounts table:\n",
      "Account_Key\tClient_key\tProduct_Family\tAccount_Type\tBalance\tMonthly_Average_Balance\n",
      "1\t1234\tdeposit\tchecking\t3450.23\t45.12\n",
      "2\t1234\tdeposit\tsavings\t13987.23\t123980.0\n",
      "3\t1234\tloan\tmulti-family-residential\t1230000.0\tNone\n",
      "*/\n",
      "\n",
      "\n",
      "CREATE TABLE clients (\n",
      "\t\"Client_Name\" TEXT, \n",
      "\t\"Client_Key\" BIGINT\n",
      ")\n",
      "\n",
      "/*\n",
      "3 rows from clients table:\n",
      "Client_Name\tClient_Key\n",
      "richie mcrface\t1234\n",
      "robbie barker\t2345\n",
      "sum yung gai\t3456\n",
      "*/\u001b[0m\n",
      "Thought:\u001b[32;1m\u001b[1;3m I should query the accounts table for the sum of the balance and group by client where product family is deposit\n",
      "Action: sql_db_query\n",
      "Action Input: SELECT Client_Name, SUM(Balance) FROM accounts WHERE Product_Family = 'deposit' GROUP BY Client_Key\u001b[0m\n",
      "Observation: \u001b[36;1m\u001b[1;3mError: (sqlite3.OperationalError) no such column: Client_Name\n",
      "[SQL: SELECT Client_Name, SUM(Balance) FROM accounts WHERE Product_Family = 'deposit' GROUP BY Client_Key]\n",
      "(Background on this error at: https://sqlalche.me/e/20/e3q8)\u001b[0m\n",
      "Thought:\u001b[32;1m\u001b[1;3m I should query the correct columns\n",
      "Action: sql_db_schema\n",
      "Action Input: accounts\u001b[0m\n",
      "Observation: \u001b[33;1m\u001b[1;3m\n",
      "CREATE TABLE accounts (\n",
      "\t\"Account_Key\" BIGINT, \n",
      "\t\"Client_key\" BIGINT, \n",
      "\t\"Product_Family\" TEXT, \n",
      "\t\"Account_Type\" TEXT, \n",
      "\t\"Balance\" FLOAT, \n",
      "\t\"Monthly_Average_Balance\" FLOAT\n",
      ")\n",
      "\n",
      "/*\n",
      "3 rows from accounts table:\n",
      "Account_Key\tClient_key\tProduct_Family\tAccount_Type\tBalance\tMonthly_Average_Balance\n",
      "1\t1234\tdeposit\tchecking\t3450.23\t45.12\n",
      "2\t1234\tdeposit\tsavings\t13987.23\t123980.0\n",
      "3\t1234\tloan\tmulti-family-residential\t1230000.0\tNone\n",
      "*/\u001b[0m\n",
      "Thought:\u001b[32;1m\u001b[1;3m I should query the accounts table for the sum of the balance and group by client key where product family is deposit\n",
      "Action: sql_db_query\n",
      "Action Input: SELECT Client_key, SUM(Balance) FROM accounts WHERE Product_Family = 'deposit' GROUP BY Client_key\u001b[0m\n",
      "Observation: \u001b[36;1m\u001b[1;3m[(1234, 17437.46), (2345, 15740.0), (3456, 3234.0), (4567, 178308.0), (5678, 19907437.0), (6789, 75430.0)]\u001b[0m\n",
      "Thought:\u001b[32;1m\u001b[1;3m I should query the clients table to get the client names\n",
      "Action: sql_db_query\n",
      "Action Input: SELECT Client_Name, Client_key FROM clients\u001b[0m\n",
      "Observation: \u001b[36;1m\u001b[1;3m[('richie mcrface', 1234), ('robbie barker', 2345), ('sum yung gai', 3456), ('frankie columbo', 4567), ('arnie gov', 5678), ('ira beback', 6789)]\u001b[0m\n",
      "Thought:\u001b[32;1m\u001b[1;3m I should join the two queries to get the client names and the sum of the balance\n",
      "Action: sql_db_query\n",
      "Action Input: SELECT c.Client_Name, a.Client_key, SUM(a.Balance) FROM accounts a INNER JOIN clients c ON a.Client_key = c.Client_key WHERE a.Product_Family = 'deposit' GROUP BY a.Client_key\u001b[0m\n",
      "Observation: \u001b[36;1m\u001b[1;3m[('richie mcrface', 1234, 17437.46), ('robbie barker', 2345, 15740.0), ('sum yung gai', 3456, 3234.0), ('frankie columbo', 4567, 178308.0), ('arnie gov', 5678, 19907437.0), ('ira beback', 6789, 75430.0)]\u001b[0m\n",
      "Thought:\u001b[32;1m\u001b[1;3m I now know the final answer\n",
      "Final Answer: Richie Mcrface has a total balance of 17437.46, Robbie Barker has a total balance of 15740.0, Sum Yung Gai has a total balance of 3234.0, Frankie Columbo has a total balance of 178308.0, Arnie Gov has a total balance of 19907437.0, and Ira Beback has a total balance of 75430.0.\u001b[0m\n",
      "\n",
      "\u001b[1m> Finished chain.\u001b[0m\n"
     ]
    },
    {
     "data": {
      "text/plain": [
       "'Richie Mcrface has a total balance of 17437.46, Robbie Barker has a total balance of 15740.0, Sum Yung Gai has a total balance of 3234.0, Frankie Columbo has a total balance of 178308.0, Arnie Gov has a total balance of 19907437.0, and Ira Beback has a total balance of 75430.0.'"
      ]
     },
     "execution_count": 9,
     "metadata": {},
     "output_type": "execute_result"
    }
   ],
   "source": [
    "db_chain.run('sum the balance and group by client where product family is deposit')"
   ]
  },
  {
   "cell_type": "code",
   "execution_count": 13,
   "id": "60819ca9-4e92-4779-8e3a-504e4950efe9",
   "metadata": {},
   "outputs": [
    {
     "name": "stdout",
     "output_type": "stream",
     "text": [
      "\n",
      "\n",
      "\u001b[1m> Entering new  chain...\u001b[0m\n",
      "\u001b[32;1m\u001b[1;3mAction: sql_db_list_tables\n",
      "Action Input: \"\"\u001b[0m\n",
      "Observation: \u001b[38;5;200m\u001b[1;3maccounts, clients, transactions\u001b[0m\n",
      "Thought:\u001b[32;1m\u001b[1;3m I should query the schema of the accounts and clients tables\n",
      "Action: sql_db_schema\n",
      "Action Input: \"accounts, clients\"\u001b[0m\n",
      "Observation: \u001b[33;1m\u001b[1;3m\n",
      "CREATE TABLE accounts (\n",
      "\t\"Account_Key\" BIGINT, \n",
      "\t\"Client_key\" BIGINT, \n",
      "\t\"Product_Family\" TEXT, \n",
      "\t\"Account_Type\" TEXT, \n",
      "\t\"Balance\" FLOAT, \n",
      "\t\"Monthly_Average_Balance\" FLOAT\n",
      ")\n",
      "\n",
      "/*\n",
      "3 rows from accounts table:\n",
      "Account_Key\tClient_key\tProduct_Family\tAccount_Type\tBalance\tMonthly_Average_Balance\n",
      "1\t1234\tdeposit\tchecking\t3450.23\t45.12\n",
      "2\t1234\tdeposit\tsavings\t13987.23\t123980.0\n",
      "3\t1234\tloan\tmulti-family-residential\t1230000.0\tNone\n",
      "*/\n",
      "\n",
      "\n",
      "CREATE TABLE clients (\n",
      "\t\"Client_Name\" TEXT, \n",
      "\t\"Client_Key\" BIGINT\n",
      ")\n",
      "\n",
      "/*\n",
      "3 rows from clients table:\n",
      "Client_Name\tClient_Key\n",
      "richie mcrface\t1234\n",
      "robbie barker\t2345\n",
      "sum yung gai\t3456\n",
      "*/\u001b[0m\n",
      "Thought:\u001b[32;1m\u001b[1;3m I should query the accounts table to get the sum of the balance and group by client\n",
      "Action: sql_db_query\n",
      "Action Input: SELECT c.Client_Name, SUM(a.Balance) AS Total_Balance FROM accounts a INNER JOIN clients c ON a.Client_Key = c.Client_Key WHERE a.Account_Type = 'checking' GROUP BY c.Client_Name ORDER BY Total_Balance DESC LIMIT 10\u001b[0m\n",
      "Observation: \u001b[36;1m\u001b[1;3m[('arnie gov', 9993450.0), ('frankie columbo', 54321.0), ('robbie barker', 15740.0), ('ira beback', 6432.0), ('richie mcrface', 3450.23), ('sum yung gai', 1234.0)]\u001b[0m\n",
      "Thought:\u001b[32;1m\u001b[1;3m I now know the final answer\n",
      "Final Answer: <table><tr><th>Client Name</th><th>Balance</th></tr><tr><td>arnie gov</td><td>9993450.0</td></tr><tr><td>frankie columbo</td><td>54321.0</td></tr><tr><td>robbie barker</td><td>15740.0</td></tr><tr><td>ira beback</td><td>6432.0</td></tr><tr><td>richie mcrface</td><td>3450.23</td></tr><tr><td>sum yung gai</td><td>1234.0</td></tr></table>\u001b[0m\n",
      "\n",
      "\u001b[1m> Finished chain.\u001b[0m\n"
     ]
    }
   ],
   "source": [
    "html = db_chain.run('sum the balance and group by client for checking accounts. \\\n",
    "return the result as an html table of client name and balance. \\\n",
    "sort by balance in descending order')"
   ]
  },
  {
   "cell_type": "code",
   "execution_count": 14,
   "id": "79695ce4-be7d-4732-9a97-727e22f41d4c",
   "metadata": {},
   "outputs": [
    {
     "data": {
      "text/html": [
       "<table><tr><th>Client Name</th><th>Balance</th></tr><tr><td>arnie gov</td><td>9993450.0</td></tr><tr><td>frankie columbo</td><td>54321.0</td></tr><tr><td>robbie barker</td><td>15740.0</td></tr><tr><td>ira beback</td><td>6432.0</td></tr><tr><td>richie mcrface</td><td>3450.23</td></tr><tr><td>sum yung gai</td><td>1234.0</td></tr></table>"
      ],
      "text/plain": [
       "<IPython.core.display.HTML object>"
      ]
     },
     "execution_count": 14,
     "metadata": {},
     "output_type": "execute_result"
    }
   ],
   "source": [
    "from IPython.core.display import HTML\n",
    "HTML(html)"
   ]
  },
  {
   "cell_type": "code",
   "execution_count": 18,
   "id": "1803e5a5-6e08-4cdf-b98e-7f25e77b7797",
   "metadata": {},
   "outputs": [
    {
     "name": "stdout",
     "output_type": "stream",
     "text": [
      "\n",
      "\n",
      "\u001b[1m> Entering new  chain...\u001b[0m\n",
      "\u001b[32;1m\u001b[1;3mAction: sql_db_list_tables\n",
      "Action Input: \u001b[0m\n",
      "Observation: \u001b[38;5;200m\u001b[1;3maccounts, clients, transactions\u001b[0m\n",
      "Thought:\u001b[32;1m\u001b[1;3m I should query the schema of the accounts and transactions tables.\n",
      "Action: sql_db_schema\n",
      "Action Input: accounts, transactions\u001b[0m\n",
      "Observation: \u001b[33;1m\u001b[1;3m\n",
      "CREATE TABLE accounts (\n",
      "\t\"Account_Key\" BIGINT, \n",
      "\t\"Client_key\" BIGINT, \n",
      "\t\"Product_Family\" TEXT, \n",
      "\t\"Account_Type\" TEXT, \n",
      "\t\"Balance\" FLOAT, \n",
      "\t\"Monthly_Average_Balance\" FLOAT\n",
      ")\n",
      "\n",
      "/*\n",
      "3 rows from accounts table:\n",
      "Account_Key\tClient_key\tProduct_Family\tAccount_Type\tBalance\tMonthly_Average_Balance\n",
      "1\t1234\tdeposit\tchecking\t3450.23\t45.12\n",
      "2\t1234\tdeposit\tsavings\t13987.23\t123980.0\n",
      "3\t1234\tloan\tmulti-family-residential\t1230000.0\tNone\n",
      "*/\n",
      "\n",
      "\n",
      "CREATE TABLE transactions (\n",
      "\t\"Account_key\" BIGINT, \n",
      "\t\"Client_key\" BIGINT, \n",
      "\t\"Amount\" BIGINT, \n",
      "\t\"Description\" TEXT\n",
      ")\n",
      "\n",
      "/*\n",
      "3 rows from transactions table:\n",
      "Account_key\tClient_key\tAmount\tDescription\n",
      "1\t1234\t-5\tstarbucks coffee\n",
      "2\t1234\t-100\ttransfer to bob\n",
      "1\t1234\t200\tincoming direct deposit\n",
      "*/\u001b[0m\n",
      "Thought:\u001b[32;1m\u001b[1;3m I should query the transactions table for all direct deposit transactions, and join it with the clients table to get the client name.\n",
      "Action: sql_db_query\n",
      "Action Input: SELECT c.name, t.amount FROM clients c JOIN transactions t ON c.client_key = t.client_key WHERE t.description = 'incoming direct deposit' ORDER BY c.name LIMIT 10;\u001b[0m\n",
      "Observation: \u001b[36;1m\u001b[1;3mError: (sqlite3.OperationalError) no such column: c.name\n",
      "[SQL: SELECT c.name, t.amount FROM clients c JOIN transactions t ON c.client_key = t.client_key WHERE t.description = 'incoming direct deposit' ORDER BY c.name LIMIT 10;]\n",
      "(Background on this error at: https://sqlalche.me/e/20/e3q8)\u001b[0m\n",
      "Thought:\u001b[32;1m\u001b[1;3m I should query the schema of the clients table to see what columns I can use.\n",
      "Action: sql_db_schema\n",
      "Action Input: clients\u001b[0m\n",
      "Observation: \u001b[33;1m\u001b[1;3m\n",
      "CREATE TABLE clients (\n",
      "\t\"Client_Name\" TEXT, \n",
      "\t\"Client_Key\" BIGINT\n",
      ")\n",
      "\n",
      "/*\n",
      "3 rows from clients table:\n",
      "Client_Name\tClient_Key\n",
      "richie mcrface\t1234\n",
      "robbie barker\t2345\n",
      "sum yung gai\t3456\n",
      "*/\u001b[0m\n",
      "Thought:\u001b[32;1m\u001b[1;3m I should query the transactions table for all direct deposit transactions, and join it with the clients table to get the client name.\n",
      "Action: sql_db_query\n",
      "Action Input: SELECT c.Client_Name, t.Amount FROM clients c JOIN transactions t ON c.Client_Key = t.Client_Key WHERE t.Description = 'incoming direct deposit' ORDER BY c.Client_Name LIMIT 10;\u001b[0m\n",
      "Observation: \u001b[36;1m\u001b[1;3m[('frankie columbo', 987), ('richie mcrface', 200), ('robbie barker', 64)]\u001b[0m\n",
      "Thought:\u001b[32;1m\u001b[1;3m I now know the final answer\n",
      "Final Answer: <table><tr><th>Client Name</th><th>Amount</th></tr><tr><td>frankie columbo</td><td>987</td></tr><tr><td>richie mcrface</td><td>200</td></tr><tr><td>robbie barker</td><td>64</td></tr></table>\u001b[0m\n",
      "\n",
      "\u001b[1m> Finished chain.\u001b[0m\n"
     ]
    },
    {
     "data": {
      "text/html": [
       "<table><tr><th>Client Name</th><th>Amount</th></tr><tr><td>frankie columbo</td><td>987</td></tr><tr><td>richie mcrface</td><td>200</td></tr><tr><td>robbie barker</td><td>64</td></tr></table>"
      ],
      "text/plain": [
       "<IPython.core.display.HTML object>"
      ]
     },
     "execution_count": 18,
     "metadata": {},
     "output_type": "execute_result"
    }
   ],
   "source": [
    "html = db_chain.run('look up all direct deposit transactions. show client name, \\\n",
    "amount as an html table, sorted by client name.')\n",
    "HTML(html)"
   ]
  },
  {
   "cell_type": "code",
   "execution_count": null,
   "id": "84dad369-2c3c-4b8e-b941-54eaea910bf2",
   "metadata": {},
   "outputs": [],
   "source": []
  }
 ],
 "metadata": {
  "kernelspec": {
   "display_name": "Python 3 (ipykernel)",
   "language": "python",
   "name": "python3"
  },
  "language_info": {
   "codemirror_mode": {
    "name": "ipython",
    "version": 3
   },
   "file_extension": ".py",
   "mimetype": "text/x-python",
   "name": "python",
   "nbconvert_exporter": "python",
   "pygments_lexer": "ipython3",
   "version": "3.11.3"
  }
 },
 "nbformat": 4,
 "nbformat_minor": 5
}
