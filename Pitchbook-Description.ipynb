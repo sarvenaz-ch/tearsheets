{
 "cells": [
  {
   "cell_type": "code",
   "execution_count": 5,
   "id": "2f9395ca",
   "metadata": {},
   "outputs": [
    {
     "data": {
      "text/plain": [
       "True"
      ]
     },
     "execution_count": 5,
     "metadata": {},
     "output_type": "execute_result"
    }
   ],
   "source": [
    "from langchain.document_loaders import UnstructuredPDFLoader, OnlinePDFLoader, PyPDFLoader\n",
    "from langchain.text_splitter import RecursiveCharacterTextSplitter\n",
    "from langchain.vectorstores import FAISS\n",
    "from langchain.embeddings import HuggingFaceInstructEmbeddings\n",
    "from langchain.llms import OpenAI\n",
    "from langchain.chains.question_answering import load_qa_chain\n",
    "from langchain.chains import RetrievalQA\n",
    "\n",
    "#BAM\n",
    "from genai.extensions.langchain import LangChainInterface\n",
    "from genai.schemas import ModelType, GenerateParams\n",
    "from genai.model import Credentials\n",
    "import os\n",
    "from dotenv import load_dotenv\n",
    "\n",
    "# make sure you have a .env file under genai root with\n",
    "GENAI_KEY=\"\"\n",
    "# GENAI_API=<genai-api-endpoint>\n",
    "load_dotenv()"
   ]
  },
  {
   "cell_type": "code",
   "execution_count": 2,
   "id": "1f80a948",
   "metadata": {},
   "outputs": [
    {
     "name": "stderr",
     "output_type": "stream",
     "text": [
      "Created a chunk of size 2658, which is longer than the specified 1000\n"
     ]
    },
    {
     "name": "stdout",
     "output_type": "stream",
     "text": [
      "load INSTRUCTOR_Transformer\n",
      "max_seq_length  512\n"
     ]
    }
   ],
   "source": [
    "# Document Loader\n",
    "from langchain.document_loaders import TextLoader, WebBaseLoader\n",
    "loader = WebBaseLoader(\"https://urldefense.com/v3/__https://pitchbook.com/profiles/limited-partner/\")\n",
    "student_doc = loader.load()\n",
    "\n",
    "# Text Splitter\n",
    "from langchain.text_splitter import CharacterTextSplitter\n",
    "text_splitter = CharacterTextSplitter(chunk_size=1000, chunk_overlap=100)\n",
    "docs = text_splitter.split_documents(student_doc)\n",
    "\n",
    "# vector store\n",
    "from langchain.vectorstores import FAISS\n",
    "\n",
    "embeddings = HuggingFaceInstructEmbeddings(\n",
    "            model_name=\"hkunlp/instructor-large\",\n",
    "            model_kwargs={\"device\": \"cpu\"}\n",
    "        )\n",
    "\n",
    "docs_db = FAISS.from_documents(docs, embeddings)\n",
    "\n",
    "find_relavance_query = \"First relavent documents for Bill Gates\"\n",
    "find_relavance_query = \"describe Bill & Melinda Gates Foundation from the document\""
   ]
  },
  {
   "cell_type": "code",
   "execution_count": 12,
   "id": "09e315e6",
   "metadata": {},
   "outputs": [
    {
     "data": {
      "text/plain": [
       "[Document(page_content='Bill & Melinda Gates Foundation Profile: Commitments & Mandates | PitchBook', metadata={'source': 'https://urldefense.com/v3/__https://pitchbook.com/profiles/limited-partner/11551-42*commitments__;Iw!!HcVu0Bn_hI1r_w!xjDlKihYm_JZqmAlFXKSDMiWy3iLQfoWxlZK-3L7D2x_wJ2A5UwC-9yW8GGHa6OoBwosXmel4h8uWqWa03LhYyiwVUZn2r8$ ', 'title': 'Bill & Melinda Gates Foundation Profile: Commitments & Mandates | PitchBook', 'description': 'Information on commitments, mandates, investment preferences, team and board members for Bill & Melinda Gates Foundation. Use the PitchBook Platform to explore the full profile.', 'language': 'en'}),\n",
       " Document(page_content='Foundation\\n\\n\\n\\n\\n\\nFounded\\n\\n2000\\n\\n\\n\\n\\n\\n\\n\\n\\nProfessionals\\n\\n7\\n\\n\\n\\n\\n\\n\\n\\n\\nAUM\\n\\n0000\\n\\n\\n\\n\\n\\nCommitments\\n\\n25\\n\\n\\n\\n\\n\\n\\n\\n\\nBill & Melinda Gates Foundation General Information\\nDescription\\nBill & Melinda Gates Foundation is an independent non-profit foundation based in Seattle, Washington. Established in 2000, the foundation works to reduce inequities around the world. It focuses on improving health and alleviating extreme poverty. The assets of the foundation are managed by the board of trustees.\\n\\n\\nContact Information\\n\\n\\n\\nWebsite\\nwww.gatesfoundation.org\\n\\n\\nFormerly Known As\\nWilliam H. Gates Foundation\\n\\n\\nYear Founded\\n2000\\n\\n\\nOpen To Secondaries\\n0000\\n\\n\\nOpen To First Time Founds\\n00000\\n\\n\\n\\n\\nInstitution Type\\nFoundation\\n\\n\\nPrimary Contact\\n000000 000\\n\\n\\nTitle\\nProgram Chief Financial Officer, Global Health, and Lead for Business Development & Licensing\\n\\n\\nEmail\\n000000.000@000000000000000.000\\n\\n\\nPhone\\n+0 (000) 000-0000\\n\\n\\n\\n\\nPrimary Office\\n\\n500 5th Avenue North\\nSeattle, WA 98109\\nUnited States\\n\\n+1 (206) 000-0000\\n\\n\\n\\ueac9\\n\\uea91\\n\\uea8c', metadata={'source': 'https://urldefense.com/v3/__https://pitchbook.com/profiles/limited-partner/11551-42*commitments__;Iw!!HcVu0Bn_hI1r_w!xjDlKihYm_JZqmAlFXKSDMiWy3iLQfoWxlZK-3L7D2x_wJ2A5UwC-9yW8GGHa6OoBwosXmel4h8uWqWa03LhYyiwVUZn2r8$ ', 'title': 'Bill & Melinda Gates Foundation Profile: Commitments & Mandates | PitchBook', 'description': 'Information on commitments, mandates, investment preferences, team and board members for Bill & Melinda Gates Foundation. Use the PitchBook Platform to explore the full profile.', 'language': 'en'}),\n",
       " Document(page_content='Request a free trial\\nLog in\\n\\n\\n\\nProducts\\n\\n\\nSolutions\\n\\n\\nData\\n\\n\\nNews & Analysis\\n\\n\\nAbout\\n\\n\\nBlog\\n\\n\\n\\n\\nLog in\\nRequest a free trial\\n\\n\\n\\n\\n\\n\\n\\nBill & Melinda Gates Foundation\\n\\n\\n\\n\\n\\n\\n\\n\\n\\n\\n\\n\\n\\n\\n\\n\\n\\n\\n\\n\\nThis is a profile preview from the PitchBook Platform.\\nRequest a free trial\\n\\n\\n\\n\\n\\nOverview\\n\\n\\nCommitments\\n\\n\\nCommitment Analytics\\n\\n\\nMandates\\n\\n\\n\\nInvestment Allocations\\n\\n\\nLimited Partner Funds\\n\\n\\n\\nDirect Investments\\n\\n\\n\\nTeam\\n\\n\\nBoard Members\\n\\n\\nService Providers\\n\\n\\n\\n\\n\\n\\n\\n\\n\\n\\n\\n\\nBill & Melinda Gates Foundation Overview\\n\\n\\nUpdate this profile\\n\\n\\n\\n\\n\\n\\nType\\n\\nFoundation\\n\\n\\n\\n\\n\\nFounded\\n\\n2000\\n\\n\\n\\n\\n\\n\\n\\n\\nProfessionals\\n\\n7\\n\\n\\n\\n\\n\\n\\n\\n\\nAUM\\n\\n0000\\n\\n\\n\\n\\n\\nCommitments\\n\\n25', metadata={'source': 'https://urldefense.com/v3/__https://pitchbook.com/profiles/limited-partner/11551-42*commitments__;Iw!!HcVu0Bn_hI1r_w!xjDlKihYm_JZqmAlFXKSDMiWy3iLQfoWxlZK-3L7D2x_wJ2A5UwC-9yW8GGHa6OoBwosXmel4h8uWqWa03LhYyiwVUZn2r8$ ', 'title': 'Bill & Melinda Gates Foundation Profile: Commitments & Mandates | PitchBook', 'description': 'Information on commitments, mandates, investment preferences, team and board members for Bill & Melinda Gates Foundation. Use the PitchBook Platform to explore the full profile.', 'language': 'en'})]"
      ]
     },
     "execution_count": 12,
     "metadata": {},
     "output_type": "execute_result"
    }
   ],
   "source": [
    "# find_relavance_query = \"First relavent documents for Bill Gates\"\n",
    "find_relavance_query = \"describe Bill & Melinda Gates Foundation from the document\"\n",
    "relavent_docs = docs_db.similarity_search(find_relavance_query, k=3)\n",
    "relavent_docs"
   ]
  },
  {
   "cell_type": "code",
   "execution_count": 9,
   "id": "63b417ad",
   "metadata": {},
   "outputs": [],
   "source": [
    "# choose a LLM model\n",
    "\n",
    "model_llm = LangChainInterface(\n",
    "        model=ModelType.FLAN_T5_11B,\n",
    "        credentials=Credentials(os.environ.get(\"GENAI_KEY\")),\n",
    "        params=GenerateParams(\n",
    "            decoding_method=\"greedy\",\n",
    "            max_new_tokens=300,\n",
    "            min_new_tokens=15,\n",
    "            repetition_penalty=2,\n",
    "        ).dict()\n",
    "    )"
   ]
  },
  {
   "cell_type": "code",
   "execution_count": 13,
   "id": "cd1ea255",
   "metadata": {},
   "outputs": [
    {
     "data": {
      "text/plain": [
       "LLMResult(generations=[[Generation(text='Bill & Melinda Gates Foundation is an American private foundation that supports global health and development.', generation_info=None)]], llm_output=None)"
      ]
     },
     "execution_count": 13,
     "metadata": {},
     "output_type": "execute_result"
    }
   ],
   "source": [
    "# no context response from LLM\n",
    "model_llm.generate(['describe Bill & Melinda Gates Foundation'])"
   ]
  },
  {
   "cell_type": "code",
   "execution_count": null,
   "id": "e222fd96",
   "metadata": {},
   "outputs": [],
   "source": [
    "https://urldefense.com/v3/__http://model_llm.ru__;!!HcVu0Bn_hI1r_w!xjDlKihYm_JZqmAlFXKSDMiWy3iLQfoWxlZK-3L7D2x_wJ2A5UwC-9yW8GGHa6OoBwosXmel4h8uWqWa03LhYyiww7FRimA$ "
   ]
  },
  {
   "cell_type": "code",
   "execution_count": 14,
   "id": "511f05cc",
   "metadata": {},
   "outputs": [
    {
     "data": {
      "text/plain": [
       "'Bill & Melinda Gates Foundation is an independent non-profit foundation based in Seattle, Washington. Established in 2000, the foundation works to reduce inequities around the world. It focuses on improving health and alleviating extreme poverty. The assets of the foundation are managed by the board of trustees.'"
      ]
     },
     "execution_count": 14,
     "metadata": {},
     "output_type": "execute_result"
    }
   ],
   "source": [
    "## Langchain QA\n",
    "chain = load_qa_chain(model_llm, chain_type='stuff', verbose=False)\n",
    "prompt = \"Extract the description from the content\"\n",
    "\n",
    "## Run the Chain\n",
    "chain.run(input_documents=relavent_docs, question=query)"
   ]
  },
  {
   "cell_type": "code",
   "execution_count": 10,
   "id": "f958f082",
   "metadata": {},
   "outputs": [
    {
     "data": {
      "text/plain": [
       "LLMResult(generations=[[Generation(text='Bill & Melinda Gates Foundation is an American private foundation that supports global health and development.', generation_info=None)]], llm_output=None)"
      ]
     },
     "execution_count": 10,
     "metadata": {},
     "output_type": "execute_result"
    }
   ],
   "source": [
    "model_llm.generate(['describe Bill & Melinda Gates Foundation'])"
   ]
  },
  {
   "cell_type": "code",
   "execution_count": null,
   "id": "17633216",
   "metadata": {},
   "outputs": [],
   "source": []
  }
 ],
 "metadata": {
  "kernelspec": {
   "display_name": "Python 3 (ipykernel)",
   "language": "python",
   "name": "python3"
  },
  "language_info": {
   "codemirror_mode": {
    "name": "ipython",
    "version": 3
   },
   "file_extension": ".py",
   "mimetype": "text/x-python",
   "name": "python",
   "nbconvert_exporter": "python",
   "pygments_lexer": "ipython3",
   "version": "3.9.15"
  }
 },
 "nbformat": 4,
 "nbformat_minor": 5
}
