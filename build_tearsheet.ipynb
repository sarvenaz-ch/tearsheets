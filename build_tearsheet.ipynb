{
 "cells": [
  {
   "cell_type": "markdown",
   "id": "456671f9-495b-4915-a7d4-436635915150",
   "metadata": {},
   "source": [
    "Build sample tearsheet"
   ]
  },
  {
   "cell_type": "code",
   "execution_count": 2,
   "id": "45776796-9aa4-45c4-994c-30ee19761645",
   "metadata": {},
   "outputs": [],
   "source": [
    "import os\n",
    "import re\n",
    "import glob\n",
    "import time\n",
    "import openai\n",
    "\n",
    "# langchain\n",
    "from langchain.document_loaders import UnstructuredHTMLLoader\n",
    "from langchain.embeddings.openai import OpenAIEmbeddings\n",
    "from langchain.embeddings import HuggingFaceEmbeddings\n",
    "from langchain.vectorstores import Chroma\n",
    "\n",
    "# ibm models\n",
    "from ibm_watson_machine_learning.metanames import GenTextParamsMetaNames as GenParams\n",
    "from ibm_watson_machine_learning.foundation_models.utils.enums import DecodingMethods\n",
    "from ibm_watson_machine_learning.foundation_models import Model\n",
    "from ibm_watson_machine_learning.foundation_models.utils.enums import ModelTypes\n",
    "\n",
    "# authentication\n",
    "from dotenv import load_dotenv, find_dotenv\n",
    "_ = load_dotenv(find_dotenv())\n",
    "#openai.api_key = os.environ[\"OPENAI_API_KEY\"]\n",
    "\n",
    "ibm_credentials = {\n",
    "    \"url\": os.environ['IBM_URL'],\n",
    "    \"apikey\": os.environ['IBM_API_KEY']\n",
    "}\n",
    "\n",
    "ibm_project_id = os.environ['IBM_PROJECT_ID']"
   ]
  },
  {
   "cell_type": "code",
   "execution_count": 3,
   "id": "3a0782cc-19af-4de1-bf5e-9e2bf520e0c3",
   "metadata": {},
   "outputs": [],
   "source": [
    "# ibm models and parameters\n",
    "\n",
    "parameters = {\n",
    "    GenParams.DECODING_METHOD: DecodingMethods.GREEDY,\n",
    "    GenParams.MIN_NEW_TOKENS: 1,\n",
    "    GenParams.MAX_NEW_TOKENS: 1024\n",
    "}\n",
    "\n",
    "model = Model(\n",
    "    model_id=ModelTypes.LLAMA_2_70B_CHAT,\n",
    "    params=parameters,\n",
    "    credentials=ibm_credentials,\n",
    "    project_id=ibm_project_id\n",
    ")"
   ]
  },
  {
   "cell_type": "markdown",
   "id": "9a2c1624-51ea-4e28-82cf-0a4e551047cd",
   "metadata": {},
   "source": [
    "Load local html files here, local files have to be loaded one by one, apparently"
   ]
  },
  {
   "cell_type": "code",
   "execution_count": 4,
   "id": "c4151b95-c80f-46b6-ba05-64139477e602",
   "metadata": {},
   "outputs": [
    {
     "data": {
      "text/plain": [
       "['data/text/Robert_King_pitchbook.html',\n",
       " 'data/text/Robert_King_google.html',\n",
       " 'data/text/Robert_King_equilar.html',\n",
       " 'data/text/Robert_King_linkedin.html',\n",
       " 'data/text/Robert_King_relsci.html',\n",
       " 'data/text/Robert_King_zoominfo.html',\n",
       " 'data/text/Robert_King_wealthx.html']"
      ]
     },
     "execution_count": 4,
     "metadata": {},
     "output_type": "execute_result"
    }
   ],
   "source": [
    "urls = glob.glob('data/text/Robert_King*html')\n",
    "urls"
   ]
  },
  {
   "cell_type": "code",
   "execution_count": 5,
   "id": "2e015df3-8881-49f7-bd3d-283aa0ce81d2",
   "metadata": {},
   "outputs": [
    {
     "data": {
      "text/plain": [
       "[Document(page_content='Lead partner on deals:\\n\\nCompany: Tech Startup XYZ\\n\\nDeal Date: May 15 2023\\n\\nDeal Type: Series B\\n\\nDeal Size: $30M\\n\\nDeal Status: Completed\\n\\nLocation: San Francisco, CA\\n\\nRepresenting: Sequoia Capital\\n\\nOther Partners: Rich Dude I, Rich Guy II, Notso Rich III, Rich Wannabe\\n\\nInvestor bio: Robert King is a highly successful investor with a strong track record in the hedge fund industry. He has led numerous successful deals and has a deep understanding of the startup ecosystem. Robert is known for his strategic thinking and ability to identify promising investment opportunities.', metadata={'source': 'data/text/Robert_King_pitchbook.html', 'client_name': 'Robert King', 'doc_type': 'pitchbook'}),\n",
       " Document(page_content='Article 1:\\n\\nTitle: Robert King donates $1 million to local charity\\n\\nDate: March 10, 2023\\n\\nAbstract: In a generous act of philanthropy, Robert King has donated $1 million to a local charity.                          The donation will support various programs aimed at improving the lives of underprivileged youth in the community.', metadata={'source': 'data/text/Robert_King_google.html', 'client_name': 'Robert King', 'doc_type': 'google'}),\n",
       " Document(page_content='Stock sold - Equity Transactions (Last 36 Months): $10 million\\n\\nNew Equity Grants - Equity Transactions (Last 36 Months): $5 million\\n\\nOptions Exercised - Equity Transactions (Last 36 Months): $2 million\\n\\nEquity Holdings - Equity Transactions: $20 million\\n\\nAnnual Compensation: $5 million\\n\\nStock Sold: CEO, $1M at Hedge Fund A, June 1 2023 (SEC) | June 1 2023 (Effective)', metadata={'source': 'data/text/Robert_King_equilar.html', 'client_name': 'Robert King', 'doc_type': 'equilar'}),\n",
       " Document(page_content='Employment 1: Hedge Fund A, CEO\\n\\nEmployment 2: Hedge Fund B, Senior Portfolio Manager\\n\\nEducation: Stanford University, MBA\\n\\nBoard Member: San Francisco Symphony, Board Director\\n\\nBio: Robert King is a seasoned finance professional with extensive experience in the hedge fund industry. He currently serves as the CEO of Hedge Fund A in San Francisco. Prior to this role, he held the position of Senior Portfolio Manager at Hedge Fund B. Robert is also actively involved in the local community and serves as a Board Director for the San Francisco Symphony. With his strong leadership skills and wealth of knowledge in finance, Robert is a highly respected figure in the industry.', metadata={'source': 'data/text/Robert_King_linkedin.html', 'client_name': 'Robert King', 'doc_type': 'linkedin'}),\n",
       " Document(page_content='Boards & Committees (Corporate): Tech Company X, Board Director\\n\\nBoards & Committees (Nonprofit): San Francisco Museum of Modern Art, Trustee\\n\\nFormer/Prior Boards & Committees (Corporate): Investment Firm Y, Board Director\\n\\nFormer/Prior Boards & Committees (Nonprofit): Local Charity Z, Trustee\\n\\nTop donations (Nonprofit): Red Cross - $1M, Boys & Girls Club - $500K, Habitat for Humanity - $250K\\n\\nTop donations (Political parties): Democratic National Committee - $100K, California Democratic Party - $50K', metadata={'source': 'data/text/Robert_King_relsci.html', 'client_name': 'Robert King', 'doc_type': 'relsci'}),\n",
       " Document(page_content='Personal Email: robertking@email.com', metadata={'source': 'data/text/Robert_King_zoominfo.html', 'client_name': 'Robert King', 'doc_type': 'zoominfo'}),\n",
       " Document(page_content='Estimated Net Worth: At least $100 million\\n\\nEstimated Liquid Assets: At least $50 million\\n\\nEstimated Household Wealth: At least $150 million\\n\\nEstimated Household Liquid Assets: At least $50 million\\n\\nEstimated Family Net Worth: At least $500 million\\n\\nInterests, Passions, Hobbies: Art collecting and philanthropy', metadata={'source': 'data/text/Robert_King_wealthx.html', 'client_name': 'Robert King', 'doc_type': 'wealthx'})]"
      ]
     },
     "execution_count": 5,
     "metadata": {},
     "output_type": "execute_result"
    }
   ],
   "source": [
    "docs = []\n",
    "for url in urls:\n",
    "    doc = UnstructuredHTMLLoader(url).load()\n",
    "    # infer client name and add to metadata\n",
    "    root = url.split('/')[-1]\n",
    "    toks = root.split('_')\n",
    "    client_name = toks[:-1]\n",
    "    doc_type = toks[-1][:-5]\n",
    "    # manually edit metadata\n",
    "    doc[0].metadata['client_name'] = ' '.join(client_name)\n",
    "    doc[0].metadata['doc_type'] = doc_type\n",
    "    #print(doc[0].metadata['client_name'], doc_type)\n",
    "    docs.extend(doc)\n",
    "\n",
    "docs"
   ]
  },
  {
   "cell_type": "markdown",
   "id": "e9db24b1-2197-4e9c-bb55-51331441bacc",
   "metadata": {},
   "source": [
    "Vectorstore"
   ]
  },
  {
   "cell_type": "code",
   "execution_count": 6,
   "id": "d3504172-e51b-4f6c-9ae9-d0ebb36e766f",
   "metadata": {},
   "outputs": [],
   "source": [
    "# optionally persist the vector db to disk\n",
    "persist_directory = 'data/chroma/'\n",
    "override = False\n",
    "\n",
    "if os.path.exists(persist_directory) and override:  # clean out existing data\n",
    "    for f in glob.glob(persist_directory+'index/*'):\n",
    "        os.remove(f)\n",
    "    \n",
    "vectordb = Chroma.from_documents(\n",
    "    documents=docs,\n",
    "    embedding=OpenAIEmbeddings(),\n",
    "    #embedding=HuggingFaceEmbeddings(),\n",
    "    #persist_directory=persist_directory  # uncomment to persist on disk\n",
    ")"
   ]
  },
  {
   "cell_type": "code",
   "execution_count": 24,
   "id": "2fd401c6-1b52-4b82-b3d4-21c679b3c16e",
   "metadata": {},
   "outputs": [],
   "source": [
    "from langchain.llms import OpenAI\n",
    "from langchain.retrievers.self_query.base import SelfQueryRetriever\n",
    "from langchain.chains.query_constructor.base import AttributeInfo\n",
    "from langchain.chains import RetrievalQA"
   ]
  },
  {
   "cell_type": "code",
   "execution_count": 11,
   "id": "6c5a91b7-010b-49aa-972c-0a3ad46fcc19",
   "metadata": {},
   "outputs": [],
   "source": [
    "metadata_field_info = [\n",
    "    AttributeInfo(\n",
    "        name=\"client_name\",\n",
    "        description=\"The name of the client associated with the document.\",\n",
    "        type=\"string\",\n",
    "    ),\n",
    "    \n",
    "    AttributeInfo(\n",
    "        name=\"doc_type\",\n",
    "        description=\"The lecture the chunk is from, should be one of `equilar`, \\\n",
    "            `google`, `linkedin`, `pitchbook`, `relsci`, `wealthx`, or `zoominfo`\",\n",
    "        type=\"string\",\n",
    "    ),\n",
    "]"
   ]
  },
  {
   "cell_type": "code",
   "execution_count": 20,
   "id": "19bef262-0230-48bb-8274-6a3c63a59061",
   "metadata": {},
   "outputs": [],
   "source": [
    "document_content_description = \"Client documents\"\n",
    "\n",
    "#llm = model.to_langchain()\n",
    "llm = OpenAI()\n",
    "\n",
    "sq_retriever = SelfQueryRetriever.from_llm(  # sq_retriever = self-query retriever\n",
    "    llm,\n",
    "    vectordb,\n",
    "    document_content_description,\n",
    "    metadata_field_info,\n",
    "    enable_limit=True,\n",
    "    verbose=True\n",
    ")"
   ]
  },
  {
   "cell_type": "code",
   "execution_count": 21,
   "id": "277cc662-57ba-4d8c-9119-19fd96fdbcfe",
   "metadata": {},
   "outputs": [
    {
     "name": "stdout",
     "output_type": "stream",
     "text": [
      "### Question: Tell me about Robert King's family assets, board memberships, and venture capital deals ###\n",
      "\n",
      "query='Robert King Family Assets Board Memberships Venture Capital Deals' filter=Comparison(comparator=<Comparator.EQ: 'eq'>, attribute='client_name', value='Robert King') limit=None\n",
      "{'client_name': 'Robert King', 'doc_type': 'pitchbook', 'source': 'data/text/Robert_King_pitchbook.html'}\n",
      "{'client_name': 'Robert King', 'doc_type': 'linkedin', 'source': 'data/text/Robert_King_linkedin.html'}\n",
      "{'client_name': 'Robert King', 'doc_type': 'relsci', 'source': 'data/text/Robert_King_relsci.html'}\n",
      "{'client_name': 'Robert King', 'doc_type': 'google', 'source': 'data/text/Robert_King_google.html'}\n"
     ]
    }
   ],
   "source": [
    "### sample q & a\n",
    "\n",
    "print(f'### Question: {q1} ###\\n')\n",
    "q1 = 'Tell me about Robert King\\'s family assets, board memberships, and venture capital deals'\n",
    "docs = sq_retriever.get_relevant_documents(q1)\n",
    "for d in docs:\n",
    "    print(d.metadata)\n",
    "\n",
    "### self-query only returns 4 documents, not sure why\n",
    "### was hoping wealthx would be included"
   ]
  },
  {
   "cell_type": "markdown",
   "id": "cd7f7102-6670-468d-bfac-6552794c09ac",
   "metadata": {},
   "source": [
    "questions to answer:\n",
    "\n",
    "bio:\n",
    "  - what is the current employment\n",
    "  - summarize employment prior to the current position\n",
    "  - describe any roles as a board member\n",
    "  - describe any educational credentials and where they were obtained\n",
    "  - describe the organization where client is currently employed (prone to hallucination)\n",
    "\n",
    "table:\n",
    "  - list the current employment title\n",
    "  - summarize the education as an itemized list, more advanced degrees first\n",
    "  - list prior employments as an itemized list\n",
    "  - list the current board memberships\n",
    "  - list prior board affiliations"
   ]
  },
  {
   "cell_type": "code",
   "execution_count": 38,
   "id": "c71cecce-c2c0-4f8d-8e38-5e2dfaed9bcf",
   "metadata": {},
   "outputs": [
    {
     "name": "stdout",
     "output_type": "stream",
     "text": [
      "query='Robert King' filter=Comparison(comparator=<Comparator.EQ: 'eq'>, attribute='doc_type', value='linkedin') limit=1\n",
      "according to linkedin, what is the current position of Robert King?: {'query': 'describe the organization where Robert King currently works', 'result': \" I don't know.\"}\n",
      "query='Robert King' filter=Comparison(comparator=<Comparator.EQ: 'eq'>, attribute='doc_type', value='linkedin') limit=1\n",
      "where did Robert King work prior to the current position?: {'query': 'describe the organization where Robert King currently works', 'result': \" I don't know.\"}\n",
      "query='Robert King' filter=Operation(operator=<Operator.OR: 'or'>, arguments=[Comparison(comparator=<Comparator.EQ: 'eq'>, attribute='doc_type', value='linkedin'), Comparison(comparator=<Comparator.EQ: 'eq'>, attribute='doc_type', value='relsci'), Comparison(comparator=<Comparator.EQ: 'eq'>, attribute='doc_type', value='pitchbook')]) limit=None\n",
      "according to linkedin, relsci, and pitchbook, what boards did the Robert King serve on? What roles did they have on those boards?: {'query': 'describe the organization where Robert King currently works', 'result': \" I don't know.\"}\n",
      "query='Robert King education credentials' filter=Comparison(comparator=<Comparator.EQ: 'eq'>, attribute='client_name', value='Robert King') limit=None\n",
      "what education credentials does Robert King have: {'query': 'describe the organization where Robert King currently works', 'result': \" I don't know.\"}\n",
      "query='Robert King' filter=Comparison(comparator=<Comparator.EQ: 'eq'>, attribute='client_name', value='Robert King') limit=None\n",
      "describe the nature (industry, purpose) of the organization where Robert King currently works: {'query': 'describe the organization where Robert King currently works', 'result': \" I don't know.\"}\n",
      "\n",
      "\n",
      "### Results:\n",
      "1, q: according to linkedin, what is the current position of {client}?, a:  According to LinkedIn, the current position of Robert King is CEO of Hedge Fund A.\n",
      "2, q: where did {client} work prior to the current position?, a:  Robert King worked as a Senior Portfolio Manager at Hedge Fund B prior to his current position as the CEO of Hedge Fund A.\n",
      "3, q: according to linkedin, relsci, and pitchbook, what boards did the {client} serve on? What roles did they have on those boards?, a:  Robert King served as a Board Director for Tech Company X, a Trustee for the San Francisco Museum of Modern Art, and a Board Director for Investment Firm Y. At Tech Company X, he was a Board Director; at the San Francisco Museum of Modern Art, he was a Trustee; and at Investment Firm Y, he was a Board Director.\n",
      "4, q: what education credentials does {client} have, a:  Robert King has an MBA from Stanford University.\n",
      "5, q: describe the nature (industry, purpose) of the organization where {client} currently works, a:  Robert King currently works as the CEO of Hedge Fund A in San Francisco. Hedge Funds are financial institutions that manage investments and provide financial services to clients.\n"
     ]
    }
   ],
   "source": [
    "multi_doc_prompt_dict = {'1':\n",
    "                             {'q': 'according to linkedin, what is the current position of {client}?',\n",
    "                              'a': ''},\n",
    "                         '2':\n",
    "                             {'q': 'where did {client} work prior to the current position?',\n",
    "                              'a': ''},\n",
    "                         '3':\n",
    "                             {'q': 'according to linkedin, relsci, and pitchbook, what boards did the {client} serve on? What roles did they have on those boards?',\n",
    "                              'a': ''},\n",
    "                         '4': {\n",
    "                             'q': 'what education credentials does {client} have',\n",
    "                             'a': ''},\n",
    "                         '5': {\n",
    "                             'q': 'describe the nature (industry, purpose) of the organization where {client} currently works',\n",
    "                             'a': ''},\n",
    "                        }\n",
    "\n",
    "client = 'Robert King'\n",
    "\n",
    "qa_chain = RetrievalQA.from_chain_type(\n",
    "    llm,\n",
    "    retriever=sq_retriever\n",
    ")\n",
    "\n",
    "for key in multi_doc_prompt_dict.keys():\n",
    "    ### retrieve exact document per client\n",
    "    q = multi_doc_prompt_dict[key]['q'].format(client=client)\n",
    "    response = qa_chain({\"query\": q})\n",
    "    multi_doc_prompt_dict[key]['a'] = response['result']\n",
    "\n",
    "    print(f'{q}: {a}')\n",
    "\n",
    "    #response = qa_chain({'query': 'Summarize the context in 100 words or less.', 'input_docs': docs})\n",
    "\n",
    "    ### summarize the document\n",
    "    #doc_content = '\\n'.join([d.page_content for d in docs])\n",
    "    #response = llm.call_as_llm(doc_summary_template.format(context=doc_content))\n",
    "    \n",
    "    #multi_doc_prompt_dict[key]['a'] = response\n",
    "\n",
    "print('\\n\\n### Results:')\n",
    "for key in multi_doc_prompt_dict.keys():\n",
    "    print(f\"{key}, q: {multi_doc_prompt_dict[key]['q']}, a: {multi_doc_prompt_dict[key]['a']}\")"
   ]
  },
  {
   "cell_type": "code",
   "execution_count": 37,
   "id": "85a5ba4c-a5c2-4c03-809b-a2ba82cac43e",
   "metadata": {},
   "outputs": [
    {
     "name": "stdout",
     "output_type": "stream",
     "text": [
      "\n",
      "\n",
      "### Results:\n",
      "1, q: according to linkedin, what is the current position of {client}?, a:  CEO of Hedge Fund A in San Francisco\n",
      "2, q: where did {client} work prior to the current position?, a:  Robert King worked as a Senior Portfolio Manager at Hedge Fund B prior to his current position as the CEO of Hedge Fund A.\n",
      "3, q: according to linkedin, relsci, and pitchbook, what boards did the {client} serve on? What roles did they have on those boards?, a:  According to the information provided, Robert King served as a Board Director for Tech Company X, a Trustee for the San Francisco Museum of Modern Art, a Board Director for Investment Firm Y, and a Trustee for Local Charity Z.\n",
      "4, q: what education credentials does {client} have, a:  Robert King has an MBA from Stanford University.\n",
      "5, q: describe the nature (industry, purpose) of the organization where {client} currently works, a:  I don't know.\n"
     ]
    }
   ],
   "source": [
    "print('\\n\\n### Results:')\n",
    "for key in multi_doc_prompt_dict.keys():\n",
    "    print(f\"{key}, q: {multi_doc_prompt_dict[key]['q']}, a: {multi_doc_prompt_dict[key]['a']}\")"
   ]
  },
  {
   "cell_type": "markdown",
   "id": "02329fdc-1c36-4165-9fb4-ce9a72e4d36f",
   "metadata": {},
   "source": [
    "### Q&A with retrieval"
   ]
  },
  {
   "cell_type": "code",
   "execution_count": null,
   "id": "79821a31-e7a6-40b9-b9c8-09729a0ac0f9",
   "metadata": {},
   "outputs": [],
   "source": [
    "from langchain.chat_models import ChatOpenAI\n",
    "from langchain.chains import RetrievalQA\n",
    "\n",
    "llm = ChatOpenAI(model_name='gpt-3.5-turbo', temperature=0)"
   ]
  },
  {
   "cell_type": "code",
   "execution_count": null,
   "id": "bb93eba0-6af7-4ed2-b063-1247c68de3d0",
   "metadata": {},
   "outputs": [],
   "source": [
    "### generation without retrieval\n",
    "q3 = 'Who is Robert King?'\n",
    "print(f'### Question: {q3} ###\\n')\n",
    "llm.call_as_llm(q3)"
   ]
  },
  {
   "cell_type": "code",
   "execution_count": null,
   "id": "23bc048a-41cd-438f-943c-d064184f7348",
   "metadata": {},
   "outputs": [],
   "source": [
    "qa_chain = RetrievalQA.from_chain_type(\n",
    "    llm,\n",
    "    retriever=sq_retriever\n",
    ")\n",
    "\n",
    "result = qa_chain({\"query\": q3})\n",
    "print(f'### Question: {q3} ###\\n')\n",
    "result['result']"
   ]
  },
  {
   "cell_type": "code",
   "execution_count": null,
   "id": "0218fd35-0bb3-457b-b266-105158ca292b",
   "metadata": {},
   "outputs": [],
   "source": [
    "qa_chain = RetrievalQA.from_chain_type(\n",
    "    llm,\n",
    "    retriever=sq_retriever\n",
    ")\n",
    "\n",
    "result = qa_chain({\"query\": q2})\n",
    "print(f'### Question: {q2} ###\\n')\n",
    "result['result']"
   ]
  },
  {
   "cell_type": "code",
   "execution_count": null,
   "id": "97d14ce1-d806-47be-9532-345b7e17cac8",
   "metadata": {},
   "outputs": [],
   "source": [
    "qa_chain = RetrievalQA.from_chain_type(\n",
    "    llm,\n",
    "    retriever=sq_retriever\n",
    ")\n",
    "\n",
    "result = qa_chain({\"query\": q1})\n",
    "print(f'### Question: {q1} ###\\n')\n",
    "result['result']"
   ]
  },
  {
   "cell_type": "code",
   "execution_count": null,
   "id": "69464a57-8bb8-473c-88dc-028d1d36df24",
   "metadata": {},
   "outputs": [],
   "source": [
    "a"
   ]
  },
  {
   "cell_type": "markdown",
   "id": "8ec8870a-5daf-4a67-9530-833bf958da6a",
   "metadata": {},
   "source": [
    "### Combine multiple LLM calls to construct one coherent biography"
   ]
  },
  {
   "cell_type": "markdown",
   "id": "076f3e4c-dd4a-43eb-93e5-b31846618ba4",
   "metadata": {},
   "source": [
    "Experiment 1:\n",
    "\n",
    "    a. Summarize each document individually\n",
    "    b. Feed summaries into one prompt\n",
    "    c. Write the biography, emphasizing specific information"
   ]
  },
  {
   "cell_type": "code",
   "execution_count": null,
   "id": "19819e26-ff95-4ff9-8fbc-2c687ffe5bb7",
   "metadata": {},
   "outputs": [],
   "source": [
    "### Summarize individual documents\n",
    "multi_doc_prompt_dict = {'linkedin': {'q': '', 'a': ''},\n",
    "                         'google': {'q': '', 'a': ''},\n",
    "                         'equilar': {'q': '', 'a': ''},\n",
    "                         'pitchbook': {'q': '', 'a': ''},\n",
    "                         'relsci': {'q': '', 'a': ''},\n",
    "                         'wealthx': {'q': '', 'a': ''},\n",
    "                         'zoominfo': {'q': '', 'a': ''},\n",
    "                        }\n",
    "\n",
    "client = 'Robert King'\n",
    "doc_retriever_template = 'Retrieve the {doc_type} document for {client}.' # Summarize the provided context in 100 or fewer words.'\n",
    "\n",
    "doc_summary_template = '''\n",
    "Summarize the context below in 100 words or less.\n",
    "\n",
    "Context:\n",
    "{context}\n",
    "'''\n",
    "\n",
    "for key in multi_doc_prompt_dict.keys():\n",
    "    ### retrieve exact document per client\n",
    "    q = doc_retriever_template.format(doc_type=key, client=client)\n",
    "    docs = sq_retriever.get_relevant_documents(q)\n",
    "    multi_doc_prompt_dict[key]['q'] = q\n",
    "    #response = qa_chain({'query': 'Summarize the context in 100 words or less.', 'input_docs': docs})\n",
    "\n",
    "    ### summarize the document\n",
    "    doc_content = '\\n'.join([d.page_content for d in docs])\n",
    "    response = llm.call_as_llm(doc_summary_template.format(context=doc_content))\n",
    "    \n",
    "    multi_doc_prompt_dict[key]['a'] = response\n",
    "\n",
    "print('\\n\\n### Results:')\n",
    "for key in multi_doc_prompt_dict.keys():\n",
    "    print(f\"document_type: {key}, summary: {multi_doc_prompt_dict[key]['a']}\")"
   ]
  },
  {
   "cell_type": "code",
   "execution_count": null,
   "id": "b967f493-bfa6-49f6-bfd7-8c946cbea681",
   "metadata": {},
   "outputs": [],
   "source": [
    "### construct one prompt with all of the above summaries\n",
    "\n",
    "bio_prompt_template = '''\n",
    "You are a writer and biographer. You specialize in writing\n",
    "accurate life summarizes given large input documes.\n",
    "Below is information from several documents about a single\n",
    "client named {client}.\n",
    "\n",
    "Prepare a biography that includes in the following order:\n",
    "1. The client's name\n",
    "2. Their professional work history\n",
    "3. Board member activities\n",
    "4. Philantropic activities\n",
    "5. Their education\n",
    "6. Any details about their family\n",
    "\n",
    "Format the output as prose rather than an ordered list.\n",
    "\n",
    "Input context:\n",
    "{context}\n",
    "\n",
    "Your response here:\n",
    "'''\n",
    "\n",
    "context = ''\n",
    "for key in multi_doc_prompt_dict:\n",
    "    context += ('\\n\\n' + multi_doc_prompt_dict[key]['a'])\n",
    "\n",
    "formatted_prompt = bio_prompt_template.format(client=client, context=context)\n",
    "print(f'Input prompt:\\n\\n{formatted_prompt}')\n",
    "\n",
    "response = llm.call_as_llm(formatted_prompt)"
   ]
  },
  {
   "cell_type": "code",
   "execution_count": null,
   "id": "514f00d8-ee15-4f7d-81a9-cc8dfdbfa143",
   "metadata": {},
   "outputs": [],
   "source": [
    "print(response)"
   ]
  },
  {
   "cell_type": "code",
   "execution_count": null,
   "id": "d41c85d6-3f8f-472e-9824-5a908f857677",
   "metadata": {},
   "outputs": [],
   "source": []
  }
 ],
 "metadata": {
  "kernelspec": {
   "display_name": "Python 3 (ipykernel)",
   "language": "python",
   "name": "python3"
  },
  "language_info": {
   "codemirror_mode": {
    "name": "ipython",
    "version": 3
   },
   "file_extension": ".py",
   "mimetype": "text/x-python",
   "name": "python",
   "nbconvert_exporter": "python",
   "pygments_lexer": "ipython3",
   "version": "3.11.5"
  }
 },
 "nbformat": 4,
 "nbformat_minor": 5
}
