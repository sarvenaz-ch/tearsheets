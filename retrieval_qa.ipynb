{
 "cells": [
  {
   "cell_type": "markdown",
   "id": "c17d5ebb-f818-4c84-8b38-bc3dabc589b1",
   "metadata": {},
   "source": [
    "Use Retrieval Q&A to write a bio summary"
   ]
  },
  {
   "cell_type": "code",
   "execution_count": null,
   "id": "b8c5375b-52db-48a6-8874-f99ce0e02c57",
   "metadata": {},
   "outputs": [],
   "source": [
    "# langchain\n",
    "from langchain.chains import RetrievalQA\n",
    "from langchain.embeddings import HuggingFaceInstructEmbeddings\n",
    "from langchain.embeddings.openai import OpenAIEmbeddings\n",
    "from langchain.text_splitter import CharacterTextSplitter\n",
    "from langchain.vectorstores import Chroma\n",
    "from langchain.prompts import PromptTemplate\n",
    "from langchain.document_loaders import PyPDFLoader, TextLoader\n",
    "from langchain.document_loaders import TextLoader\n",
    "from langchain.llms import OpenAI\n",
    "\n",
    "# base python\n",
    "import os\n",
    "from dotenv import load_dotenv\n",
    "import openai\n",
    "\n",
    "# ibm genai\n",
    "from genai.credentials import Credentials\n",
    "from genai.model import Model\n",
    "from genai.schemas import GenerateParams, ModelType\n",
    "from genai.extensions.langchain import LangChainInterface  # langchain support\n",
    "\n",
    "# authentication\n",
    "load_dotenv()\n",
    "api_key = os.getenv(\"GENAI_KEY\", None)\n",
    "api_url = os.getenv(\"GENAI_API\", None)\n",
    "creds = Credentials(api_key, api_endpoint=api_url)\n",
    "openai.api_key = os.getenv('OPENAI_API_KEY')"
   ]
  },
  {
   "cell_type": "markdown",
   "id": "edb014dc-ec19-4e58-a9a9-5a46be60e429",
   "metadata": {},
   "source": [
    "LLM from IBM"
   ]
  },
  {
   "cell_type": "code",
   "execution_count": null,
   "id": "f10f6c07-d399-4422-8729-c5b35ed80641",
   "metadata": {},
   "outputs": [],
   "source": [
    "# load model\n",
    "\n",
    "'''\n",
    "llm = LangChainInterface(\n",
    "        model=ModelType.FLAN_UL2,  # choice of model is not necessarily optimal\n",
    "        credentials=Credentials(os.environ.get(\"GENAI_KEY\")),\n",
    "        params=GenerateParams(\n",
    "            decoding_method=\"greedy\",\n",
    "            max_new_tokens=1500,\n",
    "            min_new_tokens=1,\n",
    "            repetition_penalty=2,\n",
    "        ).dict()\n",
    "    )\n",
    "'''\n",
    "llm = OpenAI(temperature=0)"
   ]
  },
  {
   "cell_type": "markdown",
   "id": "2c381133-04b4-490d-9c00-2bbc140593d8",
   "metadata": {},
   "source": [
    "Custom Prompt Template"
   ]
  },
  {
   "cell_type": "code",
   "execution_count": null,
   "id": "870d1ec1-8caa-4d98-9585-35ecbf23bce1",
   "metadata": {},
   "outputs": [],
   "source": [
    "prompt_template = \"\"\"Use the following pieces of context about the same entity\n",
    "to write a one-paragraph biography. \n",
    "\n",
    "{context}\n",
    "\n",
    "The response should have the following format:\n",
    "1. First state the person's name and current job.\n",
    "2. Provide a summary of their work experience.\n",
    "If the person is a board member or holds other very senior roles,\n",
    "be sure to include that information. \n",
    "3. Then summarize the schools they attended and what degrees were earned.\n",
    "\n",
    "Question: {question}\n",
    "Answer: \"\"\"\n",
    "PROMPT = PromptTemplate(\n",
    "    template=prompt_template, input_variables=[\"context\", \"question\"]\n",
    ")"
   ]
  },
  {
   "cell_type": "markdown",
   "id": "f2c65737-aab7-4db2-bb87-4b0e45c194cf",
   "metadata": {},
   "source": [
    "Load document"
   ]
  },
  {
   "cell_type": "code",
   "execution_count": null,
   "id": "1f1a0ffb-5f49-4c80-be9d-aee55051e068",
   "metadata": {},
   "outputs": [],
   "source": [
    "#loader = TextLoader(\"../../state_of_the_union.txt\")\n",
    "#documents = loader.load()\n",
    "\n",
    "loader = PyPDFLoader(\"data/Profile.pdf\")\n",
    "documents = loader.load_and_split()  # each page is a different document\n",
    "\n",
    "text_splitter = CharacterTextSplitter(chunk_size=1000, chunk_overlap=0)\n",
    "texts = text_splitter.split_documents(documents)\n",
    "\n",
    "#embeddings = HuggingFaceInstructEmbeddings(\n",
    "#            model_name=\"hkunlp/instructor-large\",\n",
    "#            model_kwargs={\"device\": \"cpu\"}\n",
    "#        )\n",
    "embeddings = OpenAIEmbeddings()\n",
    "\n",
    "docsearch = Chroma.from_documents(texts, embeddings)"
   ]
  },
  {
   "cell_type": "markdown",
   "id": "cbfce016-af77-4539-8ad4-e8ebfee8b707",
   "metadata": {},
   "source": [
    "Retrieval"
   ]
  },
  {
   "cell_type": "code",
   "execution_count": null,
   "id": "e5199c80-e73f-4fa6-84f9-28b0e5221835",
   "metadata": {},
   "outputs": [],
   "source": [
    "chain_type_kwargs = {\"prompt\": PROMPT}  # use the above custom prompt\n",
    "qa = RetrievalQA.from_chain_type(llm=llm, chain_type=\"stuff\", retriever=docsearch.as_retriever(), chain_type_kwargs=chain_type_kwargs)"
   ]
  },
  {
   "cell_type": "code",
   "execution_count": null,
   "id": "8146aa02-c8af-42b6-a14b-ce7ed8bfc928",
   "metadata": {},
   "outputs": [],
   "source": [
    "query = \"Write me a biography about Subbu Iyer\"\n",
    "qa.run(query)"
   ]
  },
  {
   "cell_type": "code",
   "execution_count": null,
   "id": "2fdfc861-eb8d-4a23-9e4c-2aac2e6dd1ce",
   "metadata": {},
   "outputs": [],
   "source": [
    "query = 'Where does Subbu Iyer work currently and is the job title?'\n",
    "current_work = qa.run(query)\n",
    "current_work"
   ]
  },
  {
   "cell_type": "code",
   "execution_count": null,
   "id": "4aaf5629-4830-405f-bd3a-346c81642b9a",
   "metadata": {},
   "outputs": [],
   "source": [
    "query = \"Describe the work history of Subbu Iyer, excluding the current position.\"\n",
    "work_experience = qa.run(query)\n",
    "work_experience"
   ]
  },
  {
   "cell_type": "code",
   "execution_count": null,
   "id": "f8bb29fb-68f7-424a-9148-8ff0826b7778",
   "metadata": {},
   "outputs": [],
   "source": [
    "query = \"Describe the education of Subbu Iyer\"\n",
    "education = qa.run(query)\n",
    "education"
   ]
  },
  {
   "cell_type": "markdown",
   "id": "e820ad2e-7f5a-4bf4-8622-b048fff60c53",
   "metadata": {},
   "source": [
    "Separate call to write the summary:"
   ]
  },
  {
   "cell_type": "code",
   "execution_count": null,
   "id": "34bf2702-ad0e-4f1e-8081-f1dae3c1b304",
   "metadata": {},
   "outputs": [],
   "source": [
    "summary_prompt = f'''Given the following information about work and education\n",
    "history, write a biography about the person. Use complete and grammatically correct sentences.\n",
    "\n",
    "Current work:\n",
    "{current_work}\n",
    "\n",
    "Past work:\n",
    "{work_experience}\n",
    "\n",
    "Education:\n",
    "{education}\n",
    "\n",
    "Be sure to include at least one sentence\n",
    "for each of these categories: current work, past work, and education.\n",
    "Your response here.\n",
    "'''\n",
    "print(summary_prompt)"
   ]
  },
  {
   "cell_type": "code",
   "execution_count": null,
   "id": "76725d54-1d0e-44f7-9b4e-a5deb659848e",
   "metadata": {},
   "outputs": [],
   "source": [
    "summary = llm.generate([summary_prompt])\n",
    "summary.generations[0][0].text"
   ]
  },
  {
   "cell_type": "code",
   "execution_count": null,
   "id": "5ccac318-d47d-428a-8b0b-64f86baa5cda",
   "metadata": {},
   "outputs": [],
   "source": []
  },
  {
   "cell_type": "code",
   "execution_count": null,
   "id": "dade343d-edff-4159-a930-bf1a48fb3cdb",
   "metadata": {},
   "outputs": [],
   "source": []
  }
 ],
 "metadata": {
  "kernelspec": {
   "display_name": "Python 3 (ipykernel)",
   "language": "python",
   "name": "python3"
  },
  "language_info": {
   "codemirror_mode": {
    "name": "ipython",
    "version": 3
   },
   "file_extension": ".py",
   "mimetype": "text/x-python",
   "name": "python",
   "nbconvert_exporter": "python",
   "pygments_lexer": "ipython3",
   "version": "3.11.3"
  }
 },
 "nbformat": 4,
 "nbformat_minor": 5
}
