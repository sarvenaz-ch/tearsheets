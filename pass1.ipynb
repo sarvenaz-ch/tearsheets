{
 "cells": [
  {
   "cell_type": "markdown",
   "id": "b9ecb001-11bd-4f72-a0e1-4903035f26f1",
   "metadata": {},
   "source": [
    "First Pass Prototype (6/22)"
   ]
  },
  {
   "cell_type": "code",
   "execution_count": 1,
   "id": "8e803de4-b78e-4b21-95ed-4effd6d1e58e",
   "metadata": {},
   "outputs": [],
   "source": [
    "import time, os, glob\n",
    "from dotenv import load_dotenv\n",
    "\n",
    "# ibm genai\n",
    "from genai.credentials import Credentials\n",
    "from genai.model import Model\n",
    "from genai.schemas import GenerateParams, ModelType\n",
    "\n",
    "load_dotenv()\n",
    "api_key = os.getenv(\"GENAI_KEY\", None)\n",
    "api_url = os.getenv(\"GENAI_API\", None)\n",
    "creds = Credentials(api_key, api_endpoint=api_url)"
   ]
  },
  {
   "cell_type": "markdown",
   "id": "93e7bc98-dd27-4312-bab6-204ba908ca81",
   "metadata": {},
   "source": [
    "Reusable utilities"
   ]
  },
  {
   "cell_type": "code",
   "execution_count": 2,
   "id": "708933ae-df78-49af-a885-8a1c14ec21e8",
   "metadata": {},
   "outputs": [],
   "source": [
    "def get_completion_from_messages(model, user_input, prompt,\n",
    "                                delimiter='###', verbose=True):\n",
    "\n",
    "    '''\n",
    "    Format a prompt with user_input and delimiter.\n",
    "    Pass to model and get the output.\n",
    "    '''\n",
    "\n",
    "    message = prompt.format(delimiter=delimiter,\n",
    "                                user_input=user_input)\n",
    "\n",
    "    response = model.generate([message])[0].generated_text\n",
    "                                    \n",
    "    if verbose:\n",
    "        print('### Input: ###')\n",
    "        print(message)\n",
    "        print('### Output: ###')\n",
    "        print(response)\n",
    "\n",
    "    return response"
   ]
  },
  {
   "cell_type": "markdown",
   "id": "f55f9704-a118-4c87-9f3b-fbff1de42e77",
   "metadata": {},
   "source": [
    "# Create initial model"
   ]
  },
  {
   "cell_type": "code",
   "execution_count": 3,
   "id": "fcdf1634-6328-4c3e-b8ae-3ca0496581e4",
   "metadata": {},
   "outputs": [
    {
     "data": {
      "text/plain": [
       "\u001b[0;31mInit signature:\u001b[0m\n",
       "\u001b[0mGenerateParams\u001b[0m\u001b[0;34m(\u001b[0m\u001b[0;34m\u001b[0m\n",
       "\u001b[0;34m\u001b[0m    \u001b[0;34m*\u001b[0m\u001b[0;34m,\u001b[0m\u001b[0;34m\u001b[0m\n",
       "\u001b[0;34m\u001b[0m    \u001b[0mdecoding_method\u001b[0m\u001b[0;34m:\u001b[0m \u001b[0mOptional\u001b[0m\u001b[0;34m[\u001b[0m\u001b[0mLiteral\u001b[0m\u001b[0;34m[\u001b[0m\u001b[0;34m'greedy'\u001b[0m\u001b[0;34m,\u001b[0m \u001b[0;34m'sample'\u001b[0m\u001b[0;34m]\u001b[0m\u001b[0;34m]\u001b[0m \u001b[0;34m=\u001b[0m \u001b[0;32mNone\u001b[0m\u001b[0;34m,\u001b[0m\u001b[0;34m\u001b[0m\n",
       "\u001b[0;34m\u001b[0m    \u001b[0mlength_penalty\u001b[0m\u001b[0;34m:\u001b[0m \u001b[0mOptional\u001b[0m\u001b[0;34m[\u001b[0m\u001b[0mgenai\u001b[0m\u001b[0;34m.\u001b[0m\u001b[0mschemas\u001b[0m\u001b[0;34m.\u001b[0m\u001b[0mgenerate_params\u001b[0m\u001b[0;34m.\u001b[0m\u001b[0mLengthPenalty\u001b[0m\u001b[0;34m]\u001b[0m \u001b[0;34m=\u001b[0m \u001b[0;32mNone\u001b[0m\u001b[0;34m,\u001b[0m\u001b[0;34m\u001b[0m\n",
       "\u001b[0;34m\u001b[0m    \u001b[0mmax_new_tokens\u001b[0m\u001b[0;34m:\u001b[0m \u001b[0mOptional\u001b[0m\u001b[0;34m[\u001b[0m\u001b[0mint\u001b[0m\u001b[0;34m]\u001b[0m \u001b[0;34m=\u001b[0m \u001b[0;32mNone\u001b[0m\u001b[0;34m,\u001b[0m\u001b[0;34m\u001b[0m\n",
       "\u001b[0;34m\u001b[0m    \u001b[0mmin_new_tokens\u001b[0m\u001b[0;34m:\u001b[0m \u001b[0mOptional\u001b[0m\u001b[0;34m[\u001b[0m\u001b[0mint\u001b[0m\u001b[0;34m]\u001b[0m \u001b[0;34m=\u001b[0m \u001b[0;32mNone\u001b[0m\u001b[0;34m,\u001b[0m\u001b[0;34m\u001b[0m\n",
       "\u001b[0;34m\u001b[0m    \u001b[0mrandom_seed\u001b[0m\u001b[0;34m:\u001b[0m \u001b[0mOptional\u001b[0m\u001b[0;34m[\u001b[0m\u001b[0mgenai\u001b[0m\u001b[0;34m.\u001b[0m\u001b[0mschemas\u001b[0m\u001b[0;34m.\u001b[0m\u001b[0mgenerate_params\u001b[0m\u001b[0;34m.\u001b[0m\u001b[0mConstrainedIntValue\u001b[0m\u001b[0;34m]\u001b[0m \u001b[0;34m=\u001b[0m \u001b[0;32mNone\u001b[0m\u001b[0;34m,\u001b[0m\u001b[0;34m\u001b[0m\n",
       "\u001b[0;34m\u001b[0m    \u001b[0mstop_sequences\u001b[0m\u001b[0;34m:\u001b[0m \u001b[0mOptional\u001b[0m\u001b[0;34m[\u001b[0m\u001b[0mlist\u001b[0m\u001b[0;34m[\u001b[0m\u001b[0mstr\u001b[0m\u001b[0;34m]\u001b[0m\u001b[0;34m]\u001b[0m \u001b[0;34m=\u001b[0m \u001b[0;32mNone\u001b[0m\u001b[0;34m,\u001b[0m\u001b[0;34m\u001b[0m\n",
       "\u001b[0;34m\u001b[0m    \u001b[0mstream\u001b[0m\u001b[0;34m:\u001b[0m \u001b[0mOptional\u001b[0m\u001b[0;34m[\u001b[0m\u001b[0mbool\u001b[0m\u001b[0;34m]\u001b[0m \u001b[0;34m=\u001b[0m \u001b[0;32mNone\u001b[0m\u001b[0;34m,\u001b[0m\u001b[0;34m\u001b[0m\n",
       "\u001b[0;34m\u001b[0m    \u001b[0mtemperature\u001b[0m\u001b[0;34m:\u001b[0m \u001b[0mOptional\u001b[0m\u001b[0;34m[\u001b[0m\u001b[0mgenai\u001b[0m\u001b[0;34m.\u001b[0m\u001b[0mschemas\u001b[0m\u001b[0;34m.\u001b[0m\u001b[0mgenerate_params\u001b[0m\u001b[0;34m.\u001b[0m\u001b[0mConstrainedFloatValue\u001b[0m\u001b[0;34m]\u001b[0m \u001b[0;34m=\u001b[0m \u001b[0;32mNone\u001b[0m\u001b[0;34m,\u001b[0m\u001b[0;34m\u001b[0m\n",
       "\u001b[0;34m\u001b[0m    \u001b[0mtime_limit\u001b[0m\u001b[0;34m:\u001b[0m \u001b[0mOptional\u001b[0m\u001b[0;34m[\u001b[0m\u001b[0mint\u001b[0m\u001b[0;34m]\u001b[0m \u001b[0;34m=\u001b[0m \u001b[0;32mNone\u001b[0m\u001b[0;34m,\u001b[0m\u001b[0;34m\u001b[0m\n",
       "\u001b[0;34m\u001b[0m    \u001b[0mtop_k\u001b[0m\u001b[0;34m:\u001b[0m \u001b[0mOptional\u001b[0m\u001b[0;34m[\u001b[0m\u001b[0mgenai\u001b[0m\u001b[0;34m.\u001b[0m\u001b[0mschemas\u001b[0m\u001b[0;34m.\u001b[0m\u001b[0mgenerate_params\u001b[0m\u001b[0;34m.\u001b[0m\u001b[0mConstrainedIntValue\u001b[0m\u001b[0;34m]\u001b[0m \u001b[0;34m=\u001b[0m \u001b[0;32mNone\u001b[0m\u001b[0;34m,\u001b[0m\u001b[0;34m\u001b[0m\n",
       "\u001b[0;34m\u001b[0m    \u001b[0mtop_p\u001b[0m\u001b[0;34m:\u001b[0m \u001b[0mOptional\u001b[0m\u001b[0;34m[\u001b[0m\u001b[0mgenai\u001b[0m\u001b[0;34m.\u001b[0m\u001b[0mschemas\u001b[0m\u001b[0;34m.\u001b[0m\u001b[0mgenerate_params\u001b[0m\u001b[0;34m.\u001b[0m\u001b[0mConstrainedFloatValue\u001b[0m\u001b[0;34m]\u001b[0m \u001b[0;34m=\u001b[0m \u001b[0;32mNone\u001b[0m\u001b[0;34m,\u001b[0m\u001b[0;34m\u001b[0m\n",
       "\u001b[0;34m\u001b[0m    \u001b[0mrepetition_penalty\u001b[0m\u001b[0;34m:\u001b[0m \u001b[0mOptional\u001b[0m\u001b[0;34m[\u001b[0m\u001b[0mfloat\u001b[0m\u001b[0;34m]\u001b[0m \u001b[0;34m=\u001b[0m \u001b[0;32mNone\u001b[0m\u001b[0;34m,\u001b[0m\u001b[0;34m\u001b[0m\n",
       "\u001b[0;34m\u001b[0m    \u001b[0mtruncate_input_tokens\u001b[0m\u001b[0;34m:\u001b[0m \u001b[0mOptional\u001b[0m\u001b[0;34m[\u001b[0m\u001b[0mint\u001b[0m\u001b[0;34m]\u001b[0m \u001b[0;34m=\u001b[0m \u001b[0;32mNone\u001b[0m\u001b[0;34m,\u001b[0m\u001b[0;34m\u001b[0m\n",
       "\u001b[0;34m\u001b[0m    \u001b[0mreturn_options\u001b[0m\u001b[0;34m:\u001b[0m \u001b[0mOptional\u001b[0m\u001b[0;34m[\u001b[0m\u001b[0mgenai\u001b[0m\u001b[0;34m.\u001b[0m\u001b[0mschemas\u001b[0m\u001b[0;34m.\u001b[0m\u001b[0mgenerate_params\u001b[0m\u001b[0;34m.\u001b[0m\u001b[0mReturnOptions\u001b[0m\u001b[0;34m]\u001b[0m \u001b[0;34m=\u001b[0m \u001b[0;32mNone\u001b[0m\u001b[0;34m,\u001b[0m\u001b[0;34m\u001b[0m\n",
       "\u001b[0;34m\u001b[0m    \u001b[0mreturns\u001b[0m\u001b[0;34m:\u001b[0m \u001b[0mOptional\u001b[0m\u001b[0;34m[\u001b[0m\u001b[0mgenai\u001b[0m\u001b[0;34m.\u001b[0m\u001b[0mschemas\u001b[0m\u001b[0;34m.\u001b[0m\u001b[0mgenerate_params\u001b[0m\u001b[0;34m.\u001b[0m\u001b[0mReturn\u001b[0m\u001b[0;34m]\u001b[0m \u001b[0;34m=\u001b[0m \u001b[0;32mNone\u001b[0m\u001b[0;34m,\u001b[0m\u001b[0;34m\u001b[0m\n",
       "\u001b[0;34m\u001b[0m\u001b[0;34m)\u001b[0m \u001b[0;34m->\u001b[0m \u001b[0;32mNone\u001b[0m\u001b[0;34m\u001b[0m\u001b[0;34m\u001b[0m\u001b[0m\n",
       "\u001b[0;31mInit docstring:\u001b[0m\n",
       "Create a new model by parsing and validating input data from keyword arguments.\n",
       "\n",
       "Raises ValidationError if the input data cannot be parsed to form a valid model.\n",
       "\u001b[0;31mFile:\u001b[0m           ~/venv/llm/lib/python3.11/site-packages/genai/schemas/generate_params.py\n",
       "\u001b[0;31mType:\u001b[0m           ModelMetaclass\n",
       "\u001b[0;31mSubclasses:\u001b[0m     "
      ]
     },
     "metadata": {},
     "output_type": "display_data"
    }
   ],
   "source": [
    "GenerateParams?"
   ]
  },
  {
   "cell_type": "code",
   "execution_count": 4,
   "id": "07699f96-53a0-4543-9c7b-45cb7a4292b5",
   "metadata": {},
   "outputs": [],
   "source": [
    "params = GenerateParams(decoding_method=\"sample\",\n",
    "    max_new_tokens=50,\n",
    "    min_new_tokens=1,\n",
    "    stream=False,\n",
    "    temperature=0.7,\n",
    "    top_k=50,\n",
    "    top_p=1,\n",
    "    repetition_penalty=2,\n",
    "    )\n",
    "model = Model(ModelType.FLAN_UL2, params=params, credentials=creds)"
   ]
  },
  {
   "cell_type": "markdown",
   "id": "377979ec-9f75-4ffc-acb7-f3514f4b0a46",
   "metadata": {},
   "source": [
    "## Determine which categories are relevant for a question"
   ]
  },
  {
   "cell_type": "code",
   "execution_count": 5,
   "id": "e314027c-8fd1-4661-abb7-b852b36b64f1",
   "metadata": {},
   "outputs": [],
   "source": [
    "delimiter = \"####\"\n",
    "prompt = \"\"\"You will be provided with queries about people. \\\n",
    "The query will be delimited with \\\n",
    "{delimiter} characters.\n",
    "\n",
    "Indicate which cagetories the query is relevant to among \\\n",
    "the following categories: Bank Account, Career/Education, Transactions.\n",
    "\n",
    "Example Question: Tell me Bill's current position and deposit balance.\n",
    "Example Output: Bank Account, Career/Education\n",
    "\n",
    "{delimiter}{user_input}{delimiter}\n",
    "\n",
    "Your response here.\n",
    "\"\"\""
   ]
  },
  {
   "cell_type": "code",
   "execution_count": 6,
   "id": "793abbb3-9bd8-414e-a98d-d5459a297800",
   "metadata": {},
   "outputs": [
    {
     "name": "stdout",
     "output_type": "stream",
     "text": [
      "### Input: ###\n",
      "You will be provided with queries about people. The query will be delimited with #### characters.\n",
      "\n",
      "Indicate which cagetories the query is relevant to among the following categories: Bank Account, Career/Education, Transactions.\n",
      "\n",
      "Example Question: Tell me Bill's current position and deposit balance.\n",
      "Example Output: Bank Account, Career/Education\n",
      "\n",
      "####Tell me whether Bill Drinks coffee####\n",
      "\n",
      "Your response here.\n",
      "\n",
      "### Output: ###\n",
      "Transactions\n"
     ]
    }
   ],
   "source": [
    "user_input = f\"\"\"Tell me whether Bill Drinks coffee\"\"\"\n",
    "\n",
    "response = get_completion_from_messages(model, user_input, prompt,\n",
    "                                        delimiter, verbose=True)"
   ]
  },
  {
   "cell_type": "code",
   "execution_count": 7,
   "id": "8914fcba-69e4-43be-b2fb-00d5efe30ed6",
   "metadata": {},
   "outputs": [
    {
     "name": "stdout",
     "output_type": "stream",
     "text": [
      "### Input: ###\n",
      "You will be provided with queries about people. The query will be delimited with #### characters.\n",
      "\n",
      "Indicate which cagetories the query is relevant to among the following categories: Bank Account, Career/Education, Transactions.\n",
      "\n",
      "Example Question: Tell me Bill's current position and deposit balance.\n",
      "Example Output: Bank Account, Career/Education\n",
      "\n",
      "####Tell me whether about Bob W's relationship with the bank.####\n",
      "\n",
      "Your response here.\n",
      "\n",
      "### Output: ###\n",
      "Bank Account\n"
     ]
    }
   ],
   "source": [
    "user_input = f\"\"\"Tell me whether about Bob W's relationship with the bank.\"\"\"\n",
    "\n",
    "response = get_completion_from_messages(model, user_input, prompt,\n",
    "                                        delimiter, verbose=True)"
   ]
  },
  {
   "cell_type": "code",
   "execution_count": 8,
   "id": "c5700c50-c360-4310-986e-196c68b16cb9",
   "metadata": {},
   "outputs": [
    {
     "name": "stdout",
     "output_type": "stream",
     "text": [
      "### Input: ###\n",
      "You will be provided with queries about people. The query will be delimited with #### characters.\n",
      "\n",
      "Indicate which cagetories the query is relevant to among the following categories: Bank Account, Career/Education, Transactions.\n",
      "\n",
      "Example Question: Tell me Bill's current position and deposit balance.\n",
      "Example Output: Bank Account, Career/Education\n",
      "\n",
      "####Tell me whether about Alice's eduation. Is she really so smart?####\n",
      "\n",
      "Your response here.\n",
      "\n",
      "### Output: ###\n",
      "Career/Education\n"
     ]
    }
   ],
   "source": [
    "user_input = f\"\"\"Tell me whether about Alice's eduation. Is she really so smart?\"\"\"\n",
    "\n",
    "response = get_completion_from_messages(model, user_input, prompt,\n",
    "                                        delimiter, verbose=True)"
   ]
  },
  {
   "cell_type": "code",
   "execution_count": 9,
   "id": "1eb6c005-4033-410a-97c7-c4141fc91d9e",
   "metadata": {},
   "outputs": [
    {
     "name": "stdout",
     "output_type": "stream",
     "text": [
      "### Input: ###\n",
      "You will be provided with queries about people. The query will be delimited with #### characters.\n",
      "\n",
      "Indicate which cagetories the query is relevant to among the following categories: Bank Account, Career/Education, Transactions.\n",
      "\n",
      "Example Question: Tell me Bill's current position and deposit balance.\n",
      "Example Output: Bank Account, Career/Education\n",
      "\n",
      "####Tell me whether about Alice's career progression and current bank balance.####\n",
      "\n",
      "Your response here.\n",
      "\n",
      "### Output: ###\n",
      "Bank Account, Career/Education\n"
     ]
    }
   ],
   "source": [
    "user_input = f\"\"\"Tell me whether about Alice's career progression and current bank balance.\"\"\"\n",
    "\n",
    "response = get_completion_from_messages(model, user_input, prompt,\n",
    "                                        delimiter, verbose=True)"
   ]
  },
  {
   "cell_type": "code",
   "execution_count": 10,
   "id": "7f90de59-bd53-481e-86ca-64f7625d744f",
   "metadata": {},
   "outputs": [
    {
     "name": "stdout",
     "output_type": "stream",
     "text": [
      "### Input: ###\n",
      "You will be provided with queries about people. The query will be delimited with #### characters.\n",
      "\n",
      "Indicate which cagetories the query is relevant to among the following categories: Bank Account, Career/Education, Transactions.\n",
      "\n",
      "Example Question: Tell me Bill's current position and deposit balance.\n",
      "Example Output: Bank Account, Career/Education\n",
      "\n",
      "####Summarize the President's job history, banking stats, and spending history.####\n",
      "\n",
      "Your response here.\n",
      "\n",
      "### Output: ###\n",
      "Transactions\n"
     ]
    }
   ],
   "source": [
    "user_input = f\"\"\"Summarize the President's job history, banking stats, and spending history.\"\"\"\n",
    "\n",
    "response = get_completion_from_messages(model, user_input, prompt,\n",
    "                                        delimiter, verbose=True)"
   ]
  },
  {
   "cell_type": "markdown",
   "id": "f3c22932-97ad-42bd-b8e8-eb51388a9329",
   "metadata": {},
   "source": [
    "## Given the relevant categories, read and inject data into the prompt"
   ]
  },
  {
   "cell_type": "code",
   "execution_count": 11,
   "id": "405281d2-20b7-4146-bcd7-358fe3dccfeb",
   "metadata": {},
   "outputs": [],
   "source": [
    "def client_qa(model, client, user_input, delimiter='###', verbose=True):\n",
    "    '''\n",
    "    Given llm, client name, and user question, present the appropriate data\n",
    "    to the llm in order to garner an answer.\n",
    "    '''\n",
    "\n",
    "    # map of categories to data file names - can live outside this function\n",
    "    master_categories = {'bank_facts.txt': 'Bank Account',\n",
    "     'transactions.txt': 'Transactions', \n",
    "     'linkedin.txt': 'Career/Education'\n",
    "    }\n",
    "\n",
    "    master_categories_rev = {v:k for k,v in master_categories.items()}\n",
    "\n",
    "    client = client.lower().replace(' ', '_')\n",
    "    \n",
    "    categories = glob.glob(f\"data/{client}/*txt\")\n",
    "    categories = [os.path.basename(c) for c in categories]\n",
    "    categories = [master_categories[c] for c in categories if master_categories.get(c, None)]\n",
    "    print(categories)\n",
    "    \n",
    "    # Step 1: Determine the categories and apply to template\n",
    "    # delimiter and user_input added later\n",
    "    print(f'\\nINFO: Step 1: Determine the right categories')\n",
    "\n",
    "    category_prompt = \"\"\"You will be provided with queries about people. \\\n",
    "The query will be delimited with \\\n",
    "{{delimiter}} characters.\n",
    "\n",
    "Indicate which cagetories the query is relevant to among \\\n",
    "the following categories: {categories}.\n",
    "\n",
    "Example Question: Tell me Bill's current position and deposit balance.\n",
    "Example Output: Bank Account, Career/Education\n",
    "\n",
    "{{delimiter}}{{user_input}}{{delimiter}}\n",
    "\n",
    "Your response here.\n",
    "    \"\"\".format(categories=', '.join(sorted(categories)))\n",
    "\n",
    "    response = get_completion_from_messages(model, user_input, category_prompt,\n",
    "                                        delimiter, verbose=verbose)\n",
    "    categories = response.split(', ')\n",
    "    print(f'\\nINFO: Using the following categories: {categories}')\n",
    "\n",
    "    # Step 2: For each relevant category, load the data\n",
    "    print('\\nINFO: Entering Stage 2')\n",
    "    reference_data = ''\n",
    "    for c in categories:\n",
    "        f = f'data/{client}/{master_categories_rev[c]}'\n",
    "        with open(f, 'r') as fin:\n",
    "            data = ''.join(fin.readlines())\n",
    "            reference_data += f'{c}:\\n{data}\\n\\n'\n",
    "    \n",
    "    # Step 3: Define the Q&A prompt and inject the reference data\n",
    "    qa_prompt = \"\"\"You will be provided with queries about people. \\\n",
    "The query will be delimited with \\\n",
    "{{delimiter}} characters.\n",
    "\n",
    "Reference the following information when answering the question.\n",
    "{reference_data}\n",
    "\n",
    "{{delimiter}}{{user_input}}{{delimiter}}\n",
    "\n",
    "Your response here.\n",
    "    \"\"\".format(reference_data=reference_data)\n",
    "\n",
    "    response = get_completion_from_messages(model, user_input, qa_prompt,\n",
    "                                        delimiter, verbose=verbose)\n",
    "\n",
    "    return response"
   ]
  },
  {
   "cell_type": "code",
   "execution_count": 20,
   "id": "f0e6a4cd-eaf6-4f48-8193-ae4b49616f6a",
   "metadata": {},
   "outputs": [
    {
     "name": "stdout",
     "output_type": "stream",
     "text": [
      "['Bank Account', 'Transactions', 'Career/Education']\n",
      "\n",
      "INFO: Step 1: Determine the right categories\n",
      "### Input: ###\n",
      "You will be provided with queries about people. The query will be delimited with ### characters.\n",
      "\n",
      "Indicate which cagetories the query is relevant to among the following categories: Bank Account, Career/Education, Transactions.\n",
      "\n",
      "Example Question: Tell me Bill's current position and deposit balance.\n",
      "Example Output: Bank Account, Career/Education\n",
      "\n",
      "###Summarize Richie's education and work history in prose.###\n",
      "\n",
      "Your response here.\n",
      "    \n",
      "### Output: ###\n",
      "Career/Education\n",
      "\n",
      "INFO: Using the following categories: ['Career/Education']\n",
      "\n",
      "INFO: Entering Stage 2\n",
      "### Input: ###\n",
      "You will be provided with queries about people. The query will be delimited with ### characters.\n",
      "\n",
      "Reference the following information when answering the question.\n",
      "Career/Education:\n",
      "Richie currently works as an executive in banking.\n",
      "\n",
      "Work Experience:\n",
      "1. Big Shot @ Old Boys Bank (2005 - Present)\n",
      "2. Intern @ Vater and Co. (1999 - 2005)\n",
      "\n",
      "Education:\n",
      "1. Degree Factory State University. Major = Nothing imporant. Graduated 2005.\n",
      "2. Big Shot Prep School. 1997 - 2001.\n",
      "\n",
      "\n",
      "\n",
      "\n",
      "###Summarize Richie's education and work history in prose.###\n",
      "\n",
      "Your response here.\n",
      "    \n",
      "### Output: ###\n",
      "Richie currently works as an executive in banking. He graduated from Degree Factory State University in 2005 with a major of nothing important. He also attended Big Shot Prep School where he interned for Vater and Co.\n"
     ]
    }
   ],
   "source": [
    "# career and education\n",
    "response = client_qa(model, 'richie mcrface', \n",
    "                     'Summarize Richie\\'s education and work history in prose.',\n",
    "                     verbose=True,\n",
    "                    )"
   ]
  },
  {
   "cell_type": "code",
   "execution_count": 21,
   "id": "7d67842a-e562-486a-bc53-60018a2e5a63",
   "metadata": {},
   "outputs": [
    {
     "name": "stdout",
     "output_type": "stream",
     "text": [
      "['Bank Account', 'Transactions', 'Career/Education']\n",
      "\n",
      "INFO: Step 1: Determine the right categories\n",
      "### Input: ###\n",
      "You will be provided with queries about people. The query will be delimited with ### characters.\n",
      "\n",
      "Indicate which cagetories the query is relevant to among the following categories: Bank Account, Career/Education, Transactions.\n",
      "\n",
      "Example Question: Tell me Bill's current position and deposit balance.\n",
      "Example Output: Bank Account, Career/Education\n",
      "\n",
      "###Summarize in prose Richie's banking relationship###\n",
      "\n",
      "Your response here.\n",
      "    \n",
      "### Output: ###\n",
      "Bank Account\n",
      "\n",
      "INFO: Using the following categories: ['Bank Account']\n",
      "\n",
      "INFO: Entering Stage 2\n",
      "### Input: ###\n",
      "You will be provided with queries about people. The query will be delimited with ### characters.\n",
      "\n",
      "Reference the following information when answering the question.\n",
      "Bank Account:\n",
      "deposits: $1.6M\n",
      "loans: $20M\n",
      "wealth: $0.5M\n",
      "\n",
      "\n",
      "\n",
      "\n",
      "###Summarize in prose Richie's banking relationship###\n",
      "\n",
      "Your response here.\n",
      "    \n",
      "### Output: ###\n",
      "Richie has $1,6 million in deposits and $20 million in loans. He has a $0.5 million wealth.\n"
     ]
    }
   ],
   "source": [
    "# test banking\n",
    "response = client_qa(model, 'richie mcrface', \n",
    "                     'Summarize in prose Richie\\'s banking relationship',\n",
    "                     verbose=True,\n",
    "                    )"
   ]
  },
  {
   "cell_type": "code",
   "execution_count": 23,
   "id": "2d0fb9d8-5d9a-4250-b045-5819d498e3d0",
   "metadata": {},
   "outputs": [
    {
     "name": "stdout",
     "output_type": "stream",
     "text": [
      "['Bank Account', 'Transactions', 'Career/Education']\n",
      "\n",
      "INFO: Step 1: Determine the right categories\n",
      "### Input: ###\n",
      "You will be provided with queries about people. The query will be delimited with ### characters.\n",
      "\n",
      "Indicate which cagetories the query is relevant to among the following categories: Bank Account, Career/Education, Transactions.\n",
      "\n",
      "Example Question: Tell me Bill's current position and deposit balance.\n",
      "Example Output: Bank Account, Career/Education\n",
      "\n",
      "###What was the largest transation?###\n",
      "\n",
      "Your response here.\n",
      "    \n",
      "### Output: ###\n",
      "Transactions\n",
      "\n",
      "INFO: Using the following categories: ['Transactions']\n",
      "\n",
      "INFO: Entering Stage 2\n",
      "### Input: ###\n",
      "You will be provided with queries about people. The query will be delimited with ### characters.\n",
      "\n",
      "Reference the following information when answering the question.\n",
      "Transactions:\n",
      "This table shows incoming and outgoing transactions.  Negative amounts are outgoing. Positive amounts are incoming.\n",
      "Amount Recipient_or_Sender\n",
      "-5 Starbucks coffee\n",
      "-100 Transfer to Bob\n",
      "200 Incoming direct deposit\n",
      "\n",
      "\n",
      "\n",
      "\n",
      "###What was the largest transation?###\n",
      "\n",
      "Your response here.\n",
      "    \n",
      "### Output: ###\n",
      "200 Incoming direct deposit\n"
     ]
    }
   ],
   "source": [
    "# test transactions\n",
    "response = client_qa(model, 'richie mcrface', \n",
    "                     'What was the largest transation?',\n",
    "                     verbose=True,\n",
    "                    )"
   ]
  },
  {
   "cell_type": "code",
   "execution_count": 26,
   "id": "51786b78-2e53-43cd-8401-a64a6286ac5e",
   "metadata": {},
   "outputs": [
    {
     "name": "stdout",
     "output_type": "stream",
     "text": [
      "['Bank Account', 'Transactions', 'Career/Education']\n",
      "\n",
      "INFO: Step 1: Determine the right categories\n",
      "### Input: ###\n",
      "You will be provided with queries about people. The query will be delimited with ### characters.\n",
      "\n",
      "Indicate which cagetories the query is relevant to among the following categories: Bank Account, Career/Education, Transactions.\n",
      "\n",
      "Example Question: Tell me Bill's current position and deposit balance.\n",
      "Example Output: Bank Account, Career/Education\n",
      "\n",
      "###Does Richie know very important people###\n",
      "\n",
      "Your response here.\n",
      "    \n",
      "### Output: ###\n",
      "Transactions\n",
      "\n",
      "INFO: Using the following categories: ['Transactions']\n",
      "\n",
      "INFO: Entering Stage 2\n",
      "### Input: ###\n",
      "You will be provided with queries about people. The query will be delimited with ### characters.\n",
      "\n",
      "Reference the following information when answering the question.\n",
      "Transactions:\n",
      "This table shows incoming and outgoing transactions.  Negative amounts are outgoing. Positive amounts are incoming.\n",
      "Amount Recipient_or_Sender\n",
      "-5 Starbucks coffee\n",
      "-100 Transfer to Bob\n",
      "200 Incoming direct deposit\n",
      "\n",
      "\n",
      "\n",
      "\n",
      "###Does Richie know very important people###\n",
      "\n",
      "Your response here.\n",
      "    \n",
      "### Output: ###\n",
      "Yes, Richie knows Jim Bob Coomer.\n"
     ]
    }
   ],
   "source": [
    "# career and education\n",
    "response = client_qa(model, 'richie mcrface', \n",
    "                     'Does Richie know very important people',\n",
    "                     verbose=True,\n",
    "                    )"
   ]
  },
  {
   "cell_type": "code",
   "execution_count": null,
   "id": "b5891994-1d56-4909-976d-187a9303010f",
   "metadata": {},
   "outputs": [],
   "source": []
  }
 ],
 "metadata": {
  "kernelspec": {
   "display_name": "Python 3 (ipykernel)",
   "language": "python",
   "name": "python3"
  },
  "language_info": {
   "codemirror_mode": {
    "name": "ipython",
    "version": 3
   },
   "file_extension": ".py",
   "mimetype": "text/x-python",
   "name": "python",
   "nbconvert_exporter": "python",
   "pygments_lexer": "ipython3",
   "version": "3.11.3"
  }
 },
 "nbformat": 4,
 "nbformat_minor": 5
}
