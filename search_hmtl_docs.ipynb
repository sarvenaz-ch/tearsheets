{
 "cells": [
  {
   "cell_type": "markdown",
   "id": "456671f9-495b-4915-a7d4-436635915150",
   "metadata": {},
   "source": [
    "Load and vectorize html documents.  Post questions to check search capability."
   ]
  },
  {
   "cell_type": "code",
   "execution_count": 1,
   "id": "45776796-9aa4-45c4-994c-30ee19761645",
   "metadata": {},
   "outputs": [],
   "source": [
    "import os\n",
    "import re\n",
    "import glob\n",
    "import time\n",
    "import openai\n",
    "\n",
    "# langchain\n",
    "from langchain.document_loaders import UnstructuredHTMLLoader\n",
    "from langchain.embeddings.openai import OpenAIEmbeddings\n",
    "from langchain.vectorstores import Chroma\n",
    "\n",
    "# authentication\n",
    "from dotenv import load_dotenv, find_dotenv\n",
    "_ = load_dotenv(find_dotenv())\n",
    "openai.api_key = os.environ[\"OPENAI_API_KEY\"]"
   ]
  },
  {
   "cell_type": "markdown",
   "id": "9a2c1624-51ea-4e28-82cf-0a4e551047cd",
   "metadata": {},
   "source": [
    "Load local html files here, local files have to be loaded one by one, apparently"
   ]
  },
  {
   "cell_type": "code",
   "execution_count": 2,
   "id": "c4151b95-c80f-46b6-ba05-64139477e602",
   "metadata": {},
   "outputs": [
    {
     "data": {
      "text/plain": [
       "['data/text/Julia_Harpman_equilar.html',\n",
       " 'data/text/Robert_King_pitchbook.html',\n",
       " 'data/text/Julia_Harpman_zoominfo.html',\n",
       " 'data/text/Robert_King_google.html',\n",
       " 'data/text/Robert_King_equilar.html',\n",
       " 'data/text/Julia_Harpman_relsci.html',\n",
       " 'data/text/Julia_Harpman_wealthx.html',\n",
       " 'data/text/Robert_King_linkedin.html',\n",
       " 'data/text/Julia_Harpman_pitchbook.html',\n",
       " 'data/text/Robert_King_relsci.html',\n",
       " 'data/text/Julia_Harpman_linkedin.html',\n",
       " 'data/text/Robert_King_zoominfo.html',\n",
       " 'data/text/Robert_King_wealthx.html',\n",
       " 'data/text/Julia_Harpman_google.html']"
      ]
     },
     "execution_count": 2,
     "metadata": {},
     "output_type": "execute_result"
    }
   ],
   "source": [
    "urls = glob.glob('data/text/*html')\n",
    "urls"
   ]
  },
  {
   "cell_type": "code",
   "execution_count": 3,
   "id": "2e015df3-8881-49f7-bd3d-283aa0ce81d2",
   "metadata": {},
   "outputs": [
    {
     "data": {
      "text/plain": [
       "[Document(page_content='Stock sold - Equity Transactions (Last 36 Months): Not applicable\\n\\nNew Equity Grants - Equity Transactions (Last 36 Months): Not applicable\\n\\nOptions Exercised - Equity Transactions (Last 36 Months): Not applicable\\n\\nEquity Holdings - Equity Transactions: Not applicable\\n\\nAnnual Compensation: Not applicable\\n\\nStock Sold:', metadata={'source': 'data/text/Julia_Harpman_equilar.html', 'client_name': 'Julia Harpman', 'doc_type': 'equilar'}),\n",
       " Document(page_content='Lead partner on deals:\\n\\nCompany: Tech Startup XYZ\\n\\nDeal Date: May 15, 2023\\n\\nDeal Type: Series B\\n\\nDeal Size: $30M\\n\\nDeal Status: Completed\\n\\nLocation: San Francisco, CA\\n\\nRepresenting: Sequoia Capital\\n\\nInvestor bio: Robert King is a seasoned investor with a focus on technology startups. He has led several successful deals, including the recent Series B funding round for Tech Startup XYZ.', metadata={'source': 'data/text/Robert_King_pitchbook.html', 'client_name': 'Robert King', 'doc_type': 'pitchbook'}),\n",
       " Document(page_content='Personal Email:', metadata={'source': 'data/text/Julia_Harpman_zoominfo.html', 'client_name': 'Julia Harpman', 'doc_type': 'zoominfo'}),\n",
       " Document(page_content='Article 1:\\n\\nTitle: Robert King donates $1 million to local charity\\n\\nDate: March 10, 2023\\n\\nAbstract: In a generous act of philanthropy, Robert King has donated $1 million to a local charity. The donation will support various community programs and initiatives.', metadata={'source': 'data/text/Robert_King_google.html', 'client_name': 'Robert King', 'doc_type': 'google'}),\n",
       " Document(page_content='Stock sold - Equity Transactions (Last 36 Months): $10 million\\n\\nNew Equity Grants - Equity Transactions (Last 36 Months): $5 million\\n\\nOptions Exercised - Equity Transactions (Last 36 Months): $2 million\\n\\nEquity Holdings - Equity Transactions: $20 million\\n\\nAnnual Compensation: $5 million\\n\\nStock Sold: CEO, $1M at Hedge Fund A, June 1 2023 (SEC) | June 1 2023 (Effective)', metadata={'source': 'data/text/Robert_King_equilar.html', 'client_name': 'Robert King', 'doc_type': 'equilar'}),\n",
       " Document(page_content='Boards & Committees (Corporate):\\n\\nBoards & Committees (Nonprofit):\\n\\nFormer/Prior Boards & Committees (Corporate):\\n\\nFormer/Prior Boards & Committees (Nonprofit):', metadata={'source': 'data/text/Julia_Harpman_relsci.html', 'client_name': 'Julia Harpman', 'doc_type': 'relsci'}),\n",
       " Document(page_content='Estimated Net Worth: Not applicable\\n\\nEstimated Liquid Assets: Not applicable\\n\\nEstimated Household Wealth: Not applicable\\n\\nEstimated Household Liquid Assets: Not applicable\\n\\nEstimated Family Net Worth: Not applicable\\n\\nInterests, Passions, Hobbies:', metadata={'source': 'data/text/Julia_Harpman_wealthx.html', 'client_name': 'Julia Harpman', 'doc_type': 'wealthx'}),\n",
       " Document(page_content='Employment 1: Hedge Fund A, CEO\\n\\nEmployment 2: Hedge Fund B, Senior Portfolio Manager\\n\\nEducation: Stanford University, MBA\\n\\nBoard Member: San Francisco Chamber of Commerce, Board Director\\n\\nBio: Robert King is an experienced finance professional with a strong background in hedge funds. He currently serves as the CEO of Hedge Fund A in San Francisco. Prior to this role, he worked as a Senior Portfolio Manager at Hedge Fund B. Robert is also actively involved in the local community and serves as a Board Director for the San Francisco Chamber of Commerce.', metadata={'source': 'data/text/Robert_King_linkedin.html', 'client_name': 'Robert King', 'doc_type': 'linkedin'}),\n",
       " Document(page_content='Lead partner on deals:\\n\\nInvestor bio:', metadata={'source': 'data/text/Julia_Harpman_pitchbook.html', 'client_name': 'Julia Harpman', 'doc_type': 'pitchbook'}),\n",
       " Document(page_content='Boards & Committees (Corporate): Tech Company X, Board Director\\n\\nBoards & Committees (Nonprofit): San Francisco Museum of Modern Art, Trustee\\n\\nFormer/Prior Boards & Committees (Corporate): Financial Institution Y, Board Director\\n\\nFormer/Prior Boards & Committees (Nonprofit): Local Charity Z, Trustee', metadata={'source': 'data/text/Robert_King_relsci.html', 'client_name': 'Robert King', 'doc_type': 'relsci'}),\n",
       " Document(page_content='Employment 1: Daily News, Crime Reporter\\n\\nEmployment 2:\\n\\nEducation:\\n\\nBoard Member:\\n\\nBio: Julia Harpman is a dedicated crime reporter for the Daily News. With her sharp investigative skills and passion for uncovering the truth, she has become a respected journalist in the field. Julia is committed to bringing justice to the victims and shedding light on the dark underbelly of society. She is a relentless seeker of truth and a voice for the voiceless.', metadata={'source': 'data/text/Julia_Harpman_linkedin.html', 'client_name': 'Julia Harpman', 'doc_type': 'linkedin'}),\n",
       " Document(page_content='Personal Email: robertking@email.com', metadata={'source': 'data/text/Robert_King_zoominfo.html', 'client_name': 'Robert King', 'doc_type': 'zoominfo'}),\n",
       " Document(page_content='Estimated Net Worth: At least $100 million\\n\\nEstimated Liquid Assets: At least $50 million\\n\\nEstimated Household Wealth: At least $150 million\\n\\nEstimated Household Liquid Assets: At least $50 million\\n\\nEstimated Family Net Worth: At least $500 million\\n\\nInterests, Passions, Hobbies: Philanthropy and art collecting', metadata={'source': 'data/text/Robert_King_wealthx.html', 'client_name': 'Robert King', 'doc_type': 'wealthx'}),\n",
       " Document(page_content='Article 1:', metadata={'source': 'data/text/Julia_Harpman_google.html', 'client_name': 'Julia Harpman', 'doc_type': 'google'})]"
      ]
     },
     "execution_count": 3,
     "metadata": {},
     "output_type": "execute_result"
    }
   ],
   "source": [
    "docs = []\n",
    "for url in urls:\n",
    "    doc = UnstructuredHTMLLoader(url).load()\n",
    "    # infer client name and add to metadata\n",
    "    root = url.split('/')[-1]\n",
    "    toks = root.split('_')\n",
    "    client_name = toks[:-1]\n",
    "    doc_type = toks[-1][:-5]\n",
    "    # manually edit metadata\n",
    "    doc[0].metadata['client_name'] = ' '.join(client_name)\n",
    "    doc[0].metadata['doc_type'] = doc_type\n",
    "    #print(doc[0].metadata['client_name'], doc_type)\n",
    "    docs.extend(doc)\n",
    "\n",
    "docs"
   ]
  },
  {
   "cell_type": "markdown",
   "id": "e9db24b1-2197-4e9c-bb55-51331441bacc",
   "metadata": {},
   "source": [
    "Vectorstore"
   ]
  },
  {
   "cell_type": "code",
   "execution_count": 4,
   "id": "d3504172-e51b-4f6c-9ae9-d0ebb36e766f",
   "metadata": {},
   "outputs": [],
   "source": [
    "# optionally persist the vector db to disk\n",
    "persist_directory = 'data/chroma/'\n",
    "override = False\n",
    "\n",
    "if os.path.exists(persist_directory) and override:  # clean out existing data\n",
    "    for f in glob.glob(persist_directory+'index/*'):\n",
    "        os.remove(f)\n",
    "    \n",
    "vectordb = Chroma.from_documents(\n",
    "    documents=docs,\n",
    "    embedding=OpenAIEmbeddings(),\n",
    "    #persist_directory=persist_directory  # uncomment to persist on disk\n",
    ")"
   ]
  },
  {
   "cell_type": "code",
   "execution_count": 5,
   "id": "1b9aed13-8a6b-41ab-9256-6e018a8a504d",
   "metadata": {},
   "outputs": [
    {
     "name": "stdout",
     "output_type": "stream",
     "text": [
      "{'client_name': 'Robert King', 'doc_type': 'linkedin', 'source': 'data/text/Robert_King_linkedin.html'}\n",
      "{'client_name': 'Robert King', 'doc_type': 'zoominfo', 'source': 'data/text/Robert_King_zoominfo.html'}\n",
      "{'client_name': 'Robert King', 'doc_type': 'google', 'source': 'data/text/Robert_King_google.html'}\n",
      "{'client_name': 'Robert King', 'doc_type': 'pitchbook', 'source': 'data/text/Robert_King_pitchbook.html'}\n",
      "{'client_name': 'Julia Harpman', 'doc_type': 'pitchbook', 'source': 'data/text/Julia_Harpman_pitchbook.html'}\n",
      "{'client_name': 'Robert King', 'doc_type': 'relsci', 'source': 'data/text/Robert_King_relsci.html'}\n",
      "{'client_name': 'Julia Harpman', 'doc_type': 'relsci', 'source': 'data/text/Julia_Harpman_relsci.html'}\n"
     ]
    }
   ],
   "source": [
    "# retrieval based on natural language question (no metadata filter applied)\n",
    "q1 = 'Tell me about Robert King\\'s family assets, board memberships, and venture capital deals'\n",
    "max_k=7\n",
    "\n",
    "### retrieval based on cosine similarity\n",
    "for d in vectordb.similarity_search(q1, k=max_k):  # 6/8 results are for Robert King\n",
    "    print(d.metadata)"
   ]
  },
  {
   "cell_type": "code",
   "execution_count": 6,
   "id": "6dde1e52-0683-4a8a-8003-6b722b8c124c",
   "metadata": {},
   "outputs": [
    {
     "name": "stderr",
     "output_type": "stream",
     "text": [
      "Number of requested results 20 is greater than number of elements in index 14, updating n_results = 14\n"
     ]
    },
    {
     "name": "stdout",
     "output_type": "stream",
     "text": [
      "{'client_name': 'Robert King', 'doc_type': 'linkedin', 'source': 'data/text/Robert_King_linkedin.html'}\n",
      "{'client_name': 'Robert King', 'doc_type': 'zoominfo', 'source': 'data/text/Robert_King_zoominfo.html'}\n",
      "{'client_name': 'Robert King', 'doc_type': 'google', 'source': 'data/text/Robert_King_google.html'}\n",
      "{'client_name': 'Julia Harpman', 'doc_type': 'pitchbook', 'source': 'data/text/Julia_Harpman_pitchbook.html'}\n",
      "{'client_name': 'Julia Harpman', 'doc_type': 'relsci', 'source': 'data/text/Julia_Harpman_relsci.html'}\n",
      "{'client_name': 'Robert King', 'doc_type': 'wealthx', 'source': 'data/text/Robert_King_wealthx.html'}\n",
      "{'client_name': 'Julia Harpman', 'doc_type': 'equilar', 'source': 'data/text/Julia_Harpman_equilar.html'}\n"
     ]
    }
   ],
   "source": [
    "### retrieval based on maximal marginal relevance\n",
    "### (cosine similarity plus an additional filter to promote diversity)\n",
    "### https://python.langchain.com/docs/modules/model_io/prompts/example_selectors/mmr\n",
    "for d in vectordb.max_marginal_relevance_search(q1, k=max_k):  # only 4/8 results pertain to Robert King - BAD\n",
    "    print(d.metadata)"
   ]
  },
  {
   "cell_type": "code",
   "execution_count": 17,
   "id": "af99ae2f-77cf-490b-a9a0-ca188a3c61ea",
   "metadata": {},
   "outputs": [
    {
     "name": "stdout",
     "output_type": "stream",
     "text": [
      "#### Similarity search ####\n",
      "{'client_name': 'Robert King', 'doc_type': 'equilar', 'source': 'data/text/Robert_King_equilar.html'}\n",
      "{'client_name': 'Robert King', 'doc_type': 'linkedin', 'source': 'data/text/Robert_King_linkedin.html'}\n",
      "{'client_name': 'Robert King', 'doc_type': 'zoominfo', 'source': 'data/text/Robert_King_zoominfo.html'}\n",
      "{'client_name': 'Robert King', 'doc_type': 'google', 'source': 'data/text/Robert_King_google.html'}\n",
      "{'client_name': 'Robert King', 'doc_type': 'pitchbook', 'source': 'data/text/Robert_King_pitchbook.html'}\n",
      "{'client_name': 'Robert King', 'doc_type': 'relsci', 'source': 'data/text/Robert_King_relsci.html'}\n",
      "{'client_name': 'Robert King', 'doc_type': 'wealthx', 'source': 'data/text/Robert_King_wealthx.html'}\n",
      "\n",
      "\n",
      "#### MMR search ####\n"
     ]
    },
    {
     "name": "stderr",
     "output_type": "stream",
     "text": [
      "Number of requested results 20 is greater than number of elements in index 14, updating n_results = 14\n"
     ]
    },
    {
     "name": "stdout",
     "output_type": "stream",
     "text": [
      "{'client_name': 'Robert King', 'doc_type': 'equilar', 'source': 'data/text/Robert_King_equilar.html'}\n",
      "{'client_name': 'Robert King', 'doc_type': 'linkedin', 'source': 'data/text/Robert_King_linkedin.html'}\n",
      "{'client_name': 'Robert King', 'doc_type': 'zoominfo', 'source': 'data/text/Robert_King_zoominfo.html'}\n",
      "{'client_name': 'Robert King', 'doc_type': 'google', 'source': 'data/text/Robert_King_google.html'}\n",
      "{'client_name': 'Robert King', 'doc_type': 'pitchbook', 'source': 'data/text/Robert_King_pitchbook.html'}\n",
      "{'client_name': 'Robert King', 'doc_type': 'relsci', 'source': 'data/text/Robert_King_relsci.html'}\n",
      "{'client_name': 'Robert King', 'doc_type': 'wealthx', 'source': 'data/text/Robert_King_wealthx.html'}\n"
     ]
    }
   ],
   "source": [
    "# retrieval with metadata filter: only one metadata field can be specified at a time\n",
    "q2 = 'Tell me about Robert King\\'s equity holdings, stocks sold, transactions, and annual compensation'\n",
    "\n",
    "print('#### Similarity search ####')\n",
    "for d in vectordb.similarity_search(q2, k=max_k, filter={'client_name': 'Robert King'}):\n",
    "    print(d.metadata)\n",
    "\n",
    "print('\\n\\n#### MMR search ####')\n",
    "for d in vectordb.max_marginal_relevance_search(q2, k=max_k, filter={'client_name': 'Robert King'}):\n",
    "    print(d.metadata)\n",
    "\n",
    "### equilar is ranking highest in both cases, but it took several attempts to make\n",
    "### the question specific enough so it placed high\n",
    "### documents appear ranked in the same order"
   ]
  },
  {
   "cell_type": "markdown",
   "id": "d443b3dc-b864-4dc9-a658-4d975368f7f3",
   "metadata": {},
   "source": [
    "Self-query meta data filter"
   ]
  },
  {
   "cell_type": "code",
   "execution_count": 8,
   "id": "2fd401c6-1b52-4b82-b3d4-21c679b3c16e",
   "metadata": {},
   "outputs": [],
   "source": [
    "from langchain.llms import OpenAI\n",
    "from langchain.retrievers.self_query.base import SelfQueryRetriever\n",
    "from langchain.chains.query_constructor.base import AttributeInfo"
   ]
  },
  {
   "cell_type": "code",
   "execution_count": 9,
   "id": "6c5a91b7-010b-49aa-972c-0a3ad46fcc19",
   "metadata": {},
   "outputs": [],
   "source": [
    "metadata_field_info = [\n",
    "    AttributeInfo(\n",
    "        name=\"client_name\",\n",
    "        description=\"The name of the client associated with the document.\",\n",
    "        type=\"string\",\n",
    "    ),\n",
    "    \n",
    "    AttributeInfo(\n",
    "        name=\"doc_type\",\n",
    "        description=\"The lecture the chunk is from, should be one of `equilar`, \\\n",
    "            `google`, `linkedin`, `pitchbook`, `relsci`, `wealthx`, or `zoominfo`\",\n",
    "        type=\"string\",\n",
    "    ),\n",
    "]"
   ]
  },
  {
   "cell_type": "code",
   "execution_count": 10,
   "id": "19bef262-0230-48bb-8274-6a3c63a59061",
   "metadata": {},
   "outputs": [],
   "source": [
    "document_content_description = \"Client documents\"\n",
    "\n",
    "llm = OpenAI(temperature=0)\n",
    "\n",
    "sq_retriever = SelfQueryRetriever.from_llm(  # sq_retriever = self-query retriever\n",
    "    llm,\n",
    "    vectordb,\n",
    "    document_content_description,\n",
    "    metadata_field_info,\n",
    "    enable_limit=True,\n",
    "    verbose=True\n",
    ")"
   ]
  },
  {
   "cell_type": "code",
   "execution_count": 11,
   "id": "277cc662-57ba-4d8c-9119-19fd96fdbcfe",
   "metadata": {},
   "outputs": [
    {
     "name": "stdout",
     "output_type": "stream",
     "text": [
      "### Question: Tell me about Robert King's family assets, board memberships, and venture capital deals ###\n",
      "\n"
     ]
    },
    {
     "name": "stderr",
     "output_type": "stream",
     "text": [
      "/home/timw/venv/llm/lib/python3.11/site-packages/langchain/chains/llm.py:278: UserWarning: The predict_and_parse method is deprecated, instead pass an output parser directly to LLMChain.\n",
      "  warnings.warn(\n"
     ]
    },
    {
     "name": "stdout",
     "output_type": "stream",
     "text": [
      "query='Robert King family assets board memberships venture capital deals' filter=Comparison(comparator=<Comparator.EQ: 'eq'>, attribute='client_name', value='Robert King') limit=None\n",
      "{'client_name': 'Robert King', 'doc_type': 'linkedin', 'source': 'data/text/Robert_King_linkedin.html'}\n",
      "{'client_name': 'Robert King', 'doc_type': 'pitchbook', 'source': 'data/text/Robert_King_pitchbook.html'}\n",
      "{'client_name': 'Robert King', 'doc_type': 'relsci', 'source': 'data/text/Robert_King_relsci.html'}\n",
      "{'client_name': 'Robert King', 'doc_type': 'google', 'source': 'data/text/Robert_King_google.html'}\n"
     ]
    }
   ],
   "source": [
    "print(f'### Question: {q1} ###\\n')\n",
    "docs = sq_retriever.get_relevant_documents(q1)\n",
    "for d in docs:\n",
    "    print(d.metadata)\n",
    "\n",
    "### self-query only returns 4 documents, not sure why\n",
    "### was hoping wealthx would be included"
   ]
  },
  {
   "cell_type": "code",
   "execution_count": 18,
   "id": "c92b864f-f50c-4c1f-b943-0000e9416060",
   "metadata": {},
   "outputs": [
    {
     "name": "stdout",
     "output_type": "stream",
     "text": [
      "### Question: Tell me about Robert King's equity holdings, stocks sold, transactions, and annual compensation ###\n",
      "\n",
      "query='Robert King equity holdings stocks sold transactions annual compensation' filter=Comparison(comparator=<Comparator.EQ: 'eq'>, attribute='client_name', value='Robert King') limit=None\n",
      "{'client_name': 'Robert King', 'doc_type': 'equilar', 'source': 'data/text/Robert_King_equilar.html'}\n",
      "{'client_name': 'Robert King', 'doc_type': 'linkedin', 'source': 'data/text/Robert_King_linkedin.html'}\n",
      "{'client_name': 'Robert King', 'doc_type': 'pitchbook', 'source': 'data/text/Robert_King_pitchbook.html'}\n",
      "{'client_name': 'Robert King', 'doc_type': 'google', 'source': 'data/text/Robert_King_google.html'}\n"
     ]
    }
   ],
   "source": [
    "print(f'### Question: {q2} ###\\n')\n",
    "docs = sq_retriever.get_relevant_documents(q2)\n",
    "for d in docs:\n",
    "    print(d.metadata)"
   ]
  },
  {
   "cell_type": "code",
   "execution_count": 19,
   "id": "7c9aa81d-465f-49f4-a0b8-a94760e31ddd",
   "metadata": {},
   "outputs": [
    {
     "name": "stdout",
     "output_type": "stream",
     "text": [
      "query='Robert King' filter=Comparison(comparator=<Comparator.EQ: 'eq'>, attribute='doc_type', value='linkedin') limit=None\n",
      "{'client_name': 'Robert King', 'doc_type': 'linkedin', 'source': 'data/text/Robert_King_linkedin.html'}\n",
      "{'client_name': 'Julia Harpman', 'doc_type': 'linkedin', 'source': 'data/text/Julia_Harpman_linkedin.html'}\n"
     ]
    }
   ],
   "source": [
    "### test query on doc_type metadata with limit\n",
    "q = \"Find the linkedin data for Robert King\"\n",
    "docs = sq_retriever.get_relevant_documents(q)\n",
    "for d in docs:\n",
    "    print(d.metadata)\n",
    "\n",
    "### linkedin filter correct but multiple clients returned"
   ]
  },
  {
   "cell_type": "code",
   "execution_count": 20,
   "id": "f4236d0a-c6b2-4964-a3de-1ea019924b8f",
   "metadata": {},
   "outputs": [
    {
     "name": "stdout",
     "output_type": "stream",
     "text": [
      "query=' ' filter=Operation(operator=<Operator.AND: 'and'>, arguments=[Comparison(comparator=<Comparator.EQ: 'eq'>, attribute='client_name', value='Robert King'), Comparison(comparator=<Comparator.EQ: 'eq'>, attribute='doc_type', value='linkedin')]) limit=None\n",
      "{'client_name': 'Robert King', 'doc_type': 'linkedin', 'source': 'data/text/Robert_King_linkedin.html'}\n"
     ]
    }
   ],
   "source": [
    "### test query on doc_type metadata with limit\n",
    "q = \"Find the linkedin data for client Robert King\"\n",
    "docs = sq_retriever.get_relevant_documents(q)\n",
    "for d in docs:\n",
    "    print(d.metadata)\n",
    "\n",
    "### note: \"client Robert King\" also sets filter on the client name\n",
    "### could also say \"the linkedin profile\" to imply there is one result"
   ]
  },
  {
   "cell_type": "code",
   "execution_count": 22,
   "id": "7456aaa6-501c-48ad-a508-e214711e44f9",
   "metadata": {},
   "outputs": [
    {
     "name": "stdout",
     "output_type": "stream",
     "text": [
      "query=' ' filter=Operation(operator=<Operator.AND: 'and'>, arguments=[Operation(operator=<Operator.OR: 'or'>, arguments=[Comparison(comparator=<Comparator.EQ: 'eq'>, attribute='doc_type', value='equilar'), Comparison(comparator=<Comparator.EQ: 'eq'>, attribute='doc_type', value='relsci')]), Comparison(comparator=<Comparator.EQ: 'eq'>, attribute='client_name', value='Robert King')]) limit=None\n",
      "{'client_name': 'Robert King', 'doc_type': 'relsci', 'source': 'data/text/Robert_King_relsci.html'}\n",
      "{'client_name': 'Robert King', 'doc_type': 'equilar', 'source': 'data/text/Robert_King_equilar.html'}\n"
     ]
    }
   ],
   "source": [
    "q = \"Find the equilar and relsci documents for client Robert King\"\n",
    "docs = sq_retriever.get_relevant_documents(q)\n",
    "for d in docs:\n",
    "    print(d.metadata)\n",
    "\n",
    "### This demonstrates simultaneous filter on doc type and client name"
   ]
  },
  {
   "cell_type": "markdown",
   "id": "976b2c01-13c1-4487-b056-1ff01c39aebc",
   "metadata": {},
   "source": [
    "Recommendations:\n",
    " - Vector DB searches (similarity, maximal marginal relevance) in Chroma are prone to mixing results for separate clients.\n",
    " - Metadata filters clients for the correct client or document type. Not sure if metadata filters can include multiple filters (e.g., client_name and doc_type, or doc_type has one of several values) at once.\n",
    " - Self-query has the potential to automatically construct the filter for client and document type. It unfortunately can still mix results for multiple clients, unless one is careful about asking the question.  Also, with Chroma, the output seems fixed on just four documents.\n",
    "\n",
    "Todo:\n",
    " - Repeat this experiment with other vectorstores to see if one works better.\n",
    " - Implement the final call to the LLM with the retrieved documents as context."
   ]
  },
  {
   "cell_type": "markdown",
   "id": "02329fdc-1c36-4165-9fb4-ce9a72e4d36f",
   "metadata": {},
   "source": [
    "### Q&A with retrieval"
   ]
  },
  {
   "cell_type": "code",
   "execution_count": 29,
   "id": "79821a31-e7a6-40b9-b9c8-09729a0ac0f9",
   "metadata": {},
   "outputs": [],
   "source": [
    "from langchain.chat_models import ChatOpenAI\n",
    "from langchain.chains import RetrievalQA\n",
    "from langchain.chains import RetrievalQA\n",
    "\n",
    "llm = ChatOpenAI(model_name='gpt-3.5-turbo', temperature=0)"
   ]
  },
  {
   "cell_type": "code",
   "execution_count": 33,
   "id": "bb93eba0-6af7-4ed2-b063-1247c68de3d0",
   "metadata": {},
   "outputs": [
    {
     "data": {
      "text/plain": [
       "'There are several individuals named Robert King, so it is unclear which specific person you are referring to. Some notable individuals named Robert King include:\\n\\n1. Robert King (composer): An English composer known for his choral and orchestral works.\\n2. Robert King (journalist): An American journalist and author who has written extensively on criminal justice issues.\\n3. Robert King (screenwriter): A British screenwriter known for his work on the television series \"The Good Karma Hospital.\"\\n4. Robert King (politician): An American politician who served as the Governor of Indiana from 1997 to 2003.\\n5. Robert King (music producer): An American music producer and executive who has worked with various artists in the music industry.\\n\\nWithout more specific information, it is difficult to determine which Robert King you are referring to.'"
      ]
     },
     "execution_count": 33,
     "metadata": {},
     "output_type": "execute_result"
    }
   ],
   "source": [
    "### generation without retrieval\n",
    "q3 = 'Who is Robert King?'\n",
    "llm.call_as_llm(q3)"
   ]
  },
  {
   "cell_type": "code",
   "execution_count": 35,
   "id": "23bc048a-41cd-438f-943c-d064184f7348",
   "metadata": {},
   "outputs": [
    {
     "name": "stderr",
     "output_type": "stream",
     "text": [
      "/home/timw/venv/llm/lib/python3.11/site-packages/langchain/chains/llm.py:278: UserWarning: The predict_and_parse method is deprecated, instead pass an output parser directly to LLMChain.\n",
      "  warnings.warn(\n"
     ]
    },
    {
     "name": "stdout",
     "output_type": "stream",
     "text": [
      "query='Robert King' filter=Comparison(comparator=<Comparator.EQ: 'eq'>, attribute='client_name', value='Robert King') limit=None\n"
     ]
    },
    {
     "data": {
      "text/plain": [
       "'Robert King is an experienced finance professional with a strong background in hedge funds. He currently serves as the CEO of Hedge Fund A in San Francisco. Prior to this role, he worked as a Senior Portfolio Manager at Hedge Fund B. Robert is also actively involved in the local community and serves as a Board Director for the San Francisco Chamber of Commerce. He has also made a generous donation of $1 million to a local charity. Additionally, he has led successful investment deals, including the recent Series B funding round for Tech Startup XYZ.'"
      ]
     },
     "execution_count": 35,
     "metadata": {},
     "output_type": "execute_result"
    }
   ],
   "source": [
    "qa_chain = RetrievalQA.from_chain_type(\n",
    "    llm,\n",
    "    retriever=sq_retriever\n",
    ")\n",
    "\n",
    "result = qa_chain({\"query\": q3})\n",
    "print(f'### Question: {q3} ###\\n')\n",
    "result['result']"
   ]
  },
  {
   "cell_type": "code",
   "execution_count": 36,
   "id": "0218fd35-0bb3-457b-b266-105158ca292b",
   "metadata": {},
   "outputs": [
    {
     "name": "stdout",
     "output_type": "stream",
     "text": [
      "query='Robert King equity holdings stocks sold transactions annual compensation' filter=Comparison(comparator=<Comparator.EQ: 'eq'>, attribute='client_name', value='Robert King') limit=None\n",
      "### Question: Tell me about Robert King's equity holdings, stocks sold, transactions, and annual compensation ###\n",
      "\n"
     ]
    },
    {
     "data": {
      "text/plain": [
       "\"Robert King's equity holdings are valued at $20 million. He has sold $10 million worth of stock in equity transactions over the last 36 months. Additionally, he has received new equity grants totaling $5 million and has exercised options worth $2 million during the same period. His annual compensation is $5 million.\""
      ]
     },
     "execution_count": 36,
     "metadata": {},
     "output_type": "execute_result"
    }
   ],
   "source": [
    "qa_chain = RetrievalQA.from_chain_type(\n",
    "    llm,\n",
    "    retriever=sq_retriever\n",
    ")\n",
    "\n",
    "result = qa_chain({\"query\": q2})\n",
    "print(f'### Question: {q2} ###\\n')\n",
    "result['result']"
   ]
  },
  {
   "cell_type": "code",
   "execution_count": 37,
   "id": "97d14ce1-d806-47be-9532-345b7e17cac8",
   "metadata": {},
   "outputs": [
    {
     "name": "stdout",
     "output_type": "stream",
     "text": [
      "query='Robert King family assets board memberships venture capital deals' filter=Comparison(comparator=<Comparator.EQ: 'eq'>, attribute='client_name', value='Robert King') limit=None\n",
      "### Question: Tell me about Robert King's family assets, board memberships, and venture capital deals ###\n",
      "\n"
     ]
    },
    {
     "data": {
      "text/plain": [
       "\"I'm sorry, but I don't have any information about Robert King's family assets or venture capital deals beyond what has been provided. However, I can tell you about his board memberships. Robert King currently serves as a Board Director for Tech Company X and as a Trustee for the San Francisco Museum of Modern Art. In the past, he has also served as a Board Director for Financial Institution Y and as a Trustee for Local Charity Z.\""
      ]
     },
     "execution_count": 37,
     "metadata": {},
     "output_type": "execute_result"
    }
   ],
   "source": [
    "qa_chain = RetrievalQA.from_chain_type(\n",
    "    llm,\n",
    "    retriever=sq_retriever\n",
    ")\n",
    "\n",
    "result = qa_chain({\"query\": q1})\n",
    "print(f'### Question: {q1} ###\\n')\n",
    "result['result']"
   ]
  },
  {
   "cell_type": "code",
   "execution_count": null,
   "id": "0dbf5a3e-916d-4b80-9d37-6ec584879974",
   "metadata": {},
   "outputs": [],
   "source": []
  }
 ],
 "metadata": {
  "kernelspec": {
   "display_name": "Python 3 (ipykernel)",
   "language": "python",
   "name": "python3"
  },
  "language_info": {
   "codemirror_mode": {
    "name": "ipython",
    "version": 3
   },
   "file_extension": ".py",
   "mimetype": "text/x-python",
   "name": "python",
   "nbconvert_exporter": "python",
   "pygments_lexer": "ipython3",
   "version": "3.11.3"
  }
 },
 "nbformat": 4,
 "nbformat_minor": 5
}
