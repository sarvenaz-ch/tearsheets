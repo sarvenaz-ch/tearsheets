{
 "cells": [
  {
   "cell_type": "markdown",
   "id": "456671f9-495b-4915-a7d4-436635915150",
   "metadata": {},
   "source": [
    "Load and vectorize html documents.  Post questions to check search capability."
   ]
  },
  {
   "cell_type": "code",
   "execution_count": 18,
   "id": "45776796-9aa4-45c4-994c-30ee19761645",
   "metadata": {},
   "outputs": [],
   "source": [
    "import os\n",
    "import re\n",
    "import glob\n",
    "import time\n",
    "import openai\n",
    "\n",
    "# langchain\n",
    "from langchain.document_loaders import UnstructuredHTMLLoader\n",
    "from langchain.embeddings.openai import OpenAIEmbeddings\n",
    "from langchain.vectorstores import Chroma\n",
    "\n",
    "# authentication\n",
    "from dotenv import load_dotenv, find_dotenv\n",
    "_ = load_dotenv(find_dotenv())\n",
    "openai.api_key = os.environ[\"OPENAI_API_KEY\"]"
   ]
  },
  {
   "cell_type": "markdown",
   "id": "9a2c1624-51ea-4e28-82cf-0a4e551047cd",
   "metadata": {},
   "source": [
    "Load local html files here, local files have to be loaded one by one, apparently"
   ]
  },
  {
   "cell_type": "code",
   "execution_count": 2,
   "id": "c4151b95-c80f-46b6-ba05-64139477e602",
   "metadata": {},
   "outputs": [
    {
     "data": {
      "text/plain": [
       "['data/text/Robert_King_pitchbook.html',\n",
       " 'data/text/Robert_King_google.html',\n",
       " 'data/text/Robert_King_equilar.html',\n",
       " 'data/text/Robert_King_linkedin.html',\n",
       " 'data/text/Robert_King_relsci.html',\n",
       " 'data/text/Robert_King_zoominfo.html',\n",
       " 'data/text/Robert_King_wealthx.html']"
      ]
     },
     "execution_count": 2,
     "metadata": {},
     "output_type": "execute_result"
    }
   ],
   "source": [
    "urls = glob.glob('data/text/*html')\n",
    "urls"
   ]
  },
  {
   "cell_type": "code",
   "execution_count": 14,
   "id": "2e015df3-8881-49f7-bd3d-283aa0ce81d2",
   "metadata": {},
   "outputs": [
    {
     "data": {
      "text/plain": [
       "[Document(page_content=\"Lead partner on deals: {'Company': 'Tech Startup XYZ', 'Deal Date': 'May 15, 2023', 'Deal Type': 'Series B', 'Deal Size': '$30M', 'Deal Status': 'Completed', 'Location': 'San Francisco, CA', 'Representing': 'Sequoia Capital'}\\n\\nInvestor bio: Robert King is a seasoned investor with a focus on tech startups. He has led successful deals in the Series B funding stage, including the recent investment in Tech Startup XYZ.\", metadata={'source': 'data/text/Robert_King_pitchbook.html'}),\n",
       " Document(page_content=\"Article 1: {'Title': 'Robert King donates $10 million to local charity', 'Date': 'March 10, 2023', 'Abstract': 'In a generous act of philanthropy, Robert King has donated $10 million to a local charity. The donation will support various community programs and initiatives, making a significant impact on the lives of many.'}\", metadata={'source': 'data/text/Robert_King_google.html'}),\n",
       " Document(page_content='Stock sold - Equity Transactions (Last 36 Months): $20 million\\n\\nNew Equity Grants - Equity Transactions (Last 36 Months): $10 million\\n\\nOptions Exercised - Equity Transactions (Last 36 Months): $5 million\\n\\nEquity Holdings - Equity Transactions: $30 million\\n\\nAnnual Compensation: $5 million\\n\\nStock Sold: CEO, $1M at Hedge Fund A, June 1 2023 (SEC) | June 1 2023 (Effective)', metadata={'source': 'data/text/Robert_King_equilar.html'}),\n",
       " Document(page_content='Employment 1: Hedge Fund A, CEO\\n\\nEmployment 2: Hedge Fund B, Senior Portfolio Manager\\n\\nEducation: Stanford University, MBA\\n\\nBoard Member: San Francisco Chamber of Commerce, Board Director\\n\\nBio: Robert King is an experienced finance professional with a strong background in hedge funds. He currently serves as the CEO of Hedge Fund A in San Francisco. With his expertise in portfolio management, Robert has successfully guided Hedge Fund B as a Senior Portfolio Manager. He holds an MBA from Stanford University and is actively involved in the San Francisco community as a board director of the San Francisco Chamber of Commerce.', metadata={'source': 'data/text/Robert_King_linkedin.html'}),\n",
       " Document(page_content='Boards & Committees (Corporate): Tech Company X, Board Director\\n\\nBoards & Committees (Nonprofit): San Francisco Museum of Modern Art, Trustee\\n\\nFormer/Prior Boards & Committees (Corporate): Investment Firm Y, Board Director\\n\\nFormer/Prior Boards & Committees (Nonprofit): Local Charity Z, Trustee', metadata={'source': 'data/text/Robert_King_relsci.html'}),\n",
       " Document(page_content='Personal Email: robertking@email.com', metadata={'source': 'data/text/Robert_King_zoominfo.html'}),\n",
       " Document(page_content='Estimated Net Worth: At least $100 million\\n\\nEstimated Liquid Assets: At least $50 million\\n\\nEstimated Household Wealth: At least $150 million\\n\\nEstimated Household Liquid Assets: At least $50 million\\n\\nEstimated Family Net Worth: At least $500 million\\n\\nInterests, Passions, Hobbies: Philanthropy and art collecting', metadata={'source': 'data/text/Robert_King_wealthx.html'})]"
      ]
     },
     "execution_count": 14,
     "metadata": {},
     "output_type": "execute_result"
    }
   ],
   "source": [
    "docs = []\n",
    "for url in urls:\n",
    "    doc = UnstructuredHTMLLoader(url).load()\n",
    "    docs.extend(doc)\n",
    "\n",
    "docs"
   ]
  },
  {
   "cell_type": "markdown",
   "id": "e9db24b1-2197-4e9c-bb55-51331441bacc",
   "metadata": {},
   "source": [
    "Vectorstore"
   ]
  },
  {
   "cell_type": "code",
   "execution_count": 19,
   "id": "ae77c7eb-6aab-47a4-84a0-abfc83b13d85",
   "metadata": {},
   "outputs": [],
   "source": [
    "embedding = OpenAIEmbeddings()"
   ]
  },
  {
   "cell_type": "code",
   "execution_count": 24,
   "id": "53fcf60a-9e92-49e6-aff0-9a4dd5697bf5",
   "metadata": {},
   "outputs": [],
   "source": [
    "persist_directory = 'data/chroma/'\n",
    "override = True"
   ]
  },
  {
   "cell_type": "code",
   "execution_count": 31,
   "id": "d3504172-e51b-4f6c-9ae9-d0ebb36e766f",
   "metadata": {},
   "outputs": [],
   "source": [
    "if os.path.exists(persist_directory) and override:  # clean out existing data\n",
    "    for f in glob.glob(persist_directory+'index/*'):\n",
    "        os.remove(f)\n",
    "    \n",
    "vectordb = Chroma.from_documents(\n",
    "    documents=docs,\n",
    "    embedding=embedding,\n",
    "    persist_directory=persist_directory\n",
    ")"
   ]
  },
  {
   "cell_type": "code",
   "execution_count": 43,
   "id": "af99ae2f-77cf-490b-a9a0-ca188a3c61ea",
   "metadata": {},
   "outputs": [
    {
     "data": {
      "text/plain": [
       "[Document(page_content='Boards & Committees (Corporate): Tech Company X, Board Director\\n\\nBoards & Committees (Nonprofit): San Francisco Museum of Modern Art, Trustee\\n\\nFormer/Prior Boards & Committees (Corporate): Investment Firm Y, Board Director\\n\\nFormer/Prior Boards & Committees (Nonprofit): Local Charity Z, Trustee', metadata={'source': 'data/text/Robert_King_relsci.html'})]"
      ]
     },
     "execution_count": 43,
     "metadata": {},
     "output_type": "execute_result"
    }
   ],
   "source": [
    "q = 'tell me about his board memberships'\n",
    "docs = vectordb.similarity_search(q, k=1)\n",
    "docs"
   ]
  },
  {
   "cell_type": "markdown",
   "id": "50054825-96aa-4ac8-9964-08b8982c1e0f",
   "metadata": {},
   "source": [
    "todo:\n",
    "connect openai and get llm summary\n",
    "metadata filters - what are they useful for"
   ]
  },
  {
   "cell_type": "code",
   "execution_count": null,
   "id": "7ec9e593-1879-441c-8a3e-17a686038475",
   "metadata": {},
   "outputs": [],
   "source": []
  },
  {
   "cell_type": "code",
   "execution_count": null,
   "id": "046fcca0-794b-402b-b43e-eabe9ac36c77",
   "metadata": {},
   "outputs": [],
   "source": []
  },
  {
   "cell_type": "code",
   "execution_count": null,
   "id": "9a749ed4-c737-40f9-8b4b-f760ecab3730",
   "metadata": {},
   "outputs": [],
   "source": []
  },
  {
   "cell_type": "code",
   "execution_count": null,
   "id": "1ff1f6b1-a3de-49e1-a7d8-d1c71cf9b4b7",
   "metadata": {},
   "outputs": [],
   "source": []
  }
 ],
 "metadata": {
  "kernelspec": {
   "display_name": "Python 3 (ipykernel)",
   "language": "python",
   "name": "python3"
  },
  "language_info": {
   "codemirror_mode": {
    "name": "ipython",
    "version": 3
   },
   "file_extension": ".py",
   "mimetype": "text/x-python",
   "name": "python",
   "nbconvert_exporter": "python",
   "pygments_lexer": "ipython3",
   "version": "3.11.3"
  }
 },
 "nbformat": 4,
 "nbformat_minor": 5
}
