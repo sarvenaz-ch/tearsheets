{
 "cells": [
  {
   "cell_type": "markdown",
   "id": "01bd5964-f99e-49b9-b346-f3de95e09f74",
   "metadata": {},
   "source": [
    "Sample database for MCU"
   ]
  },
  {
   "cell_type": "code",
   "execution_count": 1,
   "id": "650d2378-c7f1-41f2-a4eb-b26b0653e15b",
   "metadata": {},
   "outputs": [],
   "source": [
    "import os\n",
    "from dotenv import load_dotenv\n",
    "\n",
    "#openai\n",
    "import openai\n",
    "\n",
    "# langchain\n",
    "from langchain.chat_models import ChatOpenAI\n",
    "from langchain.chains import GraphCypherQAChain\n",
    "from langchain.graphs import Neo4jGraph\n",
    "\n",
    "load_dotenv()\n",
    "openai.api_key = os.getenv('OPENAI_API_KEY')\n",
    "\n",
    "os.environ['NEO4J_USERNAME'] = 'neo4j'\n",
    "os.environ['NEO4J_PS'] = 'UUMRX3vIec5aRPh4vT1Azy0KKNHK2KmkJFgiO1zqf6U'\n",
    "os.environ['AURA_DB'] = '65fd0a31'"
   ]
  },
  {
   "cell_type": "markdown",
   "id": "0e6393f2-5259-4d6b-bc04-87930f500ba3",
   "metadata": {},
   "source": [
    "Connections"
   ]
  },
  {
   "cell_type": "code",
   "execution_count": 2,
   "id": "b6ee3401-9455-4a74-b6d0-f983f918ddc4",
   "metadata": {},
   "outputs": [],
   "source": [
    "graph = Neo4jGraph(\n",
    "    url=f\"neo4j+s://{os.environ['AURA_DB']}.databases.neo4j.io\",\n",
    "    username=os.getenv('NEO4J_USERNAME'),\n",
    "    password=os.getenv('NEO4J_PS')\n",
    ")"
   ]
  },
  {
   "cell_type": "markdown",
   "id": "388fb166-f3f5-4d0d-88b9-2cea3449488c",
   "metadata": {},
   "source": [
    "Seed the database:\n",
    "  - [Example](https://python.langchain.com/docs/use_cases/more/graph/graph_cypher_qa)"
   ]
  },
  {
   "cell_type": "code",
   "execution_count": 3,
   "id": "20802d3b-3fc2-47ef-9d8a-8743f71e3f1b",
   "metadata": {},
   "outputs": [],
   "source": [
    "# X-men\n",
    "graph.query(\n",
    "    \"\"\"\n",
    "MERGE (f:Faction {name:\"X-Men\"})\n",
    "WITH f\n",
    "UNWIND [\"Professor X\", \"Cyclops\", \"Iceman\", \"Beast\", \"Angel\", \"Marvel Girl\"] AS hero\n",
    "MERGE (h:Hero {name:hero})\n",
    "MERGE (h)-[:MEMBER]->(f)\n",
    "\"\"\"\n",
    ")\n",
    "#graph.refresh_schema()\n",
    "\n",
    "# Avengers\n",
    "graph.query(\n",
    "    \"\"\"\n",
    "MERGE (f:Faction {name:\"Avengers\"})\n",
    "WITH f\n",
    "UNWIND [\"Iron Man\", \"Captain America\", \"Hulk\", \"Thor\", \"Black Widow\", \"Hawkeye\"] AS hero\n",
    "MERGE (h:Hero {name:hero})\n",
    "MERGE (h)-[:MEMBER]->(f)\n",
    "\"\"\"\n",
    ")\n",
    "#graph.refresh_schema()\n",
    "\n",
    "# Thor\n",
    "graph.query(\n",
    "    \"\"\"\n",
    "MERGE (f:Father {name:\"Odin\"})\n",
    "WITH f\n",
    "UNWIND [\"Thor\"] AS son\n",
    "MERGE (s:Son {name:son})\n",
    "MERGE (s)-[:SIRED_BY]->(f)\n",
    "\"\"\"\n",
    ")\n",
    "#graph.refresh_schema()\n",
    "\n",
    "# X-men enemies\n",
    "graph.query(\n",
    "    \"\"\"\n",
    "MERGE (f:Faction {name:\"X-Men\"})\n",
    "WITH f\n",
    "UNWIND [\"Apocalypse\", \"Juggernaut\", \"Magneto\", \"Sabretooth\", \"Vulcan\"] AS villian\n",
    "MERGE (v:Villian {name:villian})\n",
    "MERGE (f)-[:ENEMIES_WITH]->(v)\n",
    "\"\"\"\n",
    ")\n",
    "#graph.refresh_schema()\n",
    "\n",
    "# Avengers enemies\n",
    "graph.query(\n",
    "    \"\"\"\n",
    "MERGE (f:Faction {name:\"Avengers\"})\n",
    "WITH f\n",
    "UNWIND [\"Blastaar\", \"Kang\", \"Magneto\", \"Thanos\", \"Ultron\"] AS villian\n",
    "MERGE (v:Villian {name:villian})\n",
    "MERGE (f)-[:ENEMIES_WITH]->(v)\n",
    "\"\"\"\n",
    ")\n",
    "graph.refresh_schema()"
   ]
  },
  {
   "cell_type": "markdown",
   "id": "d23afabb-5e0f-4f4a-b829-24cb03441098",
   "metadata": {},
   "source": [
    "Examine the graph schema"
   ]
  },
  {
   "cell_type": "code",
   "execution_count": 4,
   "id": "696a8939-a335-46fc-9e44-a3b6c52be6f9",
   "metadata": {},
   "outputs": [
    {
     "name": "stdout",
     "output_type": "stream",
     "text": [
      "\n",
      "        Node properties are the following:\n",
      "        [{'properties': [{'property': 'name', 'type': 'STRING'}], 'labels': 'Faction'}, {'properties': [{'property': 'name', 'type': 'STRING'}], 'labels': 'Hero'}, {'properties': [{'property': 'name', 'type': 'STRING'}], 'labels': 'Father'}, {'properties': [{'property': 'name', 'type': 'STRING'}], 'labels': 'Son'}, {'properties': [{'property': 'name', 'type': 'STRING'}], 'labels': 'Villian'}]\n",
      "        Relationship properties are the following:\n",
      "        []\n",
      "        The relationships are the following:\n",
      "        ['(:Faction)-[:ENEMIES_WITH]->(:Villian)', '(:Hero)-[:MEMBER]->(:Faction)', '(:Son)-[:SIRED_BY]->(:Father)']\n",
      "        \n"
     ]
    }
   ],
   "source": [
    "print(graph.get_schema)"
   ]
  },
  {
   "cell_type": "markdown",
   "id": "ad135a90-2773-479f-a91e-9051608b4da2",
   "metadata": {},
   "source": [
    "Chat with the graph"
   ]
  },
  {
   "cell_type": "code",
   "execution_count": 5,
   "id": "bbf0ba22-c1df-420b-9f39-587a49f0942c",
   "metadata": {},
   "outputs": [],
   "source": [
    "chain = GraphCypherQAChain.from_llm(\n",
    "    ChatOpenAI(temperature=0), graph=graph, verbose=True\n",
    ")"
   ]
  },
  {
   "cell_type": "code",
   "execution_count": 6,
   "id": "053d468c-892d-433b-ad6b-da2487f34b9a",
   "metadata": {},
   "outputs": [
    {
     "name": "stdout",
     "output_type": "stream",
     "text": [
      "\n",
      "\n",
      "\u001b[1m> Entering new  chain...\u001b[0m\n",
      "Generated Cypher:\n",
      "\u001b[32;1m\u001b[1;3mMATCH (h:Hero)-[:MEMBER]->(f:Faction {name: 'X-Men'})\n",
      "RETURN h.name\u001b[0m\n",
      "Full Context:\n",
      "\u001b[32;1m\u001b[1;3m[{'h.name': 'Marvel Girl'}, {'h.name': 'Angel'}, {'h.name': 'Beast'}, {'h.name': 'Iceman'}, {'h.name': 'Cyclops'}, {'h.name': 'Professor X'}]\u001b[0m\n",
      "\n",
      "\u001b[1m> Finished chain.\u001b[0m\n"
     ]
    },
    {
     "data": {
      "text/plain": [
       "'The X-Men team consists of Marvel Girl, Angel, Beast, Iceman, Cyclops, and Professor X.'"
      ]
     },
     "execution_count": 6,
     "metadata": {},
     "output_type": "execute_result"
    }
   ],
   "source": [
    "chain.run('List the X-Men team')"
   ]
  },
  {
   "cell_type": "code",
   "execution_count": 7,
   "id": "ffcc9742-6a4a-4d22-a9b9-93e3bdc39df2",
   "metadata": {},
   "outputs": [
    {
     "name": "stdout",
     "output_type": "stream",
     "text": [
      "\n",
      "\n",
      "\u001b[1m> Entering new  chain...\u001b[0m\n",
      "Generated Cypher:\n",
      "\u001b[32;1m\u001b[1;3mMATCH (h:Hero)-[:MEMBER]->(f:Faction {name: 'Avengers'})\n",
      "RETURN h.name\u001b[0m\n",
      "Full Context:\n",
      "\u001b[32;1m\u001b[1;3m[{'h.name': 'Hawkeye'}, {'h.name': 'Black Widow'}, {'h.name': 'Thor'}, {'h.name': 'Hulk'}, {'h.name': 'Captain America'}, {'h.name': 'Iron Man'}]\u001b[0m\n",
      "\n",
      "\u001b[1m> Finished chain.\u001b[0m\n"
     ]
    },
    {
     "data": {
      "text/plain": [
       "'The Avengers team consists of Hawkeye, Black Widow, Thor, Hulk, Captain America, and Iron Man.'"
      ]
     },
     "execution_count": 7,
     "metadata": {},
     "output_type": "execute_result"
    }
   ],
   "source": [
    "chain.run('List the Avengers team')"
   ]
  },
  {
   "cell_type": "code",
   "execution_count": 8,
   "id": "c35999af-5dae-4ad0-803d-6a13998de861",
   "metadata": {},
   "outputs": [
    {
     "name": "stdout",
     "output_type": "stream",
     "text": [
      "\n",
      "\n",
      "\u001b[1m> Entering new  chain...\u001b[0m\n",
      "Generated Cypher:\n",
      "\u001b[32;1m\u001b[1;3mMATCH (father:Father {name: 'Odin'})-[:SIRED_BY]->(son:Son)\n",
      "RETURN son.name\u001b[0m\n",
      "Full Context:\n",
      "\u001b[32;1m\u001b[1;3m[]\u001b[0m\n",
      "\n",
      "\u001b[1m> Finished chain.\u001b[0m\n"
     ]
    },
    {
     "data": {
      "text/plain": [
       "'Odin, the Norse god, is said to have several children. Some of his well-known children include Thor, the god of thunder, and Loki, the trickster god. Additionally, Odin is also believed to have fathered Baldr, the god of light and purity, and Hodr, the blind god of darkness. These are just a few of the children associated with Odin in Norse mythology.'"
      ]
     },
     "execution_count": 8,
     "metadata": {},
     "output_type": "execute_result"
    }
   ],
   "source": [
    "chain.run('List the children of Odin')  # wrong!"
   ]
  },
  {
   "cell_type": "code",
   "execution_count": 11,
   "id": "565de2ef-2762-4dfa-bc6a-39d5d6b46932",
   "metadata": {},
   "outputs": [
    {
     "name": "stdout",
     "output_type": "stream",
     "text": [
      "\n",
      "\n",
      "\u001b[1m> Entering new  chain...\u001b[0m\n",
      "Generated Cypher:\n",
      "\u001b[32;1m\u001b[1;3mMATCH (s:Son)-[:SIRED_BY]->(f:Father)\n",
      "WHERE s.name = 'Thor'\n",
      "RETURN f.name\u001b[0m\n",
      "Full Context:\n",
      "\u001b[32;1m\u001b[1;3m[{'f.name': 'Odin'}]\u001b[0m\n",
      "\n",
      "\u001b[1m> Finished chain.\u001b[0m\n"
     ]
    },
    {
     "data": {
      "text/plain": [
       "'The father of Thor is Odin.'"
      ]
     },
     "execution_count": 11,
     "metadata": {},
     "output_type": "execute_result"
    }
   ],
   "source": [
    "chain.run('Who is the father of Thor?')"
   ]
  },
  {
   "cell_type": "code",
   "execution_count": 12,
   "id": "a7c9ead1-a5e8-44c8-ac8f-0ec8e8f71169",
   "metadata": {},
   "outputs": [
    {
     "name": "stdout",
     "output_type": "stream",
     "text": [
      "\n",
      "\n",
      "\u001b[1m> Entering new  chain...\u001b[0m\n",
      "Generated Cypher:\n",
      "\u001b[32;1m\u001b[1;3mMATCH (xmen:Faction {name: 'X-Men'})-[:ENEMIES_WITH]->(villian:Villian)<-[:ENEMIES_WITH]-(avengers:Faction {name: 'Avengers'})\n",
      "RETURN villian.name\u001b[0m\n",
      "Full Context:\n",
      "\u001b[32;1m\u001b[1;3m[{'villian.name': 'Magneto'}]\u001b[0m\n",
      "\n",
      "\u001b[1m> Finished chain.\u001b[0m\n"
     ]
    },
    {
     "data": {
      "text/plain": [
       "'The X-Men and the Avengers have Magneto as a common villain.'"
      ]
     },
     "execution_count": 12,
     "metadata": {},
     "output_type": "execute_result"
    }
   ],
   "source": [
    "chain.run('what villians do the X-Men and the Avengers have in common?')"
   ]
  },
  {
   "cell_type": "code",
   "execution_count": 13,
   "id": "d9abffbe-cced-4b47-8ff9-59f3ce8134a1",
   "metadata": {},
   "outputs": [
    {
     "name": "stdout",
     "output_type": "stream",
     "text": [
      "\n",
      "\n",
      "\u001b[1m> Entering new  chain...\u001b[0m\n",
      "Generated Cypher:\n",
      "\u001b[32;1m\u001b[1;3mMATCH (thor:Hero {name: 'Thor'})-[:MEMBER]->(faction:Faction)<-[:MEMBER]-(iceman:Hero {name: 'Iceman'})\n",
      "MATCH (thor)-[:ENEMIES_WITH]->(enemy:Villian)<-[:ENEMIES_WITH]-(iceman)\n",
      "RETURN enemy.name\u001b[0m\n",
      "Full Context:\n",
      "\u001b[32;1m\u001b[1;3m[]\u001b[0m\n",
      "\n",
      "\u001b[1m> Finished chain.\u001b[0m\n"
     ]
    },
    {
     "data": {
      "text/plain": [
       "\"I'm sorry, but I don't have any information on the enemies that Thor and Iceman have in common.\""
      ]
     },
     "execution_count": 13,
     "metadata": {},
     "output_type": "execute_result"
    }
   ],
   "source": [
    "chain.run('What enemies do Thor and Iceman have in common?')"
   ]
  },
  {
   "cell_type": "code",
   "execution_count": 14,
   "id": "6c15f6a7-6776-49f5-91bb-6ec309f5d3e0",
   "metadata": {},
   "outputs": [
    {
     "name": "stdout",
     "output_type": "stream",
     "text": [
      "\n",
      "\n",
      "\u001b[1m> Entering new  chain...\u001b[0m\n",
      "Generated Cypher:\n",
      "\u001b[32;1m\u001b[1;3mMATCH (start:Hero {name: 'Thor'}), (end:Hero {name: 'Iceman'})\n",
      "MATCH path = shortestPath((start)-[*]-(end))\n",
      "RETURN path\u001b[0m\n",
      "Full Context:\n",
      "\u001b[32;1m\u001b[1;3m[{'path': [{'name': 'Thor'}, 'MEMBER', {'name': 'Avengers'}, 'ENEMIES_WITH', {'name': 'Magneto'}, 'ENEMIES_WITH', {'name': 'X-Men'}, 'MEMBER', {'name': 'Iceman'}]}]\u001b[0m\n",
      "\n",
      "\u001b[1m> Finished chain.\u001b[0m\n"
     ]
    },
    {
     "data": {
      "text/plain": [
       "'The shortest path between Thor and Iceman is through the Avengers, who are enemies with Magneto, who in turn is enemies with the X-Men, and finally, Iceman is a member of the X-Men.'"
      ]
     },
     "execution_count": 14,
     "metadata": {},
     "output_type": "execute_result"
    }
   ],
   "source": [
    "chain.run('What is the shortest path between Thor and Iceman?')"
   ]
  },
  {
   "cell_type": "code",
   "execution_count": null,
   "id": "d843dfd9-0642-492b-8c95-286d6d49c562",
   "metadata": {},
   "outputs": [],
   "source": []
  }
 ],
 "metadata": {
  "kernelspec": {
   "display_name": "Python 3 (ipykernel)",
   "language": "python",
   "name": "python3"
  },
  "language_info": {
   "codemirror_mode": {
    "name": "ipython",
    "version": 3
   },
   "file_extension": ".py",
   "mimetype": "text/x-python",
   "name": "python",
   "nbconvert_exporter": "python",
   "pygments_lexer": "ipython3",
   "version": "3.11.3"
  }
 },
 "nbformat": 4,
 "nbformat_minor": 5
}
