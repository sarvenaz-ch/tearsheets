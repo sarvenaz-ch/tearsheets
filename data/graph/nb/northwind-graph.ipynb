{
 "cells": [
  {
   "cell_type": "markdown",
   "id": "c77aeba4-4777-41fe-b7b3-cb08b38cad27",
   "metadata": {},
   "source": [
    "Stock Neo4j Northwind example.\n",
    "\n",
    " - Upload the provided example csv files to the free neo4j instance\n",
    " - Use the web app wizard to prototype Order-Product relationships\n",
    " - Load the entire graph using the map function\n",
    " - Examine the graph via Langchain neo4j connector"
   ]
  },
  {
   "cell_type": "code",
   "execution_count": 1,
   "id": "526a1611-d420-4b86-88a1-6d321869d9b6",
   "metadata": {},
   "outputs": [],
   "source": [
    "import os\n",
    "from dotenv import load_dotenv\n",
    "\n",
    "#openai\n",
    "import openai\n",
    "\n",
    "# langchain\n",
    "from langchain.chat_models import ChatOpenAI\n",
    "from langchain.chains import GraphCypherQAChain\n",
    "from langchain.graphs import Neo4jGraph\n",
    "\n",
    "load_dotenv()\n",
    "openai.api_key = os.getenv('OPENAI_API_KEY')"
   ]
  },
  {
   "cell_type": "code",
   "execution_count": 2,
   "id": "7fc6a10c-2c7f-4936-9ed3-566919189591",
   "metadata": {},
   "outputs": [],
   "source": [
    "graph = Neo4jGraph(\n",
    "    url=\"neo4j+s://67f780a0.databases.neo4j.io\",\n",
    "    username=os.getenv('NEO4J_USERNAME'),\n",
    "    password=os.getenv('NEO4J_PS')\n",
    ")"
   ]
  },
  {
   "cell_type": "code",
   "execution_count": 3,
   "id": "9b21f6c7-e335-43db-8a72-68fcb66468fb",
   "metadata": {},
   "outputs": [],
   "source": [
    "chain = GraphCypherQAChain.from_llm(\n",
    "    ChatOpenAI(temperature=0), graph=graph, verbose=True\n",
    ")"
   ]
  },
  {
   "cell_type": "code",
   "execution_count": 4,
   "id": "2efae472-f0b7-4128-85ae-584775a582e8",
   "metadata": {},
   "outputs": [
    {
     "name": "stdout",
     "output_type": "stream",
     "text": [
      "\n",
      "\n",
      "\u001b[1m> Entering new  chain...\u001b[0m\n",
      "Generated Cypher:\n",
      "\u001b[32;1m\u001b[1;3mMATCH (o:Order)-[:CONTAINS]->(p:Product)\n",
      "RETURN p.productName, COUNT(o) AS orderCount\n",
      "ORDER BY orderCount DESC\n",
      "LIMIT 1\u001b[0m\n",
      "Full Context:\n",
      "\u001b[32;1m\u001b[1;3m[{'p.productName': 'Raclette Courdavault', 'orderCount': 54}]\u001b[0m\n",
      "\n",
      "\u001b[1m> Finished chain.\u001b[0m\n"
     ]
    },
    {
     "data": {
      "text/plain": [
       "'The product that was in the most orders is Raclette Courdavault.'"
      ]
     },
     "execution_count": 4,
     "metadata": {},
     "output_type": "execute_result"
    }
   ],
   "source": [
    "chain.run('what product was in the most orders')"
   ]
  },
  {
   "cell_type": "code",
   "execution_count": 5,
   "id": "2a809ea6-be48-4305-85b6-16ebea2ca2da",
   "metadata": {},
   "outputs": [
    {
     "name": "stdout",
     "output_type": "stream",
     "text": [
      "\n",
      "\n",
      "\u001b[1m> Entering new  chain...\u001b[0m\n",
      "Generated Cypher:\n",
      "\u001b[32;1m\u001b[1;3mMATCH (o:Order)-[:CONTAINS]->(p:Product)\n",
      "WHERE p.productName = 'coffee'\n",
      "RETURN o\u001b[0m\n",
      "Full Context:\n",
      "\u001b[32;1m\u001b[1;3m[]\u001b[0m\n",
      "\n",
      "\u001b[1m> Finished chain.\u001b[0m\n"
     ]
    },
    {
     "data": {
      "text/plain": [
       "\"I'm sorry, but I don't have any information on what orders contained coffee.\""
      ]
     },
     "execution_count": 5,
     "metadata": {},
     "output_type": "execute_result"
    }
   ],
   "source": [
    "chain.run('what orders contained coffee')"
   ]
  },
  {
   "cell_type": "code",
   "execution_count": 6,
   "id": "26a2e27c-647d-48e6-bfd2-b3431bd6eb9f",
   "metadata": {},
   "outputs": [
    {
     "name": "stdout",
     "output_type": "stream",
     "text": [
      "\n",
      "\n",
      "\u001b[1m> Entering new  chain...\u001b[0m\n",
      "Generated Cypher:\n",
      "\u001b[32;1m\u001b[1;3mMATCH (o1:Order)-[:CONTAINS]->(p1:Product)\n",
      "MATCH (o2:Order)-[:CONTAINS]->(p2:Product)\n",
      "WHERE o1 <> o2 AND p1 = p2\n",
      "WITH o1, o2, COUNT(DISTINCT p1) AS commonProducts\n",
      "WHERE commonProducts >= 3\n",
      "RETURN COUNT(DISTINCT o1) AS numberOfOrders\u001b[0m\n",
      "Full Context:\n",
      "\u001b[32;1m\u001b[1;3m[{'numberOfOrders': 44}]\u001b[0m\n",
      "\n",
      "\u001b[1m> Finished chain.\u001b[0m\n"
     ]
    },
    {
     "data": {
      "text/plain": [
       "\"I'm sorry, but I don't have enough information to answer your question.\""
      ]
     },
     "execution_count": 6,
     "metadata": {},
     "output_type": "execute_result"
    }
   ],
   "source": [
    "chain.run('how many orders had at least three products in common')"
   ]
  },
  {
   "cell_type": "code",
   "execution_count": 7,
   "id": "8a8ff65f-0620-4c3e-bddf-bc0d22c3ef74",
   "metadata": {},
   "outputs": [
    {
     "name": "stdout",
     "output_type": "stream",
     "text": [
      "\n",
      "\n",
      "\u001b[1m> Entering new  chain...\u001b[0m\n",
      "Generated Cypher:\n",
      "\u001b[32;1m\u001b[1;3mMATCH (o:Order)-[:CONTAINS]->(p:Product)\n",
      "WITH o, p\n",
      "ORDER BY o.orderDate DESC\n",
      "LIMIT 1\n",
      "RETURN p.productName, o.id AS orderid\u001b[0m\n",
      "Full Context:\n",
      "\u001b[32;1m\u001b[1;3m[{'p.productName': 'Pavlova', 'orderid': '11074'}]\u001b[0m\n",
      "\n",
      "\u001b[1m> Finished chain.\u001b[0m\n"
     ]
    },
    {
     "data": {
      "text/plain": [
       "'The most recent order included the product \"Pavlova\" and the order ID is 11074.'"
      ]
     },
     "execution_count": 7,
     "metadata": {},
     "output_type": "execute_result"
    }
   ],
   "source": [
    "chain.run('what was included in the most recent order. Also include the orderid')"
   ]
  },
  {
   "cell_type": "code",
   "execution_count": 8,
   "id": "39939c37-5f9b-43a7-a3bc-cc30824925ac",
   "metadata": {},
   "outputs": [
    {
     "name": "stdout",
     "output_type": "stream",
     "text": [
      "\n",
      "\n",
      "\u001b[1m> Entering new  chain...\u001b[0m\n",
      "Generated Cypher:\n",
      "\u001b[32;1m\u001b[1;3mMATCH (o:Order)-[:CONTAINS]->(p:Product)\n",
      "WITH o, COUNT(o) AS orderCount\n",
      "RETURN o.id AS customerId, orderCount\n",
      "ORDER BY orderCount DESC\n",
      "LIMIT 1\u001b[0m\n",
      "Full Context:\n",
      "\u001b[32;1m\u001b[1;3m[{'customerId': '11077', 'orderCount': 25}]\u001b[0m\n",
      "\n",
      "\u001b[1m> Finished chain.\u001b[0m\n"
     ]
    },
    {
     "data": {
      "text/plain": [
       "'The customer with the ID 11077 made the most orders, with a total of 25 orders.'"
      ]
     },
     "execution_count": 8,
     "metadata": {},
     "output_type": "execute_result"
    }
   ],
   "source": [
    "chain.run('who made the most orders?')"
   ]
  },
  {
   "cell_type": "code",
   "execution_count": 9,
   "id": "46788e38-15b6-48a4-917a-0197804db9b3",
   "metadata": {},
   "outputs": [
    {
     "name": "stdout",
     "output_type": "stream",
     "text": [
      "\n",
      "\n",
      "\u001b[1m> Entering new  chain...\u001b[0m\n",
      "Generated Cypher:\n",
      "\u001b[32;1m\u001b[1;3mMATCH (o:Order)-[:CONTAINS]->(p:Product)\n",
      "RETURN p.productName, COUNT(o) AS orderCount\n",
      "ORDER BY orderCount ASC\n",
      "LIMIT 1\u001b[0m\n",
      "Full Context:\n",
      "\u001b[32;1m\u001b[1;3m[{'p.productName': 'Mishi Kobe Niku', 'orderCount': 5}]\u001b[0m\n",
      "\n",
      "\u001b[1m> Finished chain.\u001b[0m\n"
     ]
    },
    {
     "data": {
      "text/plain": [
       "'The product that was ordered the least times is Mishi Kobe Niku, with a total of 5 orders.'"
      ]
     },
     "execution_count": 9,
     "metadata": {},
     "output_type": "execute_result"
    }
   ],
   "source": [
    "chain.run('what product was ordered the least times?')"
   ]
  },
  {
   "cell_type": "code",
   "execution_count": null,
   "id": "2ada4467-6d1f-4542-8daf-43bb88fa8dd3",
   "metadata": {},
   "outputs": [],
   "source": []
  }
 ],
 "metadata": {
  "kernelspec": {
   "display_name": "Python 3 (ipykernel)",
   "language": "python",
   "name": "python3"
  },
  "language_info": {
   "codemirror_mode": {
    "name": "ipython",
    "version": 3
   },
   "file_extension": ".py",
   "mimetype": "text/x-python",
   "name": "python",
   "nbconvert_exporter": "python",
   "pygments_lexer": "ipython3",
   "version": "3.11.3"
  }
 },
 "nbformat": 4,
 "nbformat_minor": 5
}
