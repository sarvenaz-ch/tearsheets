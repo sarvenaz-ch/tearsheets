{
 "cells": [
  {
   "cell_type": "markdown",
   "id": "c4317415-44a6-40b9-96ca-4b4aa1333bbc",
   "metadata": {},
   "source": [
    "Process for generating html documents with raw tearsheet inputs."
   ]
  },
  {
   "cell_type": "code",
   "execution_count": 1,
   "id": "c7c92675-3248-42eb-bb13-728cd1dc2e2b",
   "metadata": {},
   "outputs": [],
   "source": [
    "import os\n",
    "import re\n",
    "import time\n",
    "import json\n",
    "import openai\n",
    "from dotenv import load_dotenv, find_dotenv\n",
    "\n",
    "_ = load_dotenv(find_dotenv())\n",
    "\n",
    "openai.api_key = os.environ[\"OPENAI_API_KEY\"]"
   ]
  },
  {
   "cell_type": "code",
   "execution_count": 2,
   "id": "e9e38057-dea3-4ccd-b945-12bd92356597",
   "metadata": {},
   "outputs": [],
   "source": [
    "# Helper function to parse the output from a one or more prompts combined\n",
    "# expose the temperature setting to increase the degree of randomness\n",
    "\n",
    "def get_completion_from_messages(messages, model=\"gpt-3.5-turbo\", temperature=0, verbose=False):\n",
    "    \"\"\"\n",
    "    Prime the model with one or more input prompts\n",
    "        messages - list of prompts (each prompt is a dictionary of \"role\" and \"content\")\n",
    "        model - ChatGPT model to use\n",
    "        temperature - Single values in the range [0, 2]. Higher values\n",
    "            produce more randomness.\n",
    "        verbose - if True, print the full response and then\n",
    "            return only the chat response\n",
    "    \"\"\"\n",
    "    response = openai.ChatCompletion.create(\n",
    "        model=model,\n",
    "        messages=messages,\n",
    "        temperature=temperature, # this is the degree of randomness of the model\"s output\n",
    "    )\n",
    "    if verbose:\n",
    "        print(f\"full response:\\n{response}\")\n",
    "    return response.choices[0].message[\"content\"]"
   ]
  },
  {
   "cell_type": "code",
   "execution_count": 3,
   "id": "89e08492-1c57-4fb7-b55f-3beecda09d47",
   "metadata": {},
   "outputs": [],
   "source": [
    "output_schema = {\"_linkedin.html\": {\n",
    "                  \"Employment 1\": \"Big Bank, Senior Data Scientist\",\n",
    "                  \"Employment 2\": \"Small Bank, Data Scientist\",\n",
    "                  \"Education\": \"UC Berkeley, PhD Astronomy\",\n",
    "                  \"Board Member\": \"Girls and Boys Club, Chairman\",\n",
    "                  \"Bio\": \"biography of up to 100 words that is consistent with the above information\",\n",
    "                 },\n",
    "\n",
    "                 \"_wealthx.html\": {\n",
    "                    \"Estimated Net Worth\": \"At least $19.5 million\",\n",
    "                    \"Estimated Liquid Assets\": \"At least $11.5 million\",\n",
    "                    \"Estimated Household Wealth\": \"At least $31.5 million\",\n",
    "                    \"Estimated Household Liquid Assets\": \"At least $11.5 million\",\n",
    "                    \"Estimated Family Net Worth\": \"At least $226.1 billion\",\n",
    "                    \"Interests, Passions, Hobbies\" : \"Tennis and golf\"\n",
    "                 },\n",
    "\n",
    "                 \"_relsci.html\": {\n",
    "                     \"Boards & Committees (Corporate)\": \"Paramount Global, Board Director\",\n",
    "                     \"Boards & Committees (Nonprofit)\": \"Brentwood School - California, Trustee\",\n",
    "                     \"Former/Prior Boards & Committees (Corporate)\": \"The Walt Disney Company, Board Director\",\n",
    "                     \"Former/Prior Boards & Committees (Nonprofit)\": \"The Paley Center for Media, Trustee\",\n",
    "                     \"Top donations (Nonprofit)\": \"Greenpeace - $2M, UCSF - $1M, Kiva - $500K\",\n",
    "                     \"Top donations (Political parties)\": \"Kamala Harris - $100K, CA Democratic Committee - $250K\",\n",
    "                 },\n",
    "\n",
    "                 \"_equilar.html\": {\n",
    "                    \"Stock sold - Equity Transactions (Last 36 Months)\": \"$215.3 million\",\n",
    "                    \"New Equity Grants - Equity Transactions (Last 36 Months)\": \"$93 million\",\n",
    "                    \"Options Exercised - Equity Transactions (Last 36 Months)\": \"$17.5 million\",\n",
    "                    \"Equity Holdings - Equity Transactions\": \"$167.5 million\",\n",
    "                    \"Annual Compensation\": \"$11.9 million\",\n",
    "                    \"Stock Sold\": \"CEO and Chairperson, \\\n",
    "                        $1.6M at Cerevel Therapeutics Holdings, Inc. (50,000 shares), \\\n",
    "                        June 5 2023 (SEC) | June 1 2023 (Effective)\",\n",
    "                 },\n",
    "\n",
    "                 \"_zoominfo.html\": {\n",
    "                     \"Personal Email\": \"email@domain.com\",\n",
    "                 },\n",
    "\n",
    "                 \"_pitchbook.html\": {\n",
    "                     \"Lead partner on deals\": {\n",
    "                          \"Company\": \"Harvey (Business/Productivity Software)\",\n",
    "                          \"Deal Date\": \"April 26 2023\",\n",
    "                          \"Deal Type\": \"Early Stage VC\",\n",
    "                          \"Deal Size\": \"$21M\",\n",
    "                          \"Deal Status\": \"Completed\",\n",
    "                          \"Location\": \"Los Angeles, CA\",\n",
    "                          \"Representing\": \"Sequoia Capital\",\n",
    "                          \"Other Partners\": \"Rich Dude I, Rich Guy II, Notso Rich III, Rich Wannabe\",\n",
    "                          #\"Other Partners emails\": \"richdude@aristocracy.com, richguy@aristocracy.com\",\n",
    "                     },\n",
    "                    \"Investor bio\": \"A brief summary of the investor, his peers, and his investment deals\"\n",
    "                 },\n",
    "\n",
    "                 \"_google.html\": {\n",
    "                     \"Article 1\": {\n",
    "                         \"Title\": 'John Smith granted key to the city',\n",
    "                         'Date': 'January 1, 2023',\n",
    "                         \"Abstract\": '''In an expensive public ceremony, the mayor granted John Smith the key to the city. \\\n",
    "                         The mayor then spoke for 20 minutes on how great of a person is John Smith and how luck we are \\\n",
    "                         to be his contemporaries.'''\n",
    "                         },\n",
    "                 },\n",
    "                 ## Should we add info on:\n",
    "                     # criminal background\n",
    "                     # if existing client, current relationship depth (e.g. CRB info)\n",
    "                }"
   ]
  },
  {
   "cell_type": "code",
   "execution_count": 6,
   "id": "c20ce24a-ef54-46f9-b0e7-45e6eda29914",
   "metadata": {},
   "outputs": [
    {
     "name": "stdout",
     "output_type": "stream",
     "text": [
      "[{'role': 'system', 'content': \"You are a banking expert at a prosperous regional bank. You will\\n                               generate documents about imaginary, yet plausible, clients. Your\\n                               output will follow the format below. The prompt from the user is your\\n                               starting point. Be creative in making up details but stay consistent\\n                               with the input prompt.\\n\\n                               Output schema: {'_linkedin.html': {'Employment 1': 'Big Bank, Senior Data Scientist', 'Employment 2': 'Small Bank, Data Scientist', 'Education': 'UC Berkeley, PhD Astronomy', 'Board Member': 'Girls and Boys Club, Chairman', 'Bio': 'biography of up to 100 words that is consistent with the above information'}, '_wealthx.html': {'Estimated Net Worth': 'At least $19.5 million', 'Estimated Liquid Assets': 'At least $11.5 million', 'Estimated Household Wealth': 'At least $31.5 million', 'Estimated Household Liquid Assets': 'At least $11.5 million', 'Estimated Family Net Worth': 'At least $226.1 billion', 'Interests, Passions, Hobbies': 'Tennis and golf'}, '_relsci.html': {'Boards & Committees (Corporate)': 'Paramount Global, Board Director', 'Boards & Committees (Nonprofit)': 'Brentwood School - California, Trustee', 'Former/Prior Boards & Committees (Corporate)': 'The Walt Disney Company, Board Director', 'Former/Prior Boards & Committees (Nonprofit)': 'The Paley Center for Media, Trustee'}, '_equilar.html': {'Stock sold - Equity Transactions (Last 36 Months)': '$215.3 million', 'New Equity Grants - Equity Transactions (Last 36 Months)': '$93 million', 'Options Exercised - Equity Transactions (Last 36 Months)': '$17.5 million', 'Equity Holdings - Equity Transactions': '$167.5 million', 'Annual Compensation': '$11.9 million', 'Stock Sold': 'CEO and Chairperson,                         $1.6M at Cerevel Therapeutics Holdings, Inc. (50,000 shares),                         June 5 2023 (SEC) | June 1 2023 (Effective)'}, '_zoominfo.html': {'Personal Email': 'email@domain.com'}, '_pitchbook.html': {'Lead partner on deals': {'Company': 'Harvey (Business/Productivity Software)', 'Deal Date': 'April 26 2023', 'Deal Type': 'Early Stage VC', 'Deal Size': '$21M', 'Deal Status': 'Completed', 'Location': 'Los Angeles, CA', 'Representing': 'Sequoia Capital'}, 'Investor bio': 'A brief summary of the investor and his investment deals'}, '_google.html': {'Article 1': {'Title': 'John Smith granted key to the city', 'Date': 'January 1, 2023', 'Abstract': 'In an expensive public ceremony, the mayor granted John Smith the key to the city.                          The mayor then spoke for 20 minutes on how great of a person is John Smith and how luck we are                          to be his contemporaries.'}}}\\n                            \"}, {'role': 'user', 'content': None}]\n"
     ]
    }
   ],
   "source": [
    "#client_description = \"\"\"Robert King is a prominent business man and CEO \\\n",
    "#at a San Francisco hedge fund. His undergrad degree is in political science. \\\n",
    "#He serves on the board of the local boy scouts chapter.  His net worth exceeds \\\n",
    "#$100M and his family net worth is even greater. \\\n",
    "#\"\"\"\n",
    "\n",
    "clients = {\n",
    "    \"Robert King\": {'description': \"\"\"has worked at various hedge funds. He is currently \\\n",
    "                    CEO at one in San Francisco. He serves on multiple local boards and is very wealthy.\"\"\",\n",
    "                   },\n",
    "\n",
    "    \"Julia Harpman\": {'description': \"\"\"is a crime reporter for the Daily News. She has one husband and\n",
    "                    no appreciable individual or family wealth.\"\"\",\n",
    "                   },\n",
    "    \n",
    "    \"Hanna Smith\": {'description': \"\"\"is self-employed. She bakes french pastries and sells them at Palo Alto\n",
    "                    farmers market on Sundays. Her two teenage daughters help her in packing and selling the goods\"\"\",\n",
    "                   },\n",
    "\n",
    "    \"Jerry Smith\": {'description': \"\"\"is a race car driver at a motorsports company with five years’ experience making speedy\n",
    "                    turns for several hours, helping his thousands of fans to fulfill their entertainment needs.\n",
    "                    He has helped raising money for multiple charities and has been one of the biggest contributers himself.\"\"\"\n",
    "                   },\n",
    "\n",
    "    \"Mariann Avocado\":{'description':\"\"\" Before being named CEO in August 2011, she was Enertech\n",
    "                        chief operating officer and was responsible for all of the company’s worldwide sales and operations,\n",
    "                        including end-to-end management ofsupply chain, sales activities, and service and support in all markets\n",
    "                        and countries. She played a key role in the continued development of strategic reseller and supplier relationships.\"\"\"\n",
    "                      },\n",
    "    \"Stella Vip\":{'description':\"\"\"Stella Vip grew up in Arizona, where she demonstrated an early ability in music that included composing her own songs.\n",
    "                    A child actress, she landed starring roles on the TV series \"One Piece\" and \"Secondary School Musical: The saga\" \n",
    "                    Vip released the heartrending debut single \"Doctor License\" in March 2020. The song hit No. 1 on the Billboard Hot 100 \n",
    "                    and was the first song with more than one billion streams in 2020. \n",
    "                    She followed that up with the acclaimed album \"Sweet\" (2021).\n",
    "                    She also started her own line of cosmetics, \"VIPglow\", and is the sole shareowner. VIPglow operates strictly online and has limited market penetration\"\"\"\n",
    "                    },\n",
    "    \n",
    "     \"Jared Livinglife\": {'description': \"\"\"is retired. He lives in the San Francisco East Bay.\n",
    "                        He enjoys playing soccer and occasional dog-sitting. He used to work at a small bank. He loves charity and volunteering.\"\"\"\n",
    "                       },\n",
    "     \"Aphrodite Greek\": {'description': \"\"\"is running a small craft store on Etsy selling jewellery.\n",
    "                        Inspired during the pandemic, she learned jewellery making and is now quite renowned in the small business circuit. \n",
    "                        She lives in the San Francisco East Bay.\n",
    "                        Before opening her own store, she was a full time parent focused on her two kids.\"\"\"\n",
    "                       },\n",
    "    \"Helen Troy\": {'description': \"\"\"is the lead model for multiple luxury brand campaigns. She has recently been elected to the city council for Arcadia, California.\n",
    "                   She is also known for her charity work for female victims of domestic abuse.\"\"\"\n",
    "                  },\n",
    "    \"Zeus Manly\": {'description': \"\"\"is a professional athlete that won 3 Olympic gold medals for discus throwing. \n",
    "                    He lives in Montana with his two pitbulls - Ares and Apollo.\"\"\"\n",
    "                  }\n",
    "     }\n",
    "\n",
    "message_1_content = \"\"\"***Client description: {client_description}*** \\\n",
    "                          <Your repsonse here>\n",
    "                     \"\"\"\n",
    "\n",
    "messages =  [  \n",
    "{\"role\":\"system\", \"content\":f\"\"\"You are a banking expert at a prosperous regional bank. You will\n",
    "                               generate documents about imaginary, yet plausible, clients. Your\n",
    "                               output will follow the format below. The prompt from the user is your\n",
    "                               starting point. Be creative in making up details but stay consistent\n",
    "                               with the input prompt.\n",
    "\n",
    "                               Output schema: {output_schema}\n",
    "                            \"\"\"},    \n",
    "{\"role\":\"user\", \"content\": None},    \n",
    "]\n",
    "\n",
    "print(messages)"
   ]
  },
  {
   "cell_type": "code",
   "execution_count": 7,
   "id": "6b3bcd8e-e1f6-491e-9402-54a40e40e8de",
   "metadata": {},
   "outputs": [
    {
     "name": "stdout",
     "output_type": "stream",
     "text": [
      "Robert King\n",
      "Julia Harpman\n"
     ]
    }
   ],
   "source": [
    "for name in clients.keys():\n",
    "    print(name)\n",
    "    client_description = name + ' ' + clients[name]['description']\n",
    "    messages[1]['content'] = message_1_content.format(client_description=client_description)\n",
    "    \n",
    "    response = get_completion_from_messages(messages, temperature=0.0)\n",
    "    clients[name]['docs'] = json.loads(response.replace(\"'\", \"\\\"\"))"
   ]
  },
  {
   "cell_type": "code",
   "execution_count": 9,
   "id": "085baf37-a87e-4e0a-ae82-2247d2c049f4",
   "metadata": {},
   "outputs": [
    {
     "name": "stdout",
     "output_type": "stream",
     "text": [
      "{'_linkedin.html': {'Employment 1': 'Hedge Fund A, CEO', 'Employment 2': 'Hedge Fund B, Senior Portfolio Manager', 'Education': 'Stanford University, MBA', 'Board Member': 'San Francisco Chamber of Commerce, Board Director', 'Bio': 'Robert King is an experienced finance professional with a strong background in hedge funds. He currently serves as the CEO of Hedge Fund A in San Francisco. Prior to this role, he worked as a Senior Portfolio Manager at Hedge Fund B. Robert is also actively involved in the local community and serves as a Board Director for the San Francisco Chamber of Commerce.'}, '_wealthx.html': {'Estimated Net Worth': 'At least $100 million', 'Estimated Liquid Assets': 'At least $50 million', 'Estimated Household Wealth': 'At least $150 million', 'Estimated Household Liquid Assets': 'At least $50 million', 'Estimated Family Net Worth': 'At least $500 million', 'Interests, Passions, Hobbies': 'Philanthropy and art collecting'}, '_relsci.html': {'Boards & Committees (Corporate)': 'Tech Company X, Board Director', 'Boards & Committees (Nonprofit)': 'San Francisco Museum of Modern Art, Trustee', 'Former/Prior Boards & Committees (Corporate)': 'Financial Institution Y, Board Director', 'Former/Prior Boards & Committees (Nonprofit)': 'Local Charity Z, Trustee'}, '_equilar.html': {'Stock sold - Equity Transactions (Last 36 Months)': '$10 million', 'New Equity Grants - Equity Transactions (Last 36 Months)': '$5 million', 'Options Exercised - Equity Transactions (Last 36 Months)': '$2 million', 'Equity Holdings - Equity Transactions': '$20 million', 'Annual Compensation': '$5 million', 'Stock Sold': 'CEO, $1M at Hedge Fund A, June 1 2023 (SEC) | June 1 2023 (Effective)'}, '_zoominfo.html': {'Personal Email': 'robertking@email.com'}, '_pitchbook.html': {'Lead partner on deals': {'Company': 'Tech Startup XYZ', 'Deal Date': 'May 15, 2023', 'Deal Type': 'Series B', 'Deal Size': '$30M', 'Deal Status': 'Completed', 'Location': 'San Francisco, CA', 'Representing': 'Sequoia Capital'}, 'Investor bio': 'Robert King is a seasoned investor with a focus on technology startups. He has led several successful deals, including the recent Series B funding round for Tech Startup XYZ.'}, '_google.html': {'Article 1': {'Title': 'Robert King donates $1 million to local charity', 'Date': 'March 10, 2023', 'Abstract': 'In a generous act of philanthropy, Robert King has donated $1 million to a local charity. The donation will support various community programs and initiatives.'}}}\n",
      "{'_linkedin.html': {'Employment 1': 'Daily News, Crime Reporter', 'Employment 2': '', 'Education': '', 'Board Member': '', 'Bio': 'Julia Harpman is a dedicated crime reporter for the Daily News. With her sharp investigative skills and passion for uncovering the truth, she has become a respected journalist in the field. Julia is committed to bringing justice to the victims and shedding light on the dark underbelly of society. She is a relentless seeker of truth and a voice for the voiceless.'}, '_wealthx.html': {'Estimated Net Worth': 'Not applicable', 'Estimated Liquid Assets': 'Not applicable', 'Estimated Household Wealth': 'Not applicable', 'Estimated Household Liquid Assets': 'Not applicable', 'Estimated Family Net Worth': 'Not applicable', 'Interests, Passions, Hobbies': ''}, '_relsci.html': {'Boards & Committees (Corporate)': '', 'Boards & Committees (Nonprofit)': '', 'Former/Prior Boards & Committees (Corporate)': '', 'Former/Prior Boards & Committees (Nonprofit)': ''}, '_equilar.html': {'Stock sold - Equity Transactions (Last 36 Months)': 'Not applicable', 'New Equity Grants - Equity Transactions (Last 36 Months)': 'Not applicable', 'Options Exercised - Equity Transactions (Last 36 Months)': 'Not applicable', 'Equity Holdings - Equity Transactions': 'Not applicable', 'Annual Compensation': 'Not applicable', 'Stock Sold': ''}, '_zoominfo.html': {'Personal Email': ''}, '_pitchbook.html': {'Lead partner on deals': {}, 'Investor bio': ''}, '_google.html': {'Article 1': {}}}\n"
     ]
    }
   ],
   "source": [
    "for name in clients.keys():\n",
    "    print(clients[name]['docs'])"
   ]
  },
  {
   "cell_type": "code",
   "execution_count": 22,
   "id": "c7d8aae6-ccd3-44c2-9b1d-13a6f66985a9",
   "metadata": {},
   "outputs": [],
   "source": [
    "# convert to html files\n",
    "def html_dump(clients):\n",
    "    '''Convert to html from clients dictionary'''\n",
    "    for name in clients.keys():\n",
    "        docs = clients[name]['docs']\n",
    "        for doc_name in docs.keys():\n",
    "            doc = docs[doc_name]\n",
    "            output_name = 'data/text/' + (name.replace(' ', '_') + doc_name)\n",
    "            html = ''\n",
    "            for key, val in doc.items():\n",
    "                if isinstance(val, dict): # if nested dict, present as list\n",
    "                    html += f'<p>{key}:<ul>\\n'\n",
    "                    for nested_key, nested_val in val.items():\n",
    "                        html += f'\\t<li>{nested_key}: {nested_val}</li>\\n'\n",
    "                    html += '</ul></p>\\n'\n",
    "                else:\n",
    "                    html += f'<p>{key}: {val}</p>\\n'\n",
    "\n",
    "            with open(output_name, 'w') as fout:\n",
    "                fout.write(html)    "
   ]
  },
  {
   "cell_type": "code",
   "execution_count": 23,
   "id": "a044793e-e789-4d4a-96f9-ebc77b6b3508",
   "metadata": {},
   "outputs": [],
   "source": [
    "html_dump(clients)"
   ]
  },
  {
   "cell_type": "code",
   "execution_count": null,
   "id": "b50b4fe6-2712-468f-8b0c-c17a49ae5a2b",
   "metadata": {},
   "outputs": [],
   "source": []
  }
 ],
 "metadata": {
  "kernelspec": {
   "display_name": "Python 3 (ipykernel)",
   "language": "python",
   "name": "python3"
  },
  "language_info": {
   "codemirror_mode": {
    "name": "ipython",
    "version": 3
   },
   "file_extension": ".py",
   "mimetype": "text/x-python",
   "name": "python",
   "nbconvert_exporter": "python",
   "pygments_lexer": "ipython3",
   "version": "3.11.3"
   "version": "3.9.13"
  }
 },
 "nbformat": 4,
 "nbformat_minor": 5
}
